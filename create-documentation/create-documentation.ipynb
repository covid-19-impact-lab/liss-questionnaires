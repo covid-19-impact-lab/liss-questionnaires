{
 "cells": [
  {
   "cell_type": "markdown",
   "metadata": {},
   "source": [
    "# Create Documentation .rst-Files from Data Description Table"
   ]
  },
  {
   "cell_type": "markdown",
   "metadata": {
    "toc": true
   },
   "source": [
    "<h1>Table of Contents<span class=\"tocSkip\"></span></h1>\n",
    "<div class=\"toc\"><ul class=\"toc-item\"><li><span><a href=\"#Read-in-Codebook-&amp;-Set-Variable-Names\" data-toc-modified-id=\"Read-in-Codebook-&amp;-Set-Variable-Names-1\"><span class=\"toc-item-num\">1&nbsp;&nbsp;</span>Read in Codebook &amp; Set Variable Names</a></span></li><li><span><a href=\"#Create-Documentation\" data-toc-modified-id=\"Create-Documentation-2\"><span class=\"toc-item-num\">2&nbsp;&nbsp;</span>Create Documentation</a></span><ul class=\"toc-item\"><li><span><a href=\"#Create-documentation-files\" data-toc-modified-id=\"Create-documentation-files-2.1\"><span class=\"toc-item-num\">2.1&nbsp;&nbsp;</span>Create documentation files</a></span></li></ul></li></ul></div>"
   ]
  },
  {
   "cell_type": "code",
   "execution_count": 1,
   "metadata": {},
   "outputs": [],
   "source": [
    "import os\n",
    "import pandas as pd\n",
    "import numpy as np\n",
    "from functions import *"
   ]
  },
  {
   "cell_type": "markdown",
   "metadata": {},
   "source": [
    "## Read in Codebook & Set Variable Names"
   ]
  },
  {
   "cell_type": "markdown",
   "metadata": {},
   "source": [
    "Specifiy column names that should be used to create the files:\n",
    "\n",
    "* **q_groups**: Variable groups, groups will be used as sections in the topic files.\n",
    "* **q_label**: Should contain the question.\n",
    "* **q_type**: Should contain the question type. The following types are currently accepted: [Categorical,bool, int, float, str]\n",
    "* **q_topics**: Topic groups, each topic will get its own .rst-file.\n",
    "* **gesis_indicator**: Indicator for whether the question is also in the GESIS questionnaire."
   ]
  },
  {
   "cell_type": "code",
   "execution_count": 2,
   "metadata": {},
   "outputs": [],
   "source": [
    "q_topics = \"topic_english\"\n",
    "q_groups = \"group_english\"\n",
    "q_label = \"label_english\"\n",
    "q_type = \"type\"\n",
    "q_categories = \"categories_english\"\n",
    "q_varname = \"new_name\"\n",
    "q_ids = \"qid\"\n",
    "sqid=\"id\"\n",
    "q_layout=\"layout\"\n",
    "q_fiter=\"filter\"\n",
    "q_text =\"question_english\"\n",
    "q_sub_text=\"subquestion_english\"\n",
    "q_numbers=\"question_number\""
   ]
  },
  {
   "cell_type": "code",
   "execution_count": 3,
   "metadata": {},
   "outputs": [],
   "source": [
    "target_dir = \"rst-files-pages/\""
   ]
  },
  {
   "cell_type": "markdown",
   "metadata": {},
   "source": [
    "Load codebook/description table:"
   ]
  },
  {
   "cell_type": "code",
   "execution_count": 4,
   "metadata": {},
   "outputs": [
    {
     "data": {
      "text/html": [
       "<div>\n",
       "<style scoped>\n",
       "    .dataframe tbody tr th:only-of-type {\n",
       "        vertical-align: middle;\n",
       "    }\n",
       "\n",
       "    .dataframe tbody tr th {\n",
       "        vertical-align: top;\n",
       "    }\n",
       "\n",
       "    .dataframe thead th {\n",
       "        text-align: right;\n",
       "    }\n",
       "</style>\n",
       "<table border=\"1\" class=\"dataframe\">\n",
       "  <thead>\n",
       "    <tr style=\"text-align: right;\">\n",
       "      <th></th>\n",
       "      <th>new_name</th>\n",
       "      <th>group_english</th>\n",
       "      <th>label_english</th>\n",
       "      <th>nice_name_english</th>\n",
       "    </tr>\n",
       "  </thead>\n",
       "  <tbody>\n",
       "    <tr>\n",
       "      <th>0</th>\n",
       "      <td>p_infected</td>\n",
       "      <td>Subjective Risks</td>\n",
       "      <td>How likely do you think it is that you will be...</td>\n",
       "      <td>Be Infected</td>\n",
       "    </tr>\n",
       "    <tr>\n",
       "      <th>1</th>\n",
       "      <td>p_acquaintance_infected</td>\n",
       "      <td>Subjective Risks</td>\n",
       "      <td>How likely do you think it is that someone in ...</td>\n",
       "      <td>Friend Infected</td>\n",
       "    </tr>\n",
       "    <tr>\n",
       "      <th>2</th>\n",
       "      <td>p_hospital_if_infect_self</td>\n",
       "      <td>Subjective Risks</td>\n",
       "      <td>How likely do you think it is that you will ne...</td>\n",
       "      <td>Hospitalized</td>\n",
       "    </tr>\n",
       "    <tr>\n",
       "      <th>3</th>\n",
       "      <td>p_infected_and_pass_on</td>\n",
       "      <td>Subjective Risks</td>\n",
       "      <td>How likely do you think it is that you will ge...</td>\n",
       "      <td>Spread Virus</td>\n",
       "    </tr>\n",
       "    <tr>\n",
       "      <th>4</th>\n",
       "      <td>p_hospital_healthy_5</td>\n",
       "      <td>Vignettes: Risk of Hospitalization</td>\n",
       "      <td>How big do you think the chances are that an o...</td>\n",
       "      <td>Healthy Child</td>\n",
       "    </tr>\n",
       "  </tbody>\n",
       "</table>\n",
       "</div>"
      ],
      "text/plain": [
       "                    new_name                       group_english  \\\n",
       "0                 p_infected                    Subjective Risks   \n",
       "1    p_acquaintance_infected                    Subjective Risks   \n",
       "2  p_hospital_if_infect_self                    Subjective Risks   \n",
       "3     p_infected_and_pass_on                    Subjective Risks   \n",
       "4       p_hospital_healthy_5  Vignettes: Risk of Hospitalization   \n",
       "\n",
       "                                       label_english nice_name_english  \n",
       "0  How likely do you think it is that you will be...       Be Infected  \n",
       "1  How likely do you think it is that someone in ...   Friend Infected  \n",
       "2  How likely do you think it is that you will ne...      Hospitalized  \n",
       "3  How likely do you think it is that you will ge...      Spread Virus  \n",
       "4  How big do you think the chances are that an o...     Healthy Child  "
      ]
     },
     "execution_count": 4,
     "metadata": {},
     "output_type": "execute_result"
    }
   ],
   "source": [
    "codebook_dashboard = pd.read_csv(\"covid19_data_description_dashboard.csv\", sep = \";\")\n",
    "codebook_dashboard.head()"
   ]
  },
  {
   "cell_type": "code",
   "execution_count": 5,
   "metadata": {},
   "outputs": [
    {
     "data": {
      "text/html": [
       "<div>\n",
       "<style scoped>\n",
       "    .dataframe tbody tr th:only-of-type {\n",
       "        vertical-align: middle;\n",
       "    }\n",
       "\n",
       "    .dataframe tbody tr th {\n",
       "        vertical-align: top;\n",
       "    }\n",
       "\n",
       "    .dataframe thead th {\n",
       "        text-align: right;\n",
       "    }\n",
       "</style>\n",
       "<table border=\"1\" class=\"dataframe\">\n",
       "  <thead>\n",
       "    <tr style=\"text-align: right;\">\n",
       "      <th></th>\n",
       "      <th>new_name</th>\n",
       "      <th>question_number</th>\n",
       "      <th>qid</th>\n",
       "      <th>id</th>\n",
       "      <th>layout</th>\n",
       "      <th>filter</th>\n",
       "      <th>question_english</th>\n",
       "      <th>subquestion_english</th>\n",
       "      <th>categories_english</th>\n",
       "      <th>group_english</th>\n",
       "      <th>label_english</th>\n",
       "      <th>nice_name_english</th>\n",
       "      <th>ordered</th>\n",
       "      <th>topic_english</th>\n",
       "      <th>type</th>\n",
       "    </tr>\n",
       "  </thead>\n",
       "  <tbody>\n",
       "    <tr>\n",
       "      <th>0</th>\n",
       "      <td>p_infected</td>\n",
       "      <td>1.0</td>\n",
       "      <td>q1</td>\n",
       "      <td>q1a</td>\n",
       "      <td>table</td>\n",
       "      <td>NaN</td>\n",
       "      <td>How likely do you think that the following eve...</td>\n",
       "      <td>You will be infected</td>\n",
       "      <td>not at all likely, very unlikely, rather unlik...</td>\n",
       "      <td>Subjective Risks</td>\n",
       "      <td>How likely do you think it is that you will be...</td>\n",
       "      <td>Be Infected</td>\n",
       "      <td>True</td>\n",
       "      <td>Health Beliefs</td>\n",
       "      <td>Categorical</td>\n",
       "    </tr>\n",
       "    <tr>\n",
       "      <th>1</th>\n",
       "      <td>p_acquaintance_infected</td>\n",
       "      <td>1.0</td>\n",
       "      <td>q1</td>\n",
       "      <td>q1b</td>\n",
       "      <td>table</td>\n",
       "      <td>NaN</td>\n",
       "      <td>How likely do you think that the following eve...</td>\n",
       "      <td>Someone in your direct environment (family, fr...</td>\n",
       "      <td>not at all likely, very unlikely, rather unlik...</td>\n",
       "      <td>Subjective Risks</td>\n",
       "      <td>How likely do you think it is that someone in ...</td>\n",
       "      <td>Friend Infected</td>\n",
       "      <td>True</td>\n",
       "      <td>Health Beliefs</td>\n",
       "      <td>Categorical</td>\n",
       "    </tr>\n",
       "    <tr>\n",
       "      <th>2</th>\n",
       "      <td>p_hospital_if_infect_self</td>\n",
       "      <td>1.0</td>\n",
       "      <td>q1</td>\n",
       "      <td>q1c</td>\n",
       "      <td>table</td>\n",
       "      <td>NaN</td>\n",
       "      <td>How likely do you think that the following eve...</td>\n",
       "      <td>You will have to go to the hospital if you get...</td>\n",
       "      <td>not at all likely, very unlikely, rather unlik...</td>\n",
       "      <td>Subjective Risks</td>\n",
       "      <td>How likely do you think it is that you will ne...</td>\n",
       "      <td>Hospitalized</td>\n",
       "      <td>True</td>\n",
       "      <td>Health Beliefs</td>\n",
       "      <td>Categorical</td>\n",
       "    </tr>\n",
       "    <tr>\n",
       "      <th>3</th>\n",
       "      <td>p_quarantine</td>\n",
       "      <td>1.0</td>\n",
       "      <td>q1</td>\n",
       "      <td>q1d</td>\n",
       "      <td>table</td>\n",
       "      <td>NaN</td>\n",
       "      <td>How likely do you think that the following eve...</td>\n",
       "      <td>You will have to go into quarantine independen...</td>\n",
       "      <td>not at all likely, very unlikely, rather unlik...</td>\n",
       "      <td>Subjective Risks</td>\n",
       "      <td>How likely do you think it is that you will be...</td>\n",
       "      <td>Quarantine</td>\n",
       "      <td>True</td>\n",
       "      <td>Health Beliefs</td>\n",
       "      <td>Categorical</td>\n",
       "    </tr>\n",
       "    <tr>\n",
       "      <th>4</th>\n",
       "      <td>p_infected_and_pass_on</td>\n",
       "      <td>1.0</td>\n",
       "      <td>q1</td>\n",
       "      <td>q1e</td>\n",
       "      <td>table</td>\n",
       "      <td>NaN</td>\n",
       "      <td>How likely do you think that the following eve...</td>\n",
       "      <td>You get infected and you infect someone else</td>\n",
       "      <td>not at all likely, very unlikely, rather unlik...</td>\n",
       "      <td>Subjective Risks</td>\n",
       "      <td>How likely do you think it is that you will ge...</td>\n",
       "      <td>Spread Virus</td>\n",
       "      <td>True</td>\n",
       "      <td>Health Beliefs</td>\n",
       "      <td>Categorical</td>\n",
       "    </tr>\n",
       "  </tbody>\n",
       "</table>\n",
       "</div>"
      ],
      "text/plain": [
       "                    new_name  question_number qid   id layout filter  \\\n",
       "0                 p_infected              1.0  q1  q1a  table    NaN   \n",
       "1    p_acquaintance_infected              1.0  q1  q1b  table    NaN   \n",
       "2  p_hospital_if_infect_self              1.0  q1  q1c  table    NaN   \n",
       "3               p_quarantine              1.0  q1  q1d  table    NaN   \n",
       "4     p_infected_and_pass_on              1.0  q1  q1e  table    NaN   \n",
       "\n",
       "                                    question_english  \\\n",
       "0  How likely do you think that the following eve...   \n",
       "1  How likely do you think that the following eve...   \n",
       "2  How likely do you think that the following eve...   \n",
       "3  How likely do you think that the following eve...   \n",
       "4  How likely do you think that the following eve...   \n",
       "\n",
       "                                 subquestion_english  \\\n",
       "0                               You will be infected   \n",
       "1  Someone in your direct environment (family, fr...   \n",
       "2  You will have to go to the hospital if you get...   \n",
       "3  You will have to go into quarantine independen...   \n",
       "4       You get infected and you infect someone else   \n",
       "\n",
       "                                  categories_english     group_english  \\\n",
       "0  not at all likely, very unlikely, rather unlik...  Subjective Risks   \n",
       "1  not at all likely, very unlikely, rather unlik...  Subjective Risks   \n",
       "2  not at all likely, very unlikely, rather unlik...  Subjective Risks   \n",
       "3  not at all likely, very unlikely, rather unlik...  Subjective Risks   \n",
       "4  not at all likely, very unlikely, rather unlik...  Subjective Risks   \n",
       "\n",
       "                                       label_english nice_name_english  \\\n",
       "0  How likely do you think it is that you will be...       Be Infected   \n",
       "1  How likely do you think it is that someone in ...   Friend Infected   \n",
       "2  How likely do you think it is that you will ne...      Hospitalized   \n",
       "3  How likely do you think it is that you will be...        Quarantine   \n",
       "4  How likely do you think it is that you will ge...      Spread Virus   \n",
       "\n",
       "  ordered   topic_english         type  \n",
       "0    True  Health Beliefs  Categorical  \n",
       "1    True  Health Beliefs  Categorical  \n",
       "2    True  Health Beliefs  Categorical  \n",
       "3    True  Health Beliefs  Categorical  \n",
       "4    True  Health Beliefs  Categorical  "
      ]
     },
     "execution_count": 5,
     "metadata": {},
     "output_type": "execute_result"
    }
   ],
   "source": [
    "codebook_full = pd.read_csv(\"covid19_data_codebook.csv\", sep = \";\")\n",
    "codebook_full.head()"
   ]
  },
  {
   "cell_type": "code",
   "execution_count": 6,
   "metadata": {},
   "outputs": [],
   "source": [
    "codebook_full= codebook_full.drop([\"group_english\",\"label_english\",\"nice_name_english\"], axis=1)"
   ]
  },
  {
   "cell_type": "code",
   "execution_count": 7,
   "metadata": {},
   "outputs": [],
   "source": [
    "codebook = codebook_full.merge(codebook_dashboard, how=\"outer\", on=[\"new_name\"])"
   ]
  },
  {
   "cell_type": "code",
   "execution_count": 8,
   "metadata": {},
   "outputs": [],
   "source": [
    "# Removed undesired groups.\n",
    "codebook = codebook[codebook[q_groups].notna()]\n",
    "codebook = codebook[codebook[q_ids].notna()]\n",
    "\n",
    "for val in ['Skip','questionnaire','background', None]:\n",
    "    codebook = codebook[codebook[q_groups] != val]"
   ]
  },
  {
   "cell_type": "code",
   "execution_count": 9,
   "metadata": {},
   "outputs": [],
   "source": [
    "codebook = codebook.sort_values(by=q_numbers)"
   ]
  },
  {
   "cell_type": "markdown",
   "metadata": {},
   "source": [
    "## Create Documentation"
   ]
  },
  {
   "cell_type": "code",
   "execution_count": 10,
   "metadata": {
    "scrolled": true
   },
   "outputs": [],
   "source": [
    "create_pages(codebook, q_ids, q_groups, q_layout, q_text, q_sub_text, q_categories, q_varname, target_dir)"
   ]
  },
  {
   "cell_type": "code",
   "execution_count": null,
   "metadata": {},
   "outputs": [],
   "source": []
  },
  {
   "cell_type": "markdown",
   "metadata": {},
   "source": [
    "### Create documentation files"
   ]
  },
  {
   "cell_type": "code",
   "execution_count": 11,
   "metadata": {},
   "outputs": [],
   "source": [
    "#create_topic_folders(codebook, q_topics, target_dir)"
   ]
  },
  {
   "cell_type": "code",
   "execution_count": 12,
   "metadata": {},
   "outputs": [],
   "source": [
    "#create_group_file(codebook, q_topics, q_groups, q_type, q_label, q_categories, q_varname, target_dir,True)"
   ]
  },
  {
   "cell_type": "code",
   "execution_count": 13,
   "metadata": {},
   "outputs": [],
   "source": [
    "#topics = get_rst_names(list(codebook[q_topics].unique()))\n",
    "#topics"
   ]
  }
 ],
 "metadata": {
  "kernelspec": {
   "display_name": "Python 3",
   "language": "python",
   "name": "python3"
  },
  "language_info": {
   "codemirror_mode": {
    "name": "ipython",
    "version": 3
   },
   "file_extension": ".py",
   "mimetype": "text/x-python",
   "name": "python",
   "nbconvert_exporter": "python",
   "pygments_lexer": "ipython3",
   "version": "3.7.6"
  },
  "toc": {
   "base_numbering": 1,
   "nav_menu": {},
   "number_sections": true,
   "sideBar": true,
   "skip_h1_title": true,
   "title_cell": "Table of Contents",
   "title_sidebar": "Contents",
   "toc_cell": true,
   "toc_position": {},
   "toc_section_display": true,
   "toc_window_display": false
  },
  "varInspector": {
   "cols": {
    "lenName": 16,
    "lenType": 16,
    "lenVar": 40
   },
   "kernels_config": {
    "python": {
     "delete_cmd_postfix": "",
     "delete_cmd_prefix": "del ",
     "library": "var_list.py",
     "varRefreshCmd": "print(var_dic_list())"
    },
    "r": {
     "delete_cmd_postfix": ") ",
     "delete_cmd_prefix": "rm(",
     "library": "var_list.r",
     "varRefreshCmd": "cat(var_dic_list()) "
    }
   },
   "types_to_exclude": [
    "module",
    "function",
    "builtin_function_or_method",
    "instance",
    "_Feature"
   ],
   "window_display": false
  }
 },
 "nbformat": 4,
 "nbformat_minor": 2
}
