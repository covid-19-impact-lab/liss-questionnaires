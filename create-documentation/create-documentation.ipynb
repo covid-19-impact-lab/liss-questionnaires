{
 "cells": [
  {
   "cell_type": "markdown",
   "metadata": {},
   "source": [
    "# Create Documentation .rst-Files from Data Description Table"
   ]
  },
  {
   "cell_type": "markdown",
   "metadata": {
    "toc": true
   },
   "source": [
    "<h1>Table of Contents<span class=\"tocSkip\"></span></h1>\n",
    "<div class=\"toc\"><ul class=\"toc-item\"><li><span><a href=\"#Read-in-Codebook-&amp;-Set-Variable-Names\" data-toc-modified-id=\"Read-in-Codebook-&amp;-Set-Variable-Names-1\"><span class=\"toc-item-num\">1&nbsp;&nbsp;</span>Read in Codebook &amp; Set Variable Names</a></span></li><li><span><a href=\"#Create-Documentation\" data-toc-modified-id=\"Create-Documentation-2\"><span class=\"toc-item-num\">2&nbsp;&nbsp;</span>Create Documentation</a></span><ul class=\"toc-item\"><li><span><a href=\"#Create-documentation-files\" data-toc-modified-id=\"Create-documentation-files-2.1\"><span class=\"toc-item-num\">2.1&nbsp;&nbsp;</span>Create documentation files</a></span></li></ul></li></ul></div>"
   ]
  },
  {
   "cell_type": "code",
   "execution_count": 1,
   "metadata": {},
   "outputs": [],
   "source": [
    "import pandas as pd\n",
    "from functions import *"
   ]
  },
  {
   "cell_type": "markdown",
   "metadata": {},
   "source": [
    "## Read in Codebook & Set Variable Names"
   ]
  },
  {
   "cell_type": "markdown",
   "metadata": {},
   "source": [
    "Specifiy column names that should be used to create the files:\n",
    "\n",
    "* **q_topics**: Topic groups, each topic will get its own .rst-file.\n",
    "* **q_groups**: Variable groups, groups will be used as sections in the topic files.\n",
    "* **q_label**: Should contain the question.\n",
    "* **q_type**: Should contain the question type. The following types are currently accepted: [Categorical,bool, int, float, str]\n",
    "* **gesis_indicator**: Indicator for whether the question is also in the GESIS questionnaire."
   ]
  },
  {
   "cell_type": "code",
   "execution_count": 2,
   "metadata": {},
   "outputs": [],
   "source": [
    "q_topics = \"topic_english\"\n",
    "q_groups = \"group\"\n",
    "q_label = \"label_english\"\n",
    "q_type = \"type\"\n",
    "q_categories = \"categories_english\"\n",
    "gesis_indicator = \"gesis\""
   ]
  },
  {
   "cell_type": "markdown",
   "metadata": {},
   "source": [
    "Load codebook/description table:"
   ]
  },
  {
   "cell_type": "code",
   "execution_count": 3,
   "metadata": {},
   "outputs": [
    {
     "data": {
      "text/html": [
       "<div>\n",
       "<style scoped>\n",
       "    .dataframe tbody tr th:only-of-type {\n",
       "        vertical-align: middle;\n",
       "    }\n",
       "\n",
       "    .dataframe tbody tr th {\n",
       "        vertical-align: top;\n",
       "    }\n",
       "\n",
       "    .dataframe thead th {\n",
       "        text-align: right;\n",
       "    }\n",
       "</style>\n",
       "<table border=\"1\" class=\"dataframe\">\n",
       "  <thead>\n",
       "    <tr style=\"text-align: right;\">\n",
       "      <th></th>\n",
       "      <th>gesis</th>\n",
       "      <th>xyx-corona-questionnaire.dta</th>\n",
       "      <th>new_name</th>\n",
       "      <th>topic_english</th>\n",
       "      <th>group</th>\n",
       "      <th>label_english</th>\n",
       "      <th>type</th>\n",
       "      <th>categories_english</th>\n",
       "      <th>ordered</th>\n",
       "      <th>nice_name_english</th>\n",
       "    </tr>\n",
       "  </thead>\n",
       "  <tbody>\n",
       "    <tr>\n",
       "      <td>0</td>\n",
       "      <td>True</td>\n",
       "      <td>q1a</td>\n",
       "      <td>p_infected</td>\n",
       "      <td>Media and Health Beliefs</td>\n",
       "      <td>Subjective Risk of Getting or Spreading</td>\n",
       "      <td>How likely do you think it is that you will be...</td>\n",
       "      <td>Categorical</td>\n",
       "      <td>not at all likely, very unlikely, rather unlik...</td>\n",
       "      <td>True</td>\n",
       "      <td>Be Infected</td>\n",
       "    </tr>\n",
       "    <tr>\n",
       "      <td>1</td>\n",
       "      <td>True</td>\n",
       "      <td>q1b</td>\n",
       "      <td>p_acquaintance_infected</td>\n",
       "      <td>Media and Health Beliefs</td>\n",
       "      <td>Subjective Risk of Getting or Spreading</td>\n",
       "      <td>How likely do you think it is that someone in ...</td>\n",
       "      <td>Categorical</td>\n",
       "      <td>not at all likely, very unlikely, rather unlik...</td>\n",
       "      <td>True</td>\n",
       "      <td>Friend Infected</td>\n",
       "    </tr>\n",
       "    <tr>\n",
       "      <td>2</td>\n",
       "      <td>True</td>\n",
       "      <td>q1c</td>\n",
       "      <td>p_hospital_if_infect_self</td>\n",
       "      <td>Media and Health Beliefs</td>\n",
       "      <td>Subjective Risk of Getting or Spreading</td>\n",
       "      <td>How likely do you think it is that you will ne...</td>\n",
       "      <td>Categorical</td>\n",
       "      <td>not at all likely, very unlikely, rather unlik...</td>\n",
       "      <td>True</td>\n",
       "      <td>Hospitalized</td>\n",
       "    </tr>\n",
       "    <tr>\n",
       "      <td>3</td>\n",
       "      <td>True</td>\n",
       "      <td>q1d</td>\n",
       "      <td>p_quarantine</td>\n",
       "      <td>Media and Health Beliefs</td>\n",
       "      <td>Subjective Risk of Getting or Spreading</td>\n",
       "      <td>How likely do you think it is that you will be...</td>\n",
       "      <td>Categorical</td>\n",
       "      <td>not at all likely, very unlikely, rather unlik...</td>\n",
       "      <td>True</td>\n",
       "      <td>Quarantine</td>\n",
       "    </tr>\n",
       "    <tr>\n",
       "      <td>4</td>\n",
       "      <td>True</td>\n",
       "      <td>q1e</td>\n",
       "      <td>p_infected_and_pass_on</td>\n",
       "      <td>Media and Health Beliefs</td>\n",
       "      <td>Subjective Risk of Getting or Spreading</td>\n",
       "      <td>How likely do you think it is that you will ge...</td>\n",
       "      <td>Categorical</td>\n",
       "      <td>not at all likely, very unlikely, rather unlik...</td>\n",
       "      <td>True</td>\n",
       "      <td>Spread Virus</td>\n",
       "    </tr>\n",
       "  </tbody>\n",
       "</table>\n",
       "</div>"
      ],
      "text/plain": [
       "   gesis xyx-corona-questionnaire.dta                   new_name  \\\n",
       "0   True                          q1a                 p_infected   \n",
       "1   True                          q1b    p_acquaintance_infected   \n",
       "2   True                          q1c  p_hospital_if_infect_self   \n",
       "3   True                          q1d               p_quarantine   \n",
       "4   True                          q1e     p_infected_and_pass_on   \n",
       "\n",
       "              topic_english                                    group  \\\n",
       "0  Media and Health Beliefs  Subjective Risk of Getting or Spreading   \n",
       "1  Media and Health Beliefs  Subjective Risk of Getting or Spreading   \n",
       "2  Media and Health Beliefs  Subjective Risk of Getting or Spreading   \n",
       "3  Media and Health Beliefs  Subjective Risk of Getting or Spreading   \n",
       "4  Media and Health Beliefs  Subjective Risk of Getting or Spreading   \n",
       "\n",
       "                                       label_english         type  \\\n",
       "0  How likely do you think it is that you will be...  Categorical   \n",
       "1  How likely do you think it is that someone in ...  Categorical   \n",
       "2  How likely do you think it is that you will ne...  Categorical   \n",
       "3  How likely do you think it is that you will be...  Categorical   \n",
       "4  How likely do you think it is that you will ge...  Categorical   \n",
       "\n",
       "                                  categories_english ordered nice_name_english  \n",
       "0  not at all likely, very unlikely, rather unlik...    True       Be Infected  \n",
       "1  not at all likely, very unlikely, rather unlik...    True   Friend Infected  \n",
       "2  not at all likely, very unlikely, rather unlik...    True      Hospitalized  \n",
       "3  not at all likely, very unlikely, rather unlik...    True        Quarantine  \n",
       "4  not at all likely, very unlikely, rather unlik...    True      Spread Virus  "
      ]
     },
     "execution_count": 3,
     "metadata": {},
     "output_type": "execute_result"
    }
   ],
   "source": [
    "codebook = pd.read_csv(\"covid19_data_description.csv\", sep=\";\")\n",
    "codebook.head()"
   ]
  },
  {
   "cell_type": "code",
   "execution_count": 4,
   "metadata": {},
   "outputs": [],
   "source": [
    "target_dir = \"rst-files/\""
   ]
  },
  {
   "cell_type": "code",
   "execution_count": 5,
   "metadata": {},
   "outputs": [],
   "source": [
    "# Create indicator for GESIS that is an empty string in false.\n",
    "codebook[\"in_gesis\"] = codebook[gesis_indicator]\n",
    "codebook[\"in_gesis\"] = codebook[\"in_gesis\"].replace([True, False],[\"GESIS\", \"\"]) "
   ]
  },
  {
   "cell_type": "code",
   "execution_count": 6,
   "metadata": {},
   "outputs": [],
   "source": [
    "codebook = codebook[codebook[q_groups] != 'Skip']"
   ]
  },
  {
   "cell_type": "markdown",
   "metadata": {},
   "source": [
    "## Create Documentation"
   ]
  },
  {
   "cell_type": "markdown",
   "metadata": {},
   "source": [
    "### Create documentation files"
   ]
  },
  {
   "cell_type": "code",
   "execution_count": 7,
   "metadata": {},
   "outputs": [],
   "source": [
    "create_group_file(codebook, q_groups, q_type, q_label, q_categories, target_dir)"
   ]
  },
  {
   "cell_type": "code",
   "execution_count": 8,
   "metadata": {
    "scrolled": true
   },
   "outputs": [
    {
     "data": {
      "text/plain": [
       "['SubjectiveRiskofGettingorSpreading',\n",
       " 'SubjectiveRiskofHospitalization',\n",
       " 'SubjectiveRiskofDeath',\n",
       " 'SocialDistancing',\n",
       " 'HealthBehaviors',\n",
       " 'SubjectiveEffectivenessofPolicies',\n",
       " 'CompliancewithCurfew',\n",
       " 'AppropriatenessofPolicies',\n",
       " 'Trust',\n",
       " 'BackgroundVariables',\n",
       " 'WorkAdjustments',\n",
       " 'ChildcareAdjustments',\n",
       " 'MediaDiet',\n",
       " 'FacebookUsage',\n",
       " 'SubjectiveEffectivenessofHealthBehaviors',\n",
       " 'SubjectiveEffectivenessofSocialDistancing',\n",
       " 'ContactwiththeElderly',\n",
       " 'SupportforPolicies',\n",
       " 'ExpectedDurationofRestrictions',\n",
       " 'ReasonsforComplyingwithCurfew',\n",
       " 'ReasonsforDisobeyingaCurfew',\n",
       " 'WorkingHours',\n",
       " 'ReasonsforNotWorking',\n",
       " 'ReasonsforWorkingLess',\n",
       " 'ContactwithWorkersorStudents',\n",
       " 'ConsumptionPlans',\n",
       " 'UseofOne-TimeAllowance',\n",
       " 'EmployerProspects',\n",
       " 'ProbabilityofSevereFinancialDistress',\n",
       " 'EconomicCopingStrategies',\n",
       " 'MoodintheLastWeek',\n",
       " 'HealthConcerns',\n",
       " 'EconomicConcerns',\n",
       " 'DurationoftheEconomicCrisis',\n",
       " 'ProbabilitiesofEconomicRepercussions',\n",
       " 'HousePrices',\n",
       " 'Employment']"
      ]
     },
     "execution_count": 8,
     "metadata": {},
     "output_type": "execute_result"
    }
   ],
   "source": [
    "# Get list of file names for index\n",
    "get_rst_names(list(codebook[q_groups].unique()))"
   ]
  },
  {
   "cell_type": "code",
   "execution_count": null,
   "metadata": {},
   "outputs": [],
   "source": []
  },
  {
   "cell_type": "code",
   "execution_count": null,
   "metadata": {},
   "outputs": [],
   "source": []
  },
  {
   "cell_type": "code",
   "execution_count": null,
   "metadata": {},
   "outputs": [],
   "source": []
  }
 ],
 "metadata": {
  "kernelspec": {
   "display_name": "Python 3",
   "language": "python",
   "name": "python3"
  },
  "language_info": {
   "codemirror_mode": {
    "name": "ipython",
    "version": 3
   },
   "file_extension": ".py",
   "mimetype": "text/x-python",
   "name": "python",
   "nbconvert_exporter": "python",
   "pygments_lexer": "ipython3",
   "version": "3.7.4"
  },
  "toc": {
   "base_numbering": 1,
   "nav_menu": {},
   "number_sections": true,
   "sideBar": true,
   "skip_h1_title": true,
   "title_cell": "Table of Contents",
   "title_sidebar": "Contents",
   "toc_cell": true,
   "toc_position": {},
   "toc_section_display": true,
   "toc_window_display": false
  },
  "varInspector": {
   "cols": {
    "lenName": 16,
    "lenType": 16,
    "lenVar": 40
   },
   "kernels_config": {
    "python": {
     "delete_cmd_postfix": "",
     "delete_cmd_prefix": "del ",
     "library": "var_list.py",
     "varRefreshCmd": "print(var_dic_list())"
    },
    "r": {
     "delete_cmd_postfix": ") ",
     "delete_cmd_prefix": "rm(",
     "library": "var_list.r",
     "varRefreshCmd": "cat(var_dic_list()) "
    }
   },
   "types_to_exclude": [
    "module",
    "function",
    "builtin_function_or_method",
    "instance",
    "_Feature"
   ],
   "window_display": false
  }
 },
 "nbformat": 4,
 "nbformat_minor": 2
}
