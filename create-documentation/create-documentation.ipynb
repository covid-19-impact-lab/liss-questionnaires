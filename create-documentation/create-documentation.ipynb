{
 "cells": [
  {
   "cell_type": "markdown",
   "metadata": {},
   "source": [
    "# Create Documentation .rst-Files from Data Description Table"
   ]
  },
  {
   "cell_type": "markdown",
   "metadata": {
    "toc": true
   },
   "source": [
    "<h1>Table of Contents<span class=\"tocSkip\"></span></h1>\n",
    "<div class=\"toc\"><ul class=\"toc-item\"><li><span><a href=\"#Read-in-Codebook-&amp;-Set-Variable-Names\" data-toc-modified-id=\"Read-in-Codebook-&amp;-Set-Variable-Names-1\"><span class=\"toc-item-num\">1&nbsp;&nbsp;</span>Read in Codebook &amp; Set Variable Names</a></span></li><li><span><a href=\"#Create-Documentation\" data-toc-modified-id=\"Create-Documentation-2\"><span class=\"toc-item-num\">2&nbsp;&nbsp;</span>Create Documentation</a></span><ul class=\"toc-item\"><li><span><a href=\"#Create-documentation-files\" data-toc-modified-id=\"Create-documentation-files-2.1\"><span class=\"toc-item-num\">2.1&nbsp;&nbsp;</span>Create documentation files</a></span></li></ul></li></ul></div>"
   ]
  },
  {
   "cell_type": "code",
   "execution_count": 1,
   "metadata": {},
   "outputs": [],
   "source": [
    "import os\n",
    "import pandas as pd\n",
    "import numpy as np\n",
    "from functions import *"
   ]
  },
  {
   "cell_type": "markdown",
   "metadata": {},
   "source": [
    "## Read in Codebook & Set Variable Names"
   ]
  },
  {
   "cell_type": "markdown",
   "metadata": {},
   "source": [
    "Specifiy column names that should be used to create the files:\n",
    "\n",
    "* **q_groups**: Variable groups, groups will be used as sections in the topic files.\n",
    "* **q_label**: Should contain the question.\n",
    "* **q_type**: Should contain the question type. The following types are currently accepted: [Categorical,bool, int, float, str]\n",
    "* **q_topics**: Topic groups, each topic will get its own .rst-file.\n",
    "* **gesis_indicator**: Indicator for whether the question is also in the GESIS questionnaire."
   ]
  },
  {
   "cell_type": "code",
   "execution_count": 2,
   "metadata": {},
   "outputs": [],
   "source": [
    "q_topics = \"topic_english\"\n",
    "q_groups = \"group_english\"\n",
    "q_label = \"label_english\"\n",
    "q_type = \"type\"\n",
    "q_categories = \"categories_english\"\n",
    "q_varname = \"new_name\"\n",
    "gesis_indicator = \"gesis\""
   ]
  },
  {
   "cell_type": "code",
   "execution_count": 3,
   "metadata": {},
   "outputs": [],
   "source": [
    "target_dir = \"rst-files/\""
   ]
  },
  {
   "cell_type": "markdown",
   "metadata": {},
   "source": [
    "Load codebook/description table:"
   ]
  },
  {
   "cell_type": "code",
   "execution_count": 4,
   "metadata": {},
   "outputs": [
    {
     "data": {
      "text/html": [
       "<div>\n",
       "<style scoped>\n",
       "    .dataframe tbody tr th:only-of-type {\n",
       "        vertical-align: middle;\n",
       "    }\n",
       "\n",
       "    .dataframe tbody tr th {\n",
       "        vertical-align: top;\n",
       "    }\n",
       "\n",
       "    .dataframe thead th {\n",
       "        text-align: right;\n",
       "    }\n",
       "</style>\n",
       "<table border=\"1\" class=\"dataframe\">\n",
       "  <thead>\n",
       "    <tr style=\"text-align: right;\">\n",
       "      <th></th>\n",
       "      <th>new_name</th>\n",
       "      <th>categories_english</th>\n",
       "      <th>group_english</th>\n",
       "      <th>label_english</th>\n",
       "      <th>nice_name_english</th>\n",
       "      <th>ordered</th>\n",
       "      <th>topic_english</th>\n",
       "      <th>type</th>\n",
       "    </tr>\n",
       "  </thead>\n",
       "  <tbody>\n",
       "    <tr>\n",
       "      <td>0</td>\n",
       "      <td>p_infected</td>\n",
       "      <td>not at all likely, very unlikely, rather unlik...</td>\n",
       "      <td>Subjective Risks</td>\n",
       "      <td>How likely do you think it is that you will be...</td>\n",
       "      <td>Be Infected</td>\n",
       "      <td>True</td>\n",
       "      <td>Health Beliefs</td>\n",
       "      <td>Categorical</td>\n",
       "    </tr>\n",
       "    <tr>\n",
       "      <td>1</td>\n",
       "      <td>p_acquaintance_infected</td>\n",
       "      <td>not at all likely, very unlikely, rather unlik...</td>\n",
       "      <td>Subjective Risks</td>\n",
       "      <td>How likely do you think it is that someone in ...</td>\n",
       "      <td>Friend Infected</td>\n",
       "      <td>True</td>\n",
       "      <td>Health Beliefs</td>\n",
       "      <td>Categorical</td>\n",
       "    </tr>\n",
       "    <tr>\n",
       "      <td>2</td>\n",
       "      <td>p_hospital_if_infect_self</td>\n",
       "      <td>not at all likely, very unlikely, rather unlik...</td>\n",
       "      <td>Subjective Risks</td>\n",
       "      <td>How likely do you think it is that you will ne...</td>\n",
       "      <td>Hospitalized</td>\n",
       "      <td>True</td>\n",
       "      <td>Health Beliefs</td>\n",
       "      <td>Categorical</td>\n",
       "    </tr>\n",
       "    <tr>\n",
       "      <td>3</td>\n",
       "      <td>p_quarantine</td>\n",
       "      <td>not at all likely, very unlikely, rather unlik...</td>\n",
       "      <td>Subjective Risks</td>\n",
       "      <td>How likely do you think it is that you will be...</td>\n",
       "      <td>Quarantine</td>\n",
       "      <td>True</td>\n",
       "      <td>Health Beliefs</td>\n",
       "      <td>Categorical</td>\n",
       "    </tr>\n",
       "    <tr>\n",
       "      <td>4</td>\n",
       "      <td>p_infected_and_pass_on</td>\n",
       "      <td>not at all likely, very unlikely, rather unlik...</td>\n",
       "      <td>Subjective Risks</td>\n",
       "      <td>How likely do you think it is that you will ge...</td>\n",
       "      <td>Spread Virus</td>\n",
       "      <td>True</td>\n",
       "      <td>Health Beliefs</td>\n",
       "      <td>Categorical</td>\n",
       "    </tr>\n",
       "  </tbody>\n",
       "</table>\n",
       "</div>"
      ],
      "text/plain": [
       "                    new_name  \\\n",
       "0                 p_infected   \n",
       "1    p_acquaintance_infected   \n",
       "2  p_hospital_if_infect_self   \n",
       "3               p_quarantine   \n",
       "4     p_infected_and_pass_on   \n",
       "\n",
       "                                  categories_english     group_english  \\\n",
       "0  not at all likely, very unlikely, rather unlik...  Subjective Risks   \n",
       "1  not at all likely, very unlikely, rather unlik...  Subjective Risks   \n",
       "2  not at all likely, very unlikely, rather unlik...  Subjective Risks   \n",
       "3  not at all likely, very unlikely, rather unlik...  Subjective Risks   \n",
       "4  not at all likely, very unlikely, rather unlik...  Subjective Risks   \n",
       "\n",
       "                                       label_english nice_name_english  \\\n",
       "0  How likely do you think it is that you will be...       Be Infected   \n",
       "1  How likely do you think it is that someone in ...   Friend Infected   \n",
       "2  How likely do you think it is that you will ne...      Hospitalized   \n",
       "3  How likely do you think it is that you will be...        Quarantine   \n",
       "4  How likely do you think it is that you will ge...      Spread Virus   \n",
       "\n",
       "  ordered   topic_english         type  \n",
       "0    True  Health Beliefs  Categorical  \n",
       "1    True  Health Beliefs  Categorical  \n",
       "2    True  Health Beliefs  Categorical  \n",
       "3    True  Health Beliefs  Categorical  \n",
       "4    True  Health Beliefs  Categorical  "
      ]
     },
     "execution_count": 4,
     "metadata": {},
     "output_type": "execute_result"
    }
   ],
   "source": [
    "codebook = pd.read_csv(\"covid19_data_description.csv\", sep = \";\")\n",
    "codebook.head()"
   ]
  },
  {
   "cell_type": "code",
   "execution_count": 5,
   "metadata": {},
   "outputs": [],
   "source": [
    "# Removed undesired groups.\n",
    "codebook = codebook = codebook[codebook[q_groups].notna()]\n",
    "\n",
    "for var in ['Skip','questionnaire','background', None]:\n",
    "    codebook = codebook[codebook[q_groups] != var]\n",
    "    "
   ]
  },
  {
   "cell_type": "code",
   "execution_count": 6,
   "metadata": {},
   "outputs": [
    {
     "data": {
      "text/html": [
       "<div>\n",
       "<style scoped>\n",
       "    .dataframe tbody tr th:only-of-type {\n",
       "        vertical-align: middle;\n",
       "    }\n",
       "\n",
       "    .dataframe tbody tr th {\n",
       "        vertical-align: top;\n",
       "    }\n",
       "\n",
       "    .dataframe thead th {\n",
       "        text-align: right;\n",
       "    }\n",
       "</style>\n",
       "<table border=\"1\" class=\"dataframe\">\n",
       "  <thead>\n",
       "    <tr style=\"text-align: right;\">\n",
       "      <th></th>\n",
       "      <th>new_name</th>\n",
       "      <th>categories_english</th>\n",
       "      <th>group_english</th>\n",
       "      <th>label_english</th>\n",
       "      <th>nice_name_english</th>\n",
       "      <th>ordered</th>\n",
       "      <th>topic_english</th>\n",
       "      <th>type</th>\n",
       "    </tr>\n",
       "  </thead>\n",
       "  <tbody>\n",
       "    <tr>\n",
       "      <td>0</td>\n",
       "      <td>p_infected</td>\n",
       "      <td>not at all likely, very unlikely, rather unlik...</td>\n",
       "      <td>Subjective Risks</td>\n",
       "      <td>How likely do you think it is that you will be...</td>\n",
       "      <td>Be Infected</td>\n",
       "      <td>True</td>\n",
       "      <td>Health Beliefs</td>\n",
       "      <td>Categorical</td>\n",
       "    </tr>\n",
       "    <tr>\n",
       "      <td>1</td>\n",
       "      <td>p_acquaintance_infected</td>\n",
       "      <td>not at all likely, very unlikely, rather unlik...</td>\n",
       "      <td>Subjective Risks</td>\n",
       "      <td>How likely do you think it is that someone in ...</td>\n",
       "      <td>Friend Infected</td>\n",
       "      <td>True</td>\n",
       "      <td>Health Beliefs</td>\n",
       "      <td>Categorical</td>\n",
       "    </tr>\n",
       "    <tr>\n",
       "      <td>2</td>\n",
       "      <td>p_hospital_if_infect_self</td>\n",
       "      <td>not at all likely, very unlikely, rather unlik...</td>\n",
       "      <td>Subjective Risks</td>\n",
       "      <td>How likely do you think it is that you will ne...</td>\n",
       "      <td>Hospitalized</td>\n",
       "      <td>True</td>\n",
       "      <td>Health Beliefs</td>\n",
       "      <td>Categorical</td>\n",
       "    </tr>\n",
       "    <tr>\n",
       "      <td>3</td>\n",
       "      <td>p_quarantine</td>\n",
       "      <td>not at all likely, very unlikely, rather unlik...</td>\n",
       "      <td>Subjective Risks</td>\n",
       "      <td>How likely do you think it is that you will be...</td>\n",
       "      <td>Quarantine</td>\n",
       "      <td>True</td>\n",
       "      <td>Health Beliefs</td>\n",
       "      <td>Categorical</td>\n",
       "    </tr>\n",
       "    <tr>\n",
       "      <td>4</td>\n",
       "      <td>p_infected_and_pass_on</td>\n",
       "      <td>not at all likely, very unlikely, rather unlik...</td>\n",
       "      <td>Subjective Risks</td>\n",
       "      <td>How likely do you think it is that you will ge...</td>\n",
       "      <td>Spread Virus</td>\n",
       "      <td>True</td>\n",
       "      <td>Health Beliefs</td>\n",
       "      <td>Categorical</td>\n",
       "    </tr>\n",
       "    <tr>\n",
       "      <td>...</td>\n",
       "      <td>...</td>\n",
       "      <td>...</td>\n",
       "      <td>...</td>\n",
       "      <td>...</td>\n",
       "      <td>...</td>\n",
       "      <td>...</td>\n",
       "      <td>...</td>\n",
       "      <td>...</td>\n",
       "    </tr>\n",
       "    <tr>\n",
       "      <td>167</td>\n",
       "      <td>exp_postpone_house</td>\n",
       "      <td>0 totally disagree, 1, 2, 3, 4, 5, 6, 7, 8, 9,...</td>\n",
       "      <td>Consumption Plans Next 12 Months</td>\n",
       "      <td>If you think about the coronavirus outbreak at...</td>\n",
       "      <td>Delay House</td>\n",
       "      <td>True</td>\n",
       "      <td>Economic Expectations</td>\n",
       "      <td>Categorical</td>\n",
       "    </tr>\n",
       "    <tr>\n",
       "      <td>173</td>\n",
       "      <td>p_employed_keep</td>\n",
       "      <td>NaN</td>\n",
       "      <td>Employment</td>\n",
       "      <td>I will keep my job because my employer / compa...</td>\n",
       "      <td>Healthy Job</td>\n",
       "      <td>NaN</td>\n",
       "      <td>Economic Expectations</td>\n",
       "      <td>int</td>\n",
       "    </tr>\n",
       "    <tr>\n",
       "      <td>174</td>\n",
       "      <td>p_employed_keep_gov</td>\n",
       "      <td>NaN</td>\n",
       "      <td>Employment</td>\n",
       "      <td>I will keep my job because the government prov...</td>\n",
       "      <td>Job With Help</td>\n",
       "      <td>NaN</td>\n",
       "      <td>Economic Expectations</td>\n",
       "      <td>int</td>\n",
       "    </tr>\n",
       "    <tr>\n",
       "      <td>175</td>\n",
       "      <td>p_employed_lost</td>\n",
       "      <td>NaN</td>\n",
       "      <td>Employment</td>\n",
       "      <td>I will have lost my job or the number of hours...</td>\n",
       "      <td>No Income</td>\n",
       "      <td>NaN</td>\n",
       "      <td>Economic Expectations</td>\n",
       "      <td>int</td>\n",
       "    </tr>\n",
       "    <tr>\n",
       "      <td>176</td>\n",
       "      <td>p_employed_other</td>\n",
       "      <td>NaN</td>\n",
       "      <td>Employment</td>\n",
       "      <td>Something else is happening</td>\n",
       "      <td>Other</td>\n",
       "      <td>NaN</td>\n",
       "      <td>Economic Expectations</td>\n",
       "      <td>int</td>\n",
       "    </tr>\n",
       "  </tbody>\n",
       "</table>\n",
       "<p>155 rows × 8 columns</p>\n",
       "</div>"
      ],
      "text/plain": [
       "                      new_name  \\\n",
       "0                   p_infected   \n",
       "1      p_acquaintance_infected   \n",
       "2    p_hospital_if_infect_self   \n",
       "3                 p_quarantine   \n",
       "4       p_infected_and_pass_on   \n",
       "..                         ...   \n",
       "167         exp_postpone_house   \n",
       "173            p_employed_keep   \n",
       "174        p_employed_keep_gov   \n",
       "175            p_employed_lost   \n",
       "176           p_employed_other   \n",
       "\n",
       "                                    categories_english  \\\n",
       "0    not at all likely, very unlikely, rather unlik...   \n",
       "1    not at all likely, very unlikely, rather unlik...   \n",
       "2    not at all likely, very unlikely, rather unlik...   \n",
       "3    not at all likely, very unlikely, rather unlik...   \n",
       "4    not at all likely, very unlikely, rather unlik...   \n",
       "..                                                 ...   \n",
       "167  0 totally disagree, 1, 2, 3, 4, 5, 6, 7, 8, 9,...   \n",
       "173                                                NaN   \n",
       "174                                                NaN   \n",
       "175                                                NaN   \n",
       "176                                                NaN   \n",
       "\n",
       "                        group_english  \\\n",
       "0                    Subjective Risks   \n",
       "1                    Subjective Risks   \n",
       "2                    Subjective Risks   \n",
       "3                    Subjective Risks   \n",
       "4                    Subjective Risks   \n",
       "..                                ...   \n",
       "167  Consumption Plans Next 12 Months   \n",
       "173                        Employment   \n",
       "174                        Employment   \n",
       "175                        Employment   \n",
       "176                        Employment   \n",
       "\n",
       "                                         label_english nice_name_english  \\\n",
       "0    How likely do you think it is that you will be...       Be Infected   \n",
       "1    How likely do you think it is that someone in ...   Friend Infected   \n",
       "2    How likely do you think it is that you will ne...      Hospitalized   \n",
       "3    How likely do you think it is that you will be...        Quarantine   \n",
       "4    How likely do you think it is that you will ge...      Spread Virus   \n",
       "..                                                 ...               ...   \n",
       "167  If you think about the coronavirus outbreak at...       Delay House   \n",
       "173  I will keep my job because my employer / compa...       Healthy Job   \n",
       "174  I will keep my job because the government prov...     Job With Help   \n",
       "175  I will have lost my job or the number of hours...         No Income   \n",
       "176                        Something else is happening             Other   \n",
       "\n",
       "    ordered          topic_english         type  \n",
       "0      True         Health Beliefs  Categorical  \n",
       "1      True         Health Beliefs  Categorical  \n",
       "2      True         Health Beliefs  Categorical  \n",
       "3      True         Health Beliefs  Categorical  \n",
       "4      True         Health Beliefs  Categorical  \n",
       "..      ...                    ...          ...  \n",
       "167    True  Economic Expectations  Categorical  \n",
       "173     NaN  Economic Expectations          int  \n",
       "174     NaN  Economic Expectations          int  \n",
       "175     NaN  Economic Expectations          int  \n",
       "176     NaN  Economic Expectations          int  \n",
       "\n",
       "[155 rows x 8 columns]"
      ]
     },
     "execution_count": 6,
     "metadata": {},
     "output_type": "execute_result"
    }
   ],
   "source": [
    "codebook"
   ]
  },
  {
   "cell_type": "markdown",
   "metadata": {},
   "source": [
    "## Create Documentation"
   ]
  },
  {
   "cell_type": "markdown",
   "metadata": {},
   "source": [
    "### Create documentation files"
   ]
  },
  {
   "cell_type": "code",
   "execution_count": 7,
   "metadata": {},
   "outputs": [],
   "source": [
    "create_topic_folders(codebook, q_topics, target_dir)"
   ]
  },
  {
   "cell_type": "code",
   "execution_count": 8,
   "metadata": {},
   "outputs": [],
   "source": [
    "create_group_file(codebook, q_topics, q_groups, q_type, q_label, q_categories, q_varname, target_dir)"
   ]
  },
  {
   "cell_type": "code",
   "execution_count": 9,
   "metadata": {},
   "outputs": [
    {
     "data": {
      "text/plain": [
       "['HealthBeliefs',\n",
       " 'Compliance',\n",
       " 'Policy',\n",
       " 'MentalHealthandTrust',\n",
       " 'EconomicAdjustments',\n",
       " 'EconomicExpectations']"
      ]
     },
     "execution_count": 9,
     "metadata": {},
     "output_type": "execute_result"
    }
   ],
   "source": [
    "topics = get_rst_names(list(codebook[q_topics].unique()))\n",
    "topics"
   ]
  }
 ],
 "metadata": {
  "kernelspec": {
   "display_name": "Python 3",
   "language": "python",
   "name": "python3"
  },
  "language_info": {
   "codemirror_mode": {
    "name": "ipython",
    "version": 3
   },
   "file_extension": ".py",
   "mimetype": "text/x-python",
   "name": "python",
   "nbconvert_exporter": "python",
   "pygments_lexer": "ipython3",
   "version": "3.7.4"
  },
  "toc": {
   "base_numbering": 1,
   "nav_menu": {},
   "number_sections": true,
   "sideBar": true,
   "skip_h1_title": true,
   "title_cell": "Table of Contents",
   "title_sidebar": "Contents",
   "toc_cell": true,
   "toc_position": {},
   "toc_section_display": true,
   "toc_window_display": false
  },
  "varInspector": {
   "cols": {
    "lenName": 16,
    "lenType": 16,
    "lenVar": 40
   },
   "kernels_config": {
    "python": {
     "delete_cmd_postfix": "",
     "delete_cmd_prefix": "del ",
     "library": "var_list.py",
     "varRefreshCmd": "print(var_dic_list())"
    },
    "r": {
     "delete_cmd_postfix": ") ",
     "delete_cmd_prefix": "rm(",
     "library": "var_list.r",
     "varRefreshCmd": "cat(var_dic_list()) "
    }
   },
   "types_to_exclude": [
    "module",
    "function",
    "builtin_function_or_method",
    "instance",
    "_Feature"
   ],
   "window_display": false
  }
 },
 "nbformat": 4,
 "nbformat_minor": 2
}
