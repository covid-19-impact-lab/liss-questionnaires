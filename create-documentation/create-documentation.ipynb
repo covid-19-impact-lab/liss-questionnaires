{
 "cells": [
  {
   "cell_type": "markdown",
   "metadata": {},
   "source": [
    "# Create Documentation .rst-Files from Data Description Table"
   ]
  },
  {
   "cell_type": "markdown",
   "metadata": {
    "toc": true
   },
   "source": [
    "<h1>Table of Contents<span class=\"tocSkip\"></span></h1>\n",
    "<div class=\"toc\"><ul class=\"toc-item\"><li><span><a href=\"#Read-in-Codebook-&amp;-Set-Variable-Names\" data-toc-modified-id=\"Read-in-Codebook-&amp;-Set-Variable-Names-1\"><span class=\"toc-item-num\">1&nbsp;&nbsp;</span>Read in Codebook &amp; Set Variable Names</a></span></li><li><span><a href=\"#Create-Documentation\" data-toc-modified-id=\"Create-Documentation-2\"><span class=\"toc-item-num\">2&nbsp;&nbsp;</span>Create Documentation</a></span><ul class=\"toc-item\"><li><span><a href=\"#Create-documentation-files\" data-toc-modified-id=\"Create-documentation-files-2.1\"><span class=\"toc-item-num\">2.1&nbsp;&nbsp;</span>Create documentation files</a></span></li></ul></li></ul></div>"
   ]
  },
  {
   "cell_type": "code",
   "execution_count": 1,
   "metadata": {},
   "outputs": [],
   "source": [
    "import os\n",
    "import pandas as pd\n",
    "import numpy as np\n",
    "from functions import *"
   ]
  },
  {
   "cell_type": "markdown",
   "metadata": {},
   "source": [
    "## Read in Codebook & Set Variable Names"
   ]
  },
  {
   "cell_type": "markdown",
   "metadata": {},
   "source": [
    "Specifiy column names that should be used to create the files:\n",
    "\n",
    "* **q_groups**: Variable groups, groups will be used as sections in the topic files.\n",
    "* **q_label**: Should contain the question.\n",
    "* **q_type**: Should contain the question type. The following types are currently accepted: [Categorical,bool, int, float, str]\n",
    "* **q_topics**: Topic groups, each topic will get its own .rst-file.\n",
    "* **gesis_indicator**: Indicator for whether the question is also in the GESIS questionnaire."
   ]
  },
  {
   "cell_type": "code",
   "execution_count": 2,
   "metadata": {},
   "outputs": [],
   "source": [
    "q_topics = \"topic_english\"\n",
    "q_groups = \"group_english\"\n",
    "q_label = \"label_english\"\n",
    "q_type = \"type\"\n",
    "q_categories = \"categories_english\"\n",
    "q_varname = \"new_name\"\n",
    "q_ids = \"qid\"\n",
    "sqid=\"id\"\n",
    "q_layout=\"layout\"\n",
    "q_filter=\"filter\"\n",
    "q_text =\"question_english\"\n",
    "q_sub_text=\"subquestion_english\"\n",
    "q_numbers=\"question_number\""
   ]
  },
  {
   "cell_type": "code",
   "execution_count": 3,
   "metadata": {},
   "outputs": [],
   "source": [
    "target_dir = \"rst-files-pages/\"\n",
    "image_path = \"../_screenshots/\""
   ]
  },
  {
   "cell_type": "markdown",
   "metadata": {},
   "source": [
    "Load codebook/description table:"
   ]
  },
  {
   "cell_type": "code",
   "execution_count": 4,
   "metadata": {
    "scrolled": true
   },
   "outputs": [],
   "source": [
    "#codebook_dashboard = pd.read_csv(\"covid19_data_description_dashboard.csv\", sep = \";\")\n",
    "#codebook_dashboard.head()"
   ]
  },
  {
   "cell_type": "code",
   "execution_count": 5,
   "metadata": {},
   "outputs": [],
   "source": [
    "#codebook_full = pd.read_csv(\"covid19_data_codebook.csv\", sep = \";\")\n",
    "#codebook_full.head()"
   ]
  },
  {
   "cell_type": "code",
   "execution_count": 6,
   "metadata": {},
   "outputs": [],
   "source": [
    "#codebook_full= codebook_full.drop([\"group_english\",\"label_english\",\"nice_name_english\"], axis=1)"
   ]
  },
  {
   "cell_type": "code",
   "execution_count": 7,
   "metadata": {},
   "outputs": [],
   "source": [
    "#codebook = codebook_full.merge(codebook_dashboard, how=\"outer\", on=[\"new_name\"])\n",
    "#codebook.to_csv(\"codebook.csv\")"
   ]
  },
  {
   "cell_type": "code",
   "execution_count": 8,
   "metadata": {},
   "outputs": [
    {
     "data": {
      "text/html": [
       "<div>\n",
       "<style scoped>\n",
       "    .dataframe tbody tr th:only-of-type {\n",
       "        vertical-align: middle;\n",
       "    }\n",
       "\n",
       "    .dataframe tbody tr th {\n",
       "        vertical-align: top;\n",
       "    }\n",
       "\n",
       "    .dataframe thead th {\n",
       "        text-align: right;\n",
       "    }\n",
       "</style>\n",
       "<table border=\"1\" class=\"dataframe\">\n",
       "  <thead>\n",
       "    <tr style=\"text-align: right;\">\n",
       "      <th></th>\n",
       "      <th>Unnamed: 0</th>\n",
       "      <th>new_name</th>\n",
       "      <th>question_number</th>\n",
       "      <th>qid</th>\n",
       "      <th>id</th>\n",
       "      <th>layout</th>\n",
       "      <th>filter</th>\n",
       "      <th>group_english</th>\n",
       "      <th>question_english</th>\n",
       "      <th>subquestion_english</th>\n",
       "      <th>categories_english</th>\n",
       "      <th>ordered</th>\n",
       "      <th>topic_english</th>\n",
       "      <th>type</th>\n",
       "      <th>group_english.1</th>\n",
       "      <th>label_english</th>\n",
       "      <th>nice_name_english</th>\n",
       "    </tr>\n",
       "  </thead>\n",
       "  <tbody>\n",
       "    <tr>\n",
       "      <td>0</td>\n",
       "      <td>0</td>\n",
       "      <td>p_infected</td>\n",
       "      <td>1.0</td>\n",
       "      <td>q1</td>\n",
       "      <td>q1a</td>\n",
       "      <td>table</td>\n",
       "      <td>-</td>\n",
       "      <td>Subjective Risks</td>\n",
       "      <td>How likely do you think that the following eve...</td>\n",
       "      <td>You will be infected</td>\n",
       "      <td>not at all likely, very unlikely, rather unlik...</td>\n",
       "      <td>True</td>\n",
       "      <td>Health Beliefs</td>\n",
       "      <td>Categorical</td>\n",
       "      <td>Subjective Risks</td>\n",
       "      <td>How likely do you think it is that you will be...</td>\n",
       "      <td>Be Infected</td>\n",
       "    </tr>\n",
       "    <tr>\n",
       "      <td>1</td>\n",
       "      <td>1</td>\n",
       "      <td>p_acquaintance_infected</td>\n",
       "      <td>1.0</td>\n",
       "      <td>q1</td>\n",
       "      <td>q1b</td>\n",
       "      <td>table</td>\n",
       "      <td>-</td>\n",
       "      <td>Subjective Risks</td>\n",
       "      <td>How likely do you think that the following eve...</td>\n",
       "      <td>Someone in your direct environment (family, fr...</td>\n",
       "      <td>not at all likely, very unlikely, rather unlik...</td>\n",
       "      <td>True</td>\n",
       "      <td>Health Beliefs</td>\n",
       "      <td>Categorical</td>\n",
       "      <td>Subjective Risks</td>\n",
       "      <td>How likely do you think it is that someone in ...</td>\n",
       "      <td>Friend Infected</td>\n",
       "    </tr>\n",
       "    <tr>\n",
       "      <td>2</td>\n",
       "      <td>2</td>\n",
       "      <td>p_hospital_if_infect_self</td>\n",
       "      <td>1.0</td>\n",
       "      <td>q1</td>\n",
       "      <td>q1c</td>\n",
       "      <td>table</td>\n",
       "      <td>-</td>\n",
       "      <td>Subjective Risks</td>\n",
       "      <td>How likely do you think that the following eve...</td>\n",
       "      <td>You will have to go to the hospital if you get...</td>\n",
       "      <td>not at all likely, very unlikely, rather unlik...</td>\n",
       "      <td>True</td>\n",
       "      <td>Health Beliefs</td>\n",
       "      <td>Categorical</td>\n",
       "      <td>Subjective Risks</td>\n",
       "      <td>How likely do you think it is that you will ne...</td>\n",
       "      <td>Hospitalized</td>\n",
       "    </tr>\n",
       "    <tr>\n",
       "      <td>3</td>\n",
       "      <td>3</td>\n",
       "      <td>p_quarantine</td>\n",
       "      <td>1.0</td>\n",
       "      <td>q1</td>\n",
       "      <td>q1d</td>\n",
       "      <td>table</td>\n",
       "      <td>-</td>\n",
       "      <td>Subjective Risks</td>\n",
       "      <td>How likely do you think that the following eve...</td>\n",
       "      <td>You will have to go into quarantine independen...</td>\n",
       "      <td>not at all likely, very unlikely, rather unlik...</td>\n",
       "      <td>True</td>\n",
       "      <td>Health Beliefs</td>\n",
       "      <td>Categorical</td>\n",
       "      <td>NaN</td>\n",
       "      <td>NaN</td>\n",
       "      <td>NaN</td>\n",
       "    </tr>\n",
       "    <tr>\n",
       "      <td>4</td>\n",
       "      <td>4</td>\n",
       "      <td>p_infected_and_pass_on</td>\n",
       "      <td>1.0</td>\n",
       "      <td>q1</td>\n",
       "      <td>q1e</td>\n",
       "      <td>table</td>\n",
       "      <td>-</td>\n",
       "      <td>Subjective Risks</td>\n",
       "      <td>How likely do you think that the following eve...</td>\n",
       "      <td>You get infected and you infect someone else</td>\n",
       "      <td>not at all likely, very unlikely, rather unlik...</td>\n",
       "      <td>True</td>\n",
       "      <td>Health Beliefs</td>\n",
       "      <td>Categorical</td>\n",
       "      <td>Subjective Risks</td>\n",
       "      <td>How likely do you think it is that you will ge...</td>\n",
       "      <td>Spread Virus</td>\n",
       "    </tr>\n",
       "  </tbody>\n",
       "</table>\n",
       "</div>"
      ],
      "text/plain": [
       "   Unnamed: 0                   new_name  question_number qid   id layout  \\\n",
       "0           0                 p_infected              1.0  q1  q1a  table   \n",
       "1           1    p_acquaintance_infected              1.0  q1  q1b  table   \n",
       "2           2  p_hospital_if_infect_self              1.0  q1  q1c  table   \n",
       "3           3               p_quarantine              1.0  q1  q1d  table   \n",
       "4           4     p_infected_and_pass_on              1.0  q1  q1e  table   \n",
       "\n",
       "  filter     group_english                                   question_english  \\\n",
       "0      -  Subjective Risks  How likely do you think that the following eve...   \n",
       "1      -  Subjective Risks  How likely do you think that the following eve...   \n",
       "2      -  Subjective Risks  How likely do you think that the following eve...   \n",
       "3      -  Subjective Risks  How likely do you think that the following eve...   \n",
       "4      -  Subjective Risks  How likely do you think that the following eve...   \n",
       "\n",
       "                                 subquestion_english  \\\n",
       "0                               You will be infected   \n",
       "1  Someone in your direct environment (family, fr...   \n",
       "2  You will have to go to the hospital if you get...   \n",
       "3  You will have to go into quarantine independen...   \n",
       "4       You get infected and you infect someone else   \n",
       "\n",
       "                                  categories_english ordered   topic_english  \\\n",
       "0  not at all likely, very unlikely, rather unlik...    True  Health Beliefs   \n",
       "1  not at all likely, very unlikely, rather unlik...    True  Health Beliefs   \n",
       "2  not at all likely, very unlikely, rather unlik...    True  Health Beliefs   \n",
       "3  not at all likely, very unlikely, rather unlik...    True  Health Beliefs   \n",
       "4  not at all likely, very unlikely, rather unlik...    True  Health Beliefs   \n",
       "\n",
       "          type   group_english.1  \\\n",
       "0  Categorical  Subjective Risks   \n",
       "1  Categorical  Subjective Risks   \n",
       "2  Categorical  Subjective Risks   \n",
       "3  Categorical               NaN   \n",
       "4  Categorical  Subjective Risks   \n",
       "\n",
       "                                       label_english nice_name_english  \n",
       "0  How likely do you think it is that you will be...       Be Infected  \n",
       "1  How likely do you think it is that someone in ...   Friend Infected  \n",
       "2  How likely do you think it is that you will ne...      Hospitalized  \n",
       "3                                                NaN               NaN  \n",
       "4  How likely do you think it is that you will ge...      Spread Virus  "
      ]
     },
     "execution_count": 8,
     "metadata": {},
     "output_type": "execute_result"
    }
   ],
   "source": [
    "codebook = pd.read_csv(\"codebook.csv\", sep = \";\")\n",
    "codebook.head()"
   ]
  },
  {
   "cell_type": "code",
   "execution_count": 9,
   "metadata": {},
   "outputs": [],
   "source": [
    "# Removed undesired groups.\n",
    "codebook = codebook[codebook[q_groups].notna()]\n",
    "codebook = codebook[codebook[q_ids].notna()]\n",
    "\n",
    "for val in ['Skip','questionnaire','background']:\n",
    "    codebook = codebook[codebook[q_groups] != val]"
   ]
  },
  {
   "cell_type": "code",
   "execution_count": 10,
   "metadata": {},
   "outputs": [],
   "source": [
    "codebook = codebook.sort_values(by=q_numbers)"
   ]
  },
  {
   "cell_type": "markdown",
   "metadata": {},
   "source": [
    "## Create Documentation"
   ]
  },
  {
   "cell_type": "code",
   "execution_count": 11,
   "metadata": {
    "scrolled": true
   },
   "outputs": [],
   "source": [
    "create_pages(codebook, q_ids, q_filter, q_groups, q_layout, q_text, q_sub_text, q_categories, q_varname, target_dir, image_path)"
   ]
  },
  {
   "cell_type": "markdown",
   "metadata": {},
   "source": [
    "### Create documentation files"
   ]
  },
  {
   "cell_type": "code",
   "execution_count": 12,
   "metadata": {},
   "outputs": [],
   "source": [
    "variables = codebook[[\"new_name\",\"qid\",\"id\",\"filter\",\"group_english\",\"type\"]]\n",
    "variables.to_csv(\"variable_overview.csv\")"
   ]
  },
  {
   "cell_type": "code",
   "execution_count": 13,
   "metadata": {},
   "outputs": [],
   "source": [
    "#create_topic_folders(codebook, q_topics, target_dir)"
   ]
  },
  {
   "cell_type": "code",
   "execution_count": 14,
   "metadata": {},
   "outputs": [],
   "source": [
    "#create_group_file(codebook, q_topics, q_groups, q_type, q_label, q_categories, q_varname, target_dir,True)"
   ]
  },
  {
   "cell_type": "code",
   "execution_count": 15,
   "metadata": {},
   "outputs": [],
   "source": [
    "#topics = get_rst_names(list(codebook[q_topics].unique()))\n",
    "#topics"
   ]
  }
 ],
 "metadata": {
  "kernelspec": {
   "display_name": "Python 3",
   "language": "python",
   "name": "python3"
  },
  "language_info": {
   "codemirror_mode": {
    "name": "ipython",
    "version": 3
   },
   "file_extension": ".py",
   "mimetype": "text/x-python",
   "name": "python",
   "nbconvert_exporter": "python",
   "pygments_lexer": "ipython3",
   "version": "3.7.4"
  },
  "toc": {
   "base_numbering": 1,
   "nav_menu": {},
   "number_sections": true,
   "sideBar": true,
   "skip_h1_title": true,
   "title_cell": "Table of Contents",
   "title_sidebar": "Contents",
   "toc_cell": true,
   "toc_position": {},
   "toc_section_display": true,
   "toc_window_display": false
  },
  "varInspector": {
   "cols": {
    "lenName": 16,
    "lenType": 16,
    "lenVar": 40
   },
   "kernels_config": {
    "python": {
     "delete_cmd_postfix": "",
     "delete_cmd_prefix": "del ",
     "library": "var_list.py",
     "varRefreshCmd": "print(var_dic_list())"
    },
    "r": {
     "delete_cmd_postfix": ") ",
     "delete_cmd_prefix": "rm(",
     "library": "var_list.r",
     "varRefreshCmd": "cat(var_dic_list()) "
    }
   },
   "types_to_exclude": [
    "module",
    "function",
    "builtin_function_or_method",
    "instance",
    "_Feature"
   ],
   "window_display": false
  }
 },
 "nbformat": 4,
 "nbformat_minor": 2
}
