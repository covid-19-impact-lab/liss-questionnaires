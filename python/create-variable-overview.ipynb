{
 "cells": [
  {
   "cell_type": "code",
   "execution_count": 1,
   "metadata": {},
   "outputs": [
    {
     "data": {
      "application/javascript": [
       "\n",
       "            setTimeout(function() {\n",
       "                var nbb_cell_id = 1;\n",
       "                var nbb_unformatted_code = \"%load_ext nb_black\\nimport os\\nimport pandas as pd\\nimport numpy as np\";\n",
       "                var nbb_formatted_code = \"%load_ext nb_black\\nimport os\\nimport pandas as pd\\nimport numpy as np\";\n",
       "                var nbb_cells = Jupyter.notebook.get_cells();\n",
       "                for (var i = 0; i < nbb_cells.length; ++i) {\n",
       "                    if (nbb_cells[i].input_prompt_number == nbb_cell_id) {\n",
       "                        if (nbb_cells[i].get_text() == nbb_unformatted_code) {\n",
       "                             nbb_cells[i].set_text(nbb_formatted_code);\n",
       "                        }\n",
       "                        break;\n",
       "                    }\n",
       "                }\n",
       "            }, 500);\n",
       "            "
      ],
      "text/plain": [
       "<IPython.core.display.Javascript object>"
      ]
     },
     "metadata": {},
     "output_type": "display_data"
    }
   ],
   "source": [
    "%load_ext nb_black\n",
    "import os\n",
    "import pandas as pd\n",
    "import numpy as np"
   ]
  },
  {
   "cell_type": "markdown",
   "metadata": {},
   "source": [
    "## Functions"
   ]
  },
  {
   "cell_type": "code",
   "execution_count": 25,
   "metadata": {},
   "outputs": [
    {
     "data": {
      "application/javascript": [
       "\n",
       "            setTimeout(function() {\n",
       "                var nbb_cell_id = 25;\n",
       "                var nbb_unformatted_code = \"def create_description_table(table, waves, language, return_links_as_symbols=True):\\n    \\\"\\\"\\\" Create variable overview from data description table of liss data.\\\"\\\"\\\"\\n    table = table.copy()\\n    # Fill in nans as -.\\n    table = table.fillna(\\\"-\\\")\\n    # Drop columns.\\n    table = table.drop([\\\"label_english\\\", \\\"categories_english\\\"], axis=1)\\n    table = table[table[\\\"question_group\\\"] != \\\"-\\\"]\\n    table = table[table[\\\"Variable\\\"] != \\\"-\\\"]\\n    for i in [1, 2, 3]:\\n        if i not in waves:\\n            table = table.drop([f\\\"wave{i}\\\"], axis=1)\\n\\n    # Drop observations if they are not in any included wave.\\n    if len(waves) == 1:\\n        table = table[table[f\\\"wave{waves[0]}\\\"] != \\\"-\\\"]\\n    elif len(waves) == 2:\\n        table = table[\\n            (table[f\\\"wave{waves[0]}\\\"] != \\\"-\\\") | (table[f\\\"wave{waves[1]}\\\"] != \\\"-\\\")\\n        ]\\n    else:\\n        table = table[\\n            (table[f\\\"wave{waves[0]}\\\"] != \\\"-\\\")\\n            | (table[f\\\"wave{waves[1]}\\\"] != \\\"-\\\")\\n            | (table[f\\\"wave{waves[2]}\\\"] != \\\"-\\\")\\n        ]\\n\\n    # Create question group id.\\n    for i in waves:\\n        table[f\\\"group_w{i}\\\"] = np.where(\\n            table[f\\\"wave{i}\\\"] == \\\"-\\\", table[f\\\"wave{i}\\\"], table[\\\"question_group\\\"]\\n        )\\n\\n    # create question link \\\":ref:`wNL-{question_group}`.\\n    for i in waves:\\n        if return_links_as_symbols:\\n            table[f\\\"group_w{i}\\\"] = table[f\\\"group_w{i}\\\"].apply(\\n                lambda x: f\\\":ref:`\\ud83d\\udd17 <w{str(i)}{language}-{x}>`\\\"\\n            )\\n        else:\\n            table[f\\\"group_w{i}\\\"] = table[f\\\"group_w{i}\\\"].apply(\\n                lambda x: f\\\"w{str(i)}{language}-{x}\\\"\\n            )\\n        table[f\\\"group_w{i}\\\"] = np.where(\\n            table[f\\\"group_w{i}\\\"].str.contains(\\\"--\\\") == False, table[f\\\"group_w{i}\\\"], \\\"-\\\"\\n        )\\n\\n    # Final formatting\\n    # Replace ordered categoricals to drop 'ordered' column.\\n    table[\\\"Type\\\"] = np.where(\\n        table[\\\"ordered\\\"] != True, table[\\\"Type\\\"], \\\"Ordered Categorical\\\"\\n    )\\n\\n    # Ensure correct formatting for reference period column,\\n    # create as new column to esnure it is last in table.\\n    table = table.replace(\\\"-\\\", -111)\\n    table[\\\"Reference Period Other Than Survey Period\\\"] = table[\\n        \\\"reference period other than survey period\\\"\\n    ].astype(int)\\n\\n    # Drop unneeded columns.\\n    table = table.drop(\\n        [\\\"question_group\\\", \\\"ordered\\\", \\\"reference period other than survey period\\\"],\\n        axis=1,\\n    )\\n\\n    # Replace missings with empty strig so they don't show up in table.\\n    table = table.replace(-111, \\\" \\\")\\n\\n    # Final ordering and rename wave link headers.\\n    final_table = pd.DataFrame()\\n    final_table[\\\"Variable\\\"] = table[\\\"Variable\\\"]\\n\\n    for i in waves:\\n        final_table[f\\\"Links Wave {i}\\\"] = table[f\\\"group_w{i}\\\"]\\n        final_table[\\n            [\\\"Type\\\", \\\"Topic\\\", \\\"Reference Period Other Than Survey Period\\\"]\\n        ] = table[[\\\"Type\\\", \\\"Topic\\\", \\\"Reference Period Other Than Survey Period\\\"]]\\n        final_table[f\\\"Links Wave {i}\\\"] = table[f\\\"group_w{i}\\\"]\\n        if len(waves) == 1:\\n            final_table[\\\"Question Id\\\"] = table[f\\\"wave{i}\\\"]\\n            final_table[f\\\"Routing\\\"] = table[f\\\"routing_wave_{i}\\\"]\\n\\n    return final_table\";\n",
       "                var nbb_formatted_code = \"def create_description_table(table, waves, language, return_links_as_symbols=True):\\n    \\\"\\\"\\\" Create variable overview from data description table of liss data.\\\"\\\"\\\"\\n    table = table.copy()\\n    # Fill in nans as -.\\n    table = table.fillna(\\\"-\\\")\\n    # Drop columns.\\n    table = table.drop([\\\"label_english\\\", \\\"categories_english\\\"], axis=1)\\n    table = table[table[\\\"question_group\\\"] != \\\"-\\\"]\\n    table = table[table[\\\"Variable\\\"] != \\\"-\\\"]\\n    for i in [1, 2, 3]:\\n        if i not in waves:\\n            table = table.drop([f\\\"wave{i}\\\"], axis=1)\\n\\n    # Drop observations if they are not in any included wave.\\n    if len(waves) == 1:\\n        table = table[table[f\\\"wave{waves[0]}\\\"] != \\\"-\\\"]\\n    elif len(waves) == 2:\\n        table = table[\\n            (table[f\\\"wave{waves[0]}\\\"] != \\\"-\\\") | (table[f\\\"wave{waves[1]}\\\"] != \\\"-\\\")\\n        ]\\n    else:\\n        table = table[\\n            (table[f\\\"wave{waves[0]}\\\"] != \\\"-\\\")\\n            | (table[f\\\"wave{waves[1]}\\\"] != \\\"-\\\")\\n            | (table[f\\\"wave{waves[2]}\\\"] != \\\"-\\\")\\n        ]\\n\\n    # Create question group id.\\n    for i in waves:\\n        table[f\\\"group_w{i}\\\"] = np.where(\\n            table[f\\\"wave{i}\\\"] == \\\"-\\\", table[f\\\"wave{i}\\\"], table[\\\"question_group\\\"]\\n        )\\n\\n    # create question link \\\":ref:`wNL-{question_group}`.\\n    for i in waves:\\n        if return_links_as_symbols:\\n            table[f\\\"group_w{i}\\\"] = table[f\\\"group_w{i}\\\"].apply(\\n                lambda x: f\\\":ref:`\\ud83d\\udd17 <w{str(i)}{language}-{x}>`\\\"\\n            )\\n        else:\\n            table[f\\\"group_w{i}\\\"] = table[f\\\"group_w{i}\\\"].apply(\\n                lambda x: f\\\"w{str(i)}{language}-{x}\\\"\\n            )\\n        table[f\\\"group_w{i}\\\"] = np.where(\\n            table[f\\\"group_w{i}\\\"].str.contains(\\\"--\\\") == False, table[f\\\"group_w{i}\\\"], \\\"-\\\"\\n        )\\n\\n    # Final formatting\\n    # Replace ordered categoricals to drop 'ordered' column.\\n    table[\\\"Type\\\"] = np.where(\\n        table[\\\"ordered\\\"] != True, table[\\\"Type\\\"], \\\"Ordered Categorical\\\"\\n    )\\n\\n    # Ensure correct formatting for reference period column,\\n    # create as new column to esnure it is last in table.\\n    table = table.replace(\\\"-\\\", -111)\\n    table[\\\"Reference Period Other Than Survey Period\\\"] = table[\\n        \\\"reference period other than survey period\\\"\\n    ].astype(int)\\n\\n    # Drop unneeded columns.\\n    table = table.drop(\\n        [\\\"question_group\\\", \\\"ordered\\\", \\\"reference period other than survey period\\\"],\\n        axis=1,\\n    )\\n\\n    # Replace missings with empty strig so they don't show up in table.\\n    table = table.replace(-111, \\\" \\\")\\n\\n    # Final ordering and rename wave link headers.\\n    final_table = pd.DataFrame()\\n    final_table[\\\"Variable\\\"] = table[\\\"Variable\\\"]\\n\\n    for i in waves:\\n        final_table[f\\\"Links Wave {i}\\\"] = table[f\\\"group_w{i}\\\"]\\n        final_table[\\n            [\\\"Type\\\", \\\"Topic\\\", \\\"Reference Period Other Than Survey Period\\\"]\\n        ] = table[[\\\"Type\\\", \\\"Topic\\\", \\\"Reference Period Other Than Survey Period\\\"]]\\n        final_table[f\\\"Links Wave {i}\\\"] = table[f\\\"group_w{i}\\\"]\\n        if len(waves) == 1:\\n            final_table[\\\"Question Id\\\"] = table[f\\\"wave{i}\\\"]\\n            final_table[f\\\"Routing\\\"] = table[f\\\"routing_wave_{i}\\\"]\\n\\n    return final_table\";\n",
       "                var nbb_cells = Jupyter.notebook.get_cells();\n",
       "                for (var i = 0; i < nbb_cells.length; ++i) {\n",
       "                    if (nbb_cells[i].input_prompt_number == nbb_cell_id) {\n",
       "                        if (nbb_cells[i].get_text() == nbb_unformatted_code) {\n",
       "                             nbb_cells[i].set_text(nbb_formatted_code);\n",
       "                        }\n",
       "                        break;\n",
       "                    }\n",
       "                }\n",
       "            }, 500);\n",
       "            "
      ],
      "text/plain": [
       "<IPython.core.display.Javascript object>"
      ]
     },
     "metadata": {},
     "output_type": "display_data"
    }
   ],
   "source": [
    "def create_description_table(table, waves, language, return_links_as_symbols=True):\n",
    "    \"\"\" Create variable overview from data description table of liss data.\"\"\"\n",
    "    table = table.copy()\n",
    "    # Fill in nans as -.\n",
    "    table = table.fillna(\"-\")\n",
    "    # Drop columns.\n",
    "    table = table.drop([\"label_english\", \"categories_english\"], axis=1)\n",
    "    table = table[table[\"question_group\"] != \"-\"]\n",
    "    table = table[table[\"Variable\"] != \"-\"]\n",
    "    for i in [1, 2, 3]:\n",
    "        if i not in waves:\n",
    "            table = table.drop([f\"wave{i}\"], axis=1)\n",
    "\n",
    "    # Drop observations if they are not in any included wave.\n",
    "    if len(waves) == 1:\n",
    "        table = table[table[f\"wave{waves[0]}\"] != \"-\"]\n",
    "    elif len(waves) == 2:\n",
    "        table = table[\n",
    "            (table[f\"wave{waves[0]}\"] != \"-\") | (table[f\"wave{waves[1]}\"] != \"-\")\n",
    "        ]\n",
    "    else:\n",
    "        table = table[\n",
    "            (table[f\"wave{waves[0]}\"] != \"-\")\n",
    "            | (table[f\"wave{waves[1]}\"] != \"-\")\n",
    "            | (table[f\"wave{waves[2]}\"] != \"-\")\n",
    "        ]\n",
    "\n",
    "    # Create question group id.\n",
    "    for i in waves:\n",
    "        table[f\"group_w{i}\"] = np.where(\n",
    "            table[f\"wave{i}\"] == \"-\", table[f\"wave{i}\"], table[\"question_group\"]\n",
    "        )\n",
    "\n",
    "    # create question link \":ref:`wNL-{question_group}`.\n",
    "    for i in waves:\n",
    "        if return_links_as_symbols:\n",
    "            table[f\"group_w{i}\"] = table[f\"group_w{i}\"].apply(\n",
    "                lambda x: f\":ref:`🔗 <w{str(i)}{language}-{x}>`\"\n",
    "            )\n",
    "        else:\n",
    "            table[f\"group_w{i}\"] = table[f\"group_w{i}\"].apply(\n",
    "                lambda x: f\"w{str(i)}{language}-{x}\"\n",
    "            )\n",
    "        table[f\"group_w{i}\"] = np.where(\n",
    "            table[f\"group_w{i}\"].str.contains(\"--\") == False, table[f\"group_w{i}\"], \"-\"\n",
    "        )\n",
    "\n",
    "    # Final formatting\n",
    "    # Replace ordered categoricals to drop 'ordered' column.\n",
    "    table[\"Type\"] = np.where(\n",
    "        table[\"ordered\"] != True, table[\"Type\"], \"Ordered Categorical\"\n",
    "    )\n",
    "\n",
    "    # Ensure correct formatting for reference period column,\n",
    "    # create as new column to esnure it is last in table.\n",
    "    table = table.replace(\"-\", -111)\n",
    "    table[\"Reference Period Other Than Survey Period\"] = table[\n",
    "        \"reference period other than survey period\"\n",
    "    ].astype(int)\n",
    "\n",
    "    # Drop unneeded columns.\n",
    "    table = table.drop(\n",
    "        [\"question_group\", \"ordered\", \"reference period other than survey period\"],\n",
    "        axis=1,\n",
    "    )\n",
    "\n",
    "    # Replace missings with empty strig so they don't show up in table.\n",
    "    table = table.replace(-111, \" \")\n",
    "\n",
    "    # Final ordering and rename wave link headers.\n",
    "    final_table = pd.DataFrame()\n",
    "    final_table[\"Variable\"] = table[\"Variable\"]\n",
    "\n",
    "    for i in waves:\n",
    "        final_table[f\"Links Wave {i}\"] = table[f\"group_w{i}\"]\n",
    "        final_table[\n",
    "            [\"Type\", \"Topic\", \"Reference Period Other Than Survey Period\"]\n",
    "        ] = table[[\"Type\", \"Topic\", \"Reference Period Other Than Survey Period\"]]\n",
    "        final_table[f\"Links Wave {i}\"] = table[f\"group_w{i}\"]\n",
    "        if len(waves) == 1:\n",
    "            final_table[\"Question Id\"] = table[f\"wave{i}\"]\n",
    "            final_table[f\"Routing\"] = table[f\"routing_wave_{i}\"]\n",
    "\n",
    "    return final_table"
   ]
  },
  {
   "cell_type": "markdown",
   "metadata": {},
   "source": [
    "## Create Table "
   ]
  },
  {
   "cell_type": "markdown",
   "metadata": {},
   "source": [
    "Read in description table "
   ]
  },
  {
   "cell_type": "code",
   "execution_count": 26,
   "metadata": {},
   "outputs": [
    {
     "data": {
      "application/javascript": [
       "\n",
       "            setTimeout(function() {\n",
       "                var nbb_cell_id = 26;\n",
       "                var nbb_unformatted_code = \"table = pd.read_csv(\\n    \\\"tables/xyx-corona-questionnaire_renaming_including_routing.csv\\\", sep=\\\";\\\"\\n)\";\n",
       "                var nbb_formatted_code = \"table = pd.read_csv(\\n    \\\"tables/xyx-corona-questionnaire_renaming_including_routing.csv\\\", sep=\\\";\\\"\\n)\";\n",
       "                var nbb_cells = Jupyter.notebook.get_cells();\n",
       "                for (var i = 0; i < nbb_cells.length; ++i) {\n",
       "                    if (nbb_cells[i].input_prompt_number == nbb_cell_id) {\n",
       "                        if (nbb_cells[i].get_text() == nbb_unformatted_code) {\n",
       "                             nbb_cells[i].set_text(nbb_formatted_code);\n",
       "                        }\n",
       "                        break;\n",
       "                    }\n",
       "                }\n",
       "            }, 500);\n",
       "            "
      ],
      "text/plain": [
       "<IPython.core.display.Javascript object>"
      ]
     },
     "metadata": {},
     "output_type": "display_data"
    }
   ],
   "source": [
    "table = pd.read_csv(\n",
    "    \"tables/xyx-corona-questionnaire_renaming_including_routing.csv\", sep=\";\"\n",
    ")"
   ]
  },
  {
   "cell_type": "markdown",
   "metadata": {},
   "source": [
    "Rename columns so they are easier to handle for the functions"
   ]
  },
  {
   "cell_type": "code",
   "execution_count": 27,
   "metadata": {},
   "outputs": [
    {
     "data": {
      "application/javascript": [
       "\n",
       "            setTimeout(function() {\n",
       "                var nbb_cell_id = 27;\n",
       "                var nbb_unformatted_code = \"table = table.rename(\\n    columns={\\n        \\\"L_CoronavirusImpact_wave3_4p.dta\\\": \\\"wave3\\\",\\n        \\\"L_CoronavirusImpact_4.0p.dta\\\": \\\"wave2\\\",\\n        \\\"L_CoronavirusImpact_3p.dta\\\": \\\"wave1\\\",\\n        \\\"new_name\\\": \\\"variable\\\",\\n        \\\"topic_english\\\": \\\"Topic\\\",\\n        \\\"type\\\": \\\"Type\\\",\\n        \\\"new_name\\\": \\\"Variable\\\",\\n    }\\n)\";\n",
       "                var nbb_formatted_code = \"table = table.rename(\\n    columns={\\n        \\\"L_CoronavirusImpact_wave3_4p.dta\\\": \\\"wave3\\\",\\n        \\\"L_CoronavirusImpact_4.0p.dta\\\": \\\"wave2\\\",\\n        \\\"L_CoronavirusImpact_3p.dta\\\": \\\"wave1\\\",\\n        \\\"new_name\\\": \\\"variable\\\",\\n        \\\"topic_english\\\": \\\"Topic\\\",\\n        \\\"type\\\": \\\"Type\\\",\\n        \\\"new_name\\\": \\\"Variable\\\",\\n    }\\n)\";\n",
       "                var nbb_cells = Jupyter.notebook.get_cells();\n",
       "                for (var i = 0; i < nbb_cells.length; ++i) {\n",
       "                    if (nbb_cells[i].input_prompt_number == nbb_cell_id) {\n",
       "                        if (nbb_cells[i].get_text() == nbb_unformatted_code) {\n",
       "                             nbb_cells[i].set_text(nbb_formatted_code);\n",
       "                        }\n",
       "                        break;\n",
       "                    }\n",
       "                }\n",
       "            }, 500);\n",
       "            "
      ],
      "text/plain": [
       "<IPython.core.display.Javascript object>"
      ]
     },
     "metadata": {},
     "output_type": "display_data"
    }
   ],
   "source": [
    "table = table.rename(\n",
    "    columns={\n",
    "        \"L_CoronavirusImpact_wave3_4p.dta\": \"wave3\",\n",
    "        \"L_CoronavirusImpact_4.0p.dta\": \"wave2\",\n",
    "        \"L_CoronavirusImpact_3p.dta\": \"wave1\",\n",
    "        \"new_name\": \"variable\",\n",
    "        \"topic_english\": \"Topic\",\n",
    "        \"type\": \"Type\",\n",
    "        \"new_name\": \"Variable\",\n",
    "    }\n",
    ")"
   ]
  },
  {
   "cell_type": "markdown",
   "metadata": {},
   "source": [
    "Select wave and language indicator. `language` should be one lower-case letter. `waves` should be a list of one or more values."
   ]
  },
  {
   "cell_type": "code",
   "execution_count": 51,
   "metadata": {},
   "outputs": [
    {
     "data": {
      "application/javascript": [
       "\n",
       "            setTimeout(function() {\n",
       "                var nbb_cell_id = 51;\n",
       "                var nbb_unformatted_code = \"waves = [2]\\nlanguage_short = \\\"e\\\"\\nlanguage_long = \\\"english\\\"\";\n",
       "                var nbb_formatted_code = \"waves = [2]\\nlanguage_short = \\\"e\\\"\\nlanguage_long = \\\"english\\\"\";\n",
       "                var nbb_cells = Jupyter.notebook.get_cells();\n",
       "                for (var i = 0; i < nbb_cells.length; ++i) {\n",
       "                    if (nbb_cells[i].input_prompt_number == nbb_cell_id) {\n",
       "                        if (nbb_cells[i].get_text() == nbb_unformatted_code) {\n",
       "                             nbb_cells[i].set_text(nbb_formatted_code);\n",
       "                        }\n",
       "                        break;\n",
       "                    }\n",
       "                }\n",
       "            }, 500);\n",
       "            "
      ],
      "text/plain": [
       "<IPython.core.display.Javascript object>"
      ]
     },
     "metadata": {},
     "output_type": "display_data"
    }
   ],
   "source": [
    "waves = [2]\n",
    "language_short = \"e\"\n",
    "language_long = \"english\""
   ]
  },
  {
   "cell_type": "markdown",
   "metadata": {},
   "source": [
    "Create decription table and save to csv."
   ]
  },
  {
   "cell_type": "code",
   "execution_count": 52,
   "metadata": {},
   "outputs": [
    {
     "data": {
      "text/html": [
       "<div>\n",
       "<style scoped>\n",
       "    .dataframe tbody tr th:only-of-type {\n",
       "        vertical-align: middle;\n",
       "    }\n",
       "\n",
       "    .dataframe tbody tr th {\n",
       "        vertical-align: top;\n",
       "    }\n",
       "\n",
       "    .dataframe thead th {\n",
       "        text-align: right;\n",
       "    }\n",
       "</style>\n",
       "<table border=\"1\" class=\"dataframe\">\n",
       "  <thead>\n",
       "    <tr style=\"text-align: right;\">\n",
       "      <th></th>\n",
       "      <th>Variable</th>\n",
       "      <th>reference period other than survey period</th>\n",
       "      <th>label_english</th>\n",
       "      <th>wave3</th>\n",
       "      <th>wave2</th>\n",
       "      <th>wave1</th>\n",
       "      <th>Type</th>\n",
       "      <th>categories_english</th>\n",
       "      <th>ordered</th>\n",
       "      <th>Topic</th>\n",
       "      <th>question_group</th>\n",
       "      <th>routing_wave_1</th>\n",
       "      <th>routing_wave_2</th>\n",
       "      <th>routing_wave_3</th>\n",
       "    </tr>\n",
       "  </thead>\n",
       "  <tbody>\n",
       "    <tr>\n",
       "      <th>0</th>\n",
       "      <td>l_2m_infected</td>\n",
       "      <td>NaN</td>\n",
       "      <td>How likely do you think it is that you will be...</td>\n",
       "      <td>NaN</td>\n",
       "      <td>NaN</td>\n",
       "      <td>q1a</td>\n",
       "      <td>Categorical</td>\n",
       "      <td>not at all likely, very unlikely, rather unlik...</td>\n",
       "      <td>True</td>\n",
       "      <td>Health Beliefs</td>\n",
       "      <td>q1</td>\n",
       "      <td>NaN</td>\n",
       "      <td>NaN</td>\n",
       "      <td>NaN</td>\n",
       "    </tr>\n",
       "    <tr>\n",
       "      <th>1</th>\n",
       "      <td>l_2m_acquaintance_infected</td>\n",
       "      <td>NaN</td>\n",
       "      <td>How likely do you think it is that someone in ...</td>\n",
       "      <td>NaN</td>\n",
       "      <td>NaN</td>\n",
       "      <td>q1b</td>\n",
       "      <td>Categorical</td>\n",
       "      <td>not at all likely, very unlikely, rather unlik...</td>\n",
       "      <td>True</td>\n",
       "      <td>Health Beliefs</td>\n",
       "      <td>q1</td>\n",
       "      <td>NaN</td>\n",
       "      <td>NaN</td>\n",
       "      <td>NaN</td>\n",
       "    </tr>\n",
       "    <tr>\n",
       "      <th>2</th>\n",
       "      <td>l_2m_hospital_if_infect_self</td>\n",
       "      <td>NaN</td>\n",
       "      <td>How likely do you think it is that you will ne...</td>\n",
       "      <td>NaN</td>\n",
       "      <td>NaN</td>\n",
       "      <td>q1c</td>\n",
       "      <td>Categorical</td>\n",
       "      <td>not at all likely, very unlikely, rather unlik...</td>\n",
       "      <td>True</td>\n",
       "      <td>Health Beliefs</td>\n",
       "      <td>q1</td>\n",
       "      <td>NaN</td>\n",
       "      <td>NaN</td>\n",
       "      <td>NaN</td>\n",
       "    </tr>\n",
       "    <tr>\n",
       "      <th>3</th>\n",
       "      <td>l_2m_quarantine</td>\n",
       "      <td>NaN</td>\n",
       "      <td>How likely do you think it is that you will be...</td>\n",
       "      <td>NaN</td>\n",
       "      <td>NaN</td>\n",
       "      <td>q1d</td>\n",
       "      <td>Categorical</td>\n",
       "      <td>not at all likely, very unlikely, rather unlik...</td>\n",
       "      <td>True</td>\n",
       "      <td>Health Beliefs</td>\n",
       "      <td>q1</td>\n",
       "      <td>NaN</td>\n",
       "      <td>NaN</td>\n",
       "      <td>NaN</td>\n",
       "    </tr>\n",
       "    <tr>\n",
       "      <th>4</th>\n",
       "      <td>l_2m_infected_and_pass_on</td>\n",
       "      <td>NaN</td>\n",
       "      <td>How likely do you think it is that you will ge...</td>\n",
       "      <td>NaN</td>\n",
       "      <td>NaN</td>\n",
       "      <td>q1e</td>\n",
       "      <td>Categorical</td>\n",
       "      <td>not at all likely, very unlikely, rather unlik...</td>\n",
       "      <td>True</td>\n",
       "      <td>Health Beliefs</td>\n",
       "      <td>q1</td>\n",
       "      <td>NaN</td>\n",
       "      <td>NaN</td>\n",
       "      <td>NaN</td>\n",
       "    </tr>\n",
       "    <tr>\n",
       "      <th>...</th>\n",
       "      <td>...</td>\n",
       "      <td>...</td>\n",
       "      <td>...</td>\n",
       "      <td>...</td>\n",
       "      <td>...</td>\n",
       "      <td>...</td>\n",
       "      <td>...</td>\n",
       "      <td>...</td>\n",
       "      <td>...</td>\n",
       "      <td>...</td>\n",
       "      <td>...</td>\n",
       "      <td>...</td>\n",
       "      <td>...</td>\n",
       "      <td>...</td>\n",
       "    </tr>\n",
       "    <tr>\n",
       "      <th>934</th>\n",
       "      <td>teacher_platform_sec_child5</td>\n",
       "      <td>NaN</td>\n",
       "      <td>Teacher(s) and pupil/parents communicated and ...</td>\n",
       "      <td>v6_vokind5__5</td>\n",
       "      <td>NaN</td>\n",
       "      <td>NaN</td>\n",
       "      <td>bool</td>\n",
       "      <td>NaN</td>\n",
       "      <td>NaN</td>\n",
       "      <td>Childcare</td>\n",
       "      <td>v6_bokind</td>\n",
       "      <td>NaN</td>\n",
       "      <td>NaN</td>\n",
       "      <td>NaN</td>\n",
       "    </tr>\n",
       "    <tr>\n",
       "      <th>935</th>\n",
       "      <td>teacher_pickup_sec_child5</td>\n",
       "      <td>NaN</td>\n",
       "      <td>Teaching materials had to be picked up at school</td>\n",
       "      <td>v6_vokind5__6</td>\n",
       "      <td>NaN</td>\n",
       "      <td>NaN</td>\n",
       "      <td>bool</td>\n",
       "      <td>NaN</td>\n",
       "      <td>NaN</td>\n",
       "      <td>Childcare</td>\n",
       "      <td>v6_bokind</td>\n",
       "      <td>NaN</td>\n",
       "      <td>NaN</td>\n",
       "      <td>NaN</td>\n",
       "    </tr>\n",
       "    <tr>\n",
       "      <th>936</th>\n",
       "      <td>teacher_none_sec_child5</td>\n",
       "      <td>NaN</td>\n",
       "      <td>There was no communication between teacher(s) ...</td>\n",
       "      <td>v6_vokind5__7</td>\n",
       "      <td>NaN</td>\n",
       "      <td>NaN</td>\n",
       "      <td>bool</td>\n",
       "      <td>NaN</td>\n",
       "      <td>NaN</td>\n",
       "      <td>Childcare</td>\n",
       "      <td>v6_bokind</td>\n",
       "      <td>NaN</td>\n",
       "      <td>NaN</td>\n",
       "      <td>NaN</td>\n",
       "    </tr>\n",
       "    <tr>\n",
       "      <th>937</th>\n",
       "      <td>teacher_other_sec_child5</td>\n",
       "      <td>NaN</td>\n",
       "      <td>Another way of communication/exchange, namely:</td>\n",
       "      <td>v6_vokind5__8</td>\n",
       "      <td>NaN</td>\n",
       "      <td>NaN</td>\n",
       "      <td>bool</td>\n",
       "      <td>NaN</td>\n",
       "      <td>NaN</td>\n",
       "      <td>Childcare</td>\n",
       "      <td>v6_bokind</td>\n",
       "      <td>NaN</td>\n",
       "      <td>NaN</td>\n",
       "      <td>NaN</td>\n",
       "    </tr>\n",
       "    <tr>\n",
       "      <th>938</th>\n",
       "      <td>teacher_other_sec_child5_str</td>\n",
       "      <td>NaN</td>\n",
       "      <td>Another way of communication/exchange, namely:</td>\n",
       "      <td>v6_and_vokind5</td>\n",
       "      <td>NaN</td>\n",
       "      <td>NaN</td>\n",
       "      <td>str</td>\n",
       "      <td>NaN</td>\n",
       "      <td>NaN</td>\n",
       "      <td>Childcare</td>\n",
       "      <td>v6_bokind</td>\n",
       "      <td>NaN</td>\n",
       "      <td>NaN</td>\n",
       "      <td>NaN</td>\n",
       "    </tr>\n",
       "  </tbody>\n",
       "</table>\n",
       "<p>939 rows × 14 columns</p>\n",
       "</div>"
      ],
      "text/plain": [
       "                         Variable  reference period other than survey period  \\\n",
       "0                   l_2m_infected                                        NaN   \n",
       "1      l_2m_acquaintance_infected                                        NaN   \n",
       "2    l_2m_hospital_if_infect_self                                        NaN   \n",
       "3                 l_2m_quarantine                                        NaN   \n",
       "4       l_2m_infected_and_pass_on                                        NaN   \n",
       "..                            ...                                        ...   \n",
       "934   teacher_platform_sec_child5                                        NaN   \n",
       "935     teacher_pickup_sec_child5                                        NaN   \n",
       "936       teacher_none_sec_child5                                        NaN   \n",
       "937      teacher_other_sec_child5                                        NaN   \n",
       "938  teacher_other_sec_child5_str                                        NaN   \n",
       "\n",
       "                                         label_english           wave3 wave2  \\\n",
       "0    How likely do you think it is that you will be...             NaN   NaN   \n",
       "1    How likely do you think it is that someone in ...             NaN   NaN   \n",
       "2    How likely do you think it is that you will ne...             NaN   NaN   \n",
       "3    How likely do you think it is that you will be...             NaN   NaN   \n",
       "4    How likely do you think it is that you will ge...             NaN   NaN   \n",
       "..                                                 ...             ...   ...   \n",
       "934  Teacher(s) and pupil/parents communicated and ...   v6_vokind5__5   NaN   \n",
       "935   Teaching materials had to be picked up at school   v6_vokind5__6   NaN   \n",
       "936  There was no communication between teacher(s) ...   v6_vokind5__7   NaN   \n",
       "937     Another way of communication/exchange, namely:   v6_vokind5__8   NaN   \n",
       "938     Another way of communication/exchange, namely:  v6_and_vokind5   NaN   \n",
       "\n",
       "    wave1         Type                                 categories_english  \\\n",
       "0     q1a  Categorical  not at all likely, very unlikely, rather unlik...   \n",
       "1     q1b  Categorical  not at all likely, very unlikely, rather unlik...   \n",
       "2     q1c  Categorical  not at all likely, very unlikely, rather unlik...   \n",
       "3     q1d  Categorical  not at all likely, very unlikely, rather unlik...   \n",
       "4     q1e  Categorical  not at all likely, very unlikely, rather unlik...   \n",
       "..    ...          ...                                                ...   \n",
       "934   NaN         bool                                                NaN   \n",
       "935   NaN         bool                                                NaN   \n",
       "936   NaN         bool                                                NaN   \n",
       "937   NaN         bool                                                NaN   \n",
       "938   NaN          str                                                NaN   \n",
       "\n",
       "    ordered           Topic question_group routing_wave_1 routing_wave_2  \\\n",
       "0      True  Health Beliefs             q1            NaN            NaN   \n",
       "1      True  Health Beliefs             q1            NaN            NaN   \n",
       "2      True  Health Beliefs             q1            NaN            NaN   \n",
       "3      True  Health Beliefs             q1            NaN            NaN   \n",
       "4      True  Health Beliefs             q1            NaN            NaN   \n",
       "..      ...             ...            ...            ...            ...   \n",
       "934     NaN       Childcare      v6_bokind            NaN            NaN   \n",
       "935     NaN       Childcare      v6_bokind            NaN            NaN   \n",
       "936     NaN       Childcare      v6_bokind            NaN            NaN   \n",
       "937     NaN       Childcare      v6_bokind            NaN            NaN   \n",
       "938     NaN       Childcare      v6_bokind            NaN            NaN   \n",
       "\n",
       "    routing_wave_3  \n",
       "0              NaN  \n",
       "1              NaN  \n",
       "2              NaN  \n",
       "3              NaN  \n",
       "4              NaN  \n",
       "..             ...  \n",
       "934            NaN  \n",
       "935            NaN  \n",
       "936            NaN  \n",
       "937            NaN  \n",
       "938            NaN  \n",
       "\n",
       "[939 rows x 14 columns]"
      ]
     },
     "execution_count": 52,
     "metadata": {},
     "output_type": "execute_result"
    },
    {
     "data": {
      "application/javascript": [
       "\n",
       "            setTimeout(function() {\n",
       "                var nbb_cell_id = 52;\n",
       "                var nbb_unformatted_code = \"table\";\n",
       "                var nbb_formatted_code = \"table\";\n",
       "                var nbb_cells = Jupyter.notebook.get_cells();\n",
       "                for (var i = 0; i < nbb_cells.length; ++i) {\n",
       "                    if (nbb_cells[i].input_prompt_number == nbb_cell_id) {\n",
       "                        if (nbb_cells[i].get_text() == nbb_unformatted_code) {\n",
       "                             nbb_cells[i].set_text(nbb_formatted_code);\n",
       "                        }\n",
       "                        break;\n",
       "                    }\n",
       "                }\n",
       "            }, 500);\n",
       "            "
      ],
      "text/plain": [
       "<IPython.core.display.Javascript object>"
      ]
     },
     "metadata": {},
     "output_type": "display_data"
    }
   ],
   "source": [
    "table"
   ]
  },
  {
   "cell_type": "code",
   "execution_count": 53,
   "metadata": {},
   "outputs": [
    {
     "data": {
      "application/javascript": [
       "\n",
       "            setTimeout(function() {\n",
       "                var nbb_cell_id = 53;\n",
       "                var nbb_unformatted_code = \"variable_table = create_description_table(table, waves, language_short)\";\n",
       "                var nbb_formatted_code = \"variable_table = create_description_table(table, waves, language_short)\";\n",
       "                var nbb_cells = Jupyter.notebook.get_cells();\n",
       "                for (var i = 0; i < nbb_cells.length; ++i) {\n",
       "                    if (nbb_cells[i].input_prompt_number == nbb_cell_id) {\n",
       "                        if (nbb_cells[i].get_text() == nbb_unformatted_code) {\n",
       "                             nbb_cells[i].set_text(nbb_formatted_code);\n",
       "                        }\n",
       "                        break;\n",
       "                    }\n",
       "                }\n",
       "            }, 500);\n",
       "            "
      ],
      "text/plain": [
       "<IPython.core.display.Javascript object>"
      ]
     },
     "metadata": {},
     "output_type": "display_data"
    }
   ],
   "source": [
    "variable_table = create_description_table(table, waves, language_short)"
   ]
  },
  {
   "cell_type": "code",
   "execution_count": 54,
   "metadata": {},
   "outputs": [
    {
     "data": {
      "application/javascript": [
       "\n",
       "            setTimeout(function() {\n",
       "                var nbb_cell_id = 54;\n",
       "                var nbb_unformatted_code = \"if len(waves) == 1:\\n    path = f\\\"../docs/source/wave-{waves[0]}/\\\"\\nelse:\\n    path = f\\\"../docs/source/\\\"\";\n",
       "                var nbb_formatted_code = \"if len(waves) == 1:\\n    path = f\\\"../docs/source/wave-{waves[0]}/\\\"\\nelse:\\n    path = f\\\"../docs/source/\\\"\";\n",
       "                var nbb_cells = Jupyter.notebook.get_cells();\n",
       "                for (var i = 0; i < nbb_cells.length; ++i) {\n",
       "                    if (nbb_cells[i].input_prompt_number == nbb_cell_id) {\n",
       "                        if (nbb_cells[i].get_text() == nbb_unformatted_code) {\n",
       "                             nbb_cells[i].set_text(nbb_formatted_code);\n",
       "                        }\n",
       "                        break;\n",
       "                    }\n",
       "                }\n",
       "            }, 500);\n",
       "            "
      ],
      "text/plain": [
       "<IPython.core.display.Javascript object>"
      ]
     },
     "metadata": {},
     "output_type": "display_data"
    }
   ],
   "source": [
    "if len(waves) == 1:\n",
    "    path = f\"../docs/source/wave-{waves[0]}/\"\n",
    "else:\n",
    "    path = f\"../docs/source/\""
   ]
  },
  {
   "cell_type": "code",
   "execution_count": 55,
   "metadata": {
    "scrolled": true
   },
   "outputs": [
    {
     "data": {
      "text/html": [
       "<div>\n",
       "<style scoped>\n",
       "    .dataframe tbody tr th:only-of-type {\n",
       "        vertical-align: middle;\n",
       "    }\n",
       "\n",
       "    .dataframe tbody tr th {\n",
       "        vertical-align: top;\n",
       "    }\n",
       "\n",
       "    .dataframe thead th {\n",
       "        text-align: right;\n",
       "    }\n",
       "</style>\n",
       "<table border=\"1\" class=\"dataframe\">\n",
       "  <thead>\n",
       "    <tr style=\"text-align: right;\">\n",
       "      <th></th>\n",
       "      <th>Variable</th>\n",
       "      <th>Links Wave 2</th>\n",
       "      <th>Type</th>\n",
       "      <th>Topic</th>\n",
       "      <th>Reference Period Other Than Survey Period</th>\n",
       "      <th>Question Id</th>\n",
       "      <th>Routing</th>\n",
       "    </tr>\n",
       "  </thead>\n",
       "  <tbody>\n",
       "    <tr>\n",
       "      <th>5</th>\n",
       "      <td>p_2m_infected</td>\n",
       "      <td>:ref:`🔗 &lt;w2e-q1header&gt;`</td>\n",
       "      <td>float</td>\n",
       "      <td>Health Beliefs</td>\n",
       "      <td></td>\n",
       "      <td>q1a</td>\n",
       "      <td></td>\n",
       "    </tr>\n",
       "    <tr>\n",
       "      <th>6</th>\n",
       "      <td>p_2m_acquaintance_infected</td>\n",
       "      <td>:ref:`🔗 &lt;w2e-q1header&gt;`</td>\n",
       "      <td>float</td>\n",
       "      <td>Health Beliefs</td>\n",
       "      <td></td>\n",
       "      <td>q1b</td>\n",
       "      <td></td>\n",
       "    </tr>\n",
       "    <tr>\n",
       "      <th>7</th>\n",
       "      <td>p_2m_hospital_if_infect_self</td>\n",
       "      <td>:ref:`🔗 &lt;w2e-q1header&gt;`</td>\n",
       "      <td>float</td>\n",
       "      <td>Health Beliefs</td>\n",
       "      <td></td>\n",
       "      <td>q1c</td>\n",
       "      <td></td>\n",
       "    </tr>\n",
       "    <tr>\n",
       "      <th>8</th>\n",
       "      <td>p_2m_infected_and_pass_on</td>\n",
       "      <td>:ref:`🔗 &lt;w2e-q1header&gt;`</td>\n",
       "      <td>float</td>\n",
       "      <td>Health Beliefs</td>\n",
       "      <td></td>\n",
       "      <td>q1e</td>\n",
       "      <td></td>\n",
       "    </tr>\n",
       "    <tr>\n",
       "      <th>39</th>\n",
       "      <td>work_status_202002</td>\n",
       "      <td>:ref:`🔗 &lt;w2e-q13&gt;`</td>\n",
       "      <td>Categorical</td>\n",
       "      <td>Employment</td>\n",
       "      <td>202002</td>\n",
       "      <td>q13</td>\n",
       "      <td>if (participate_wave1 != 1)</td>\n",
       "    </tr>\n",
       "    <tr>\n",
       "      <th>...</th>\n",
       "      <td>...</td>\n",
       "      <td>...</td>\n",
       "      <td>...</td>\n",
       "      <td>...</td>\n",
       "      <td>...</td>\n",
       "      <td>...</td>\n",
       "      <td>...</td>\n",
       "    </tr>\n",
       "    <tr>\n",
       "      <th>324</th>\n",
       "      <td>bought_or_sold_stocks</td>\n",
       "      <td>:ref:`🔗 &lt;w2e-StockTrading&gt;`</td>\n",
       "      <td>Categorical</td>\n",
       "      <td>Macro Expectations</td>\n",
       "      <td></td>\n",
       "      <td>StockTrading</td>\n",
       "      <td></td>\n",
       "    </tr>\n",
       "    <tr>\n",
       "      <th>325</th>\n",
       "      <td>amount_stocks_bought</td>\n",
       "      <td>:ref:`🔗 &lt;w2e-Stock3&gt;`</td>\n",
       "      <td>Categorical</td>\n",
       "      <td>Macro Expectations</td>\n",
       "      <td></td>\n",
       "      <td>Stock3</td>\n",
       "      <td>if (StockTrading = 3)</td>\n",
       "    </tr>\n",
       "    <tr>\n",
       "      <th>326</th>\n",
       "      <td>amount_stocks_sold</td>\n",
       "      <td>:ref:`🔗 &lt;w2e-Stock4&gt;`</td>\n",
       "      <td>Categorical</td>\n",
       "      <td>Macro Expectations</td>\n",
       "      <td></td>\n",
       "      <td>Stock4</td>\n",
       "      <td>if (StockTrading = 4)</td>\n",
       "    </tr>\n",
       "    <tr>\n",
       "      <th>327</th>\n",
       "      <td>amount_stocks_bought_merge</td>\n",
       "      <td>:ref:`🔗 &lt;w2e-Stock5&gt;`</td>\n",
       "      <td>Categorical</td>\n",
       "      <td>Macro Expectations</td>\n",
       "      <td></td>\n",
       "      <td>Stock5</td>\n",
       "      <td>if (StockTrading = 5)</td>\n",
       "    </tr>\n",
       "    <tr>\n",
       "      <th>328</th>\n",
       "      <td>amount_stocks_sold_merge</td>\n",
       "      <td>:ref:`🔗 &lt;w2e-Stock6&gt;`</td>\n",
       "      <td>Categorical</td>\n",
       "      <td>Macro Expectations</td>\n",
       "      <td></td>\n",
       "      <td>Stock6</td>\n",
       "      <td>if (StockTrading = 5)</td>\n",
       "    </tr>\n",
       "  </tbody>\n",
       "</table>\n",
       "<p>152 rows × 7 columns</p>\n",
       "</div>"
      ],
      "text/plain": [
       "                         Variable                 Links Wave 2         Type  \\\n",
       "5                   p_2m_infected      :ref:`🔗 <w2e-q1header>`        float   \n",
       "6      p_2m_acquaintance_infected      :ref:`🔗 <w2e-q1header>`        float   \n",
       "7    p_2m_hospital_if_infect_self      :ref:`🔗 <w2e-q1header>`        float   \n",
       "8       p_2m_infected_and_pass_on      :ref:`🔗 <w2e-q1header>`        float   \n",
       "39             work_status_202002           :ref:`🔗 <w2e-q13>`  Categorical   \n",
       "..                            ...                          ...          ...   \n",
       "324         bought_or_sold_stocks  :ref:`🔗 <w2e-StockTrading>`  Categorical   \n",
       "325          amount_stocks_bought        :ref:`🔗 <w2e-Stock3>`  Categorical   \n",
       "326            amount_stocks_sold        :ref:`🔗 <w2e-Stock4>`  Categorical   \n",
       "327    amount_stocks_bought_merge        :ref:`🔗 <w2e-Stock5>`  Categorical   \n",
       "328      amount_stocks_sold_merge        :ref:`🔗 <w2e-Stock6>`  Categorical   \n",
       "\n",
       "                  Topic Reference Period Other Than Survey Period  \\\n",
       "5        Health Beliefs                                             \n",
       "6        Health Beliefs                                             \n",
       "7        Health Beliefs                                             \n",
       "8        Health Beliefs                                             \n",
       "39           Employment                                    202002   \n",
       "..                  ...                                       ...   \n",
       "324  Macro Expectations                                             \n",
       "325  Macro Expectations                                             \n",
       "326  Macro Expectations                                             \n",
       "327  Macro Expectations                                             \n",
       "328  Macro Expectations                                             \n",
       "\n",
       "      Question Id                       Routing  \n",
       "5             q1a                                \n",
       "6             q1b                                \n",
       "7             q1c                                \n",
       "8             q1e                                \n",
       "39            q13  if (participate_wave1 != 1)   \n",
       "..            ...                           ...  \n",
       "324  StockTrading                                \n",
       "325        Stock3         if (StockTrading = 3)  \n",
       "326        Stock4         if (StockTrading = 4)  \n",
       "327        Stock5         if (StockTrading = 5)  \n",
       "328        Stock6         if (StockTrading = 5)  \n",
       "\n",
       "[152 rows x 7 columns]"
      ]
     },
     "execution_count": 55,
     "metadata": {},
     "output_type": "execute_result"
    },
    {
     "data": {
      "application/javascript": [
       "\n",
       "            setTimeout(function() {\n",
       "                var nbb_cell_id = 55;\n",
       "                var nbb_unformatted_code = \"variable_table\";\n",
       "                var nbb_formatted_code = \"variable_table\";\n",
       "                var nbb_cells = Jupyter.notebook.get_cells();\n",
       "                for (var i = 0; i < nbb_cells.length; ++i) {\n",
       "                    if (nbb_cells[i].input_prompt_number == nbb_cell_id) {\n",
       "                        if (nbb_cells[i].get_text() == nbb_unformatted_code) {\n",
       "                             nbb_cells[i].set_text(nbb_formatted_code);\n",
       "                        }\n",
       "                        break;\n",
       "                    }\n",
       "                }\n",
       "            }, 500);\n",
       "            "
      ],
      "text/plain": [
       "<IPython.core.display.Javascript object>"
      ]
     },
     "metadata": {},
     "output_type": "display_data"
    }
   ],
   "source": [
    "variable_table"
   ]
  },
  {
   "cell_type": "code",
   "execution_count": 56,
   "metadata": {},
   "outputs": [
    {
     "data": {
      "application/javascript": [
       "\n",
       "            setTimeout(function() {\n",
       "                var nbb_cell_id = 56;\n",
       "                var nbb_unformatted_code = \"if language_short == \\\"e\\\":\\n    variable_table.to_csv(\\n        f\\\"{path}variable_table-waves-{'-'.join(str(i) for i in waves)}-{language_short}.csv\\\",\\n        sep=\\\",\\\",\\n        index=False,\\n    )\";\n",
       "                var nbb_formatted_code = \"if language_short == \\\"e\\\":\\n    variable_table.to_csv(\\n        f\\\"{path}variable_table-waves-{'-'.join(str(i) for i in waves)}-{language_short}.csv\\\",\\n        sep=\\\",\\\",\\n        index=False,\\n    )\";\n",
       "                var nbb_cells = Jupyter.notebook.get_cells();\n",
       "                for (var i = 0; i < nbb_cells.length; ++i) {\n",
       "                    if (nbb_cells[i].input_prompt_number == nbb_cell_id) {\n",
       "                        if (nbb_cells[i].get_text() == nbb_unformatted_code) {\n",
       "                             nbb_cells[i].set_text(nbb_formatted_code);\n",
       "                        }\n",
       "                        break;\n",
       "                    }\n",
       "                }\n",
       "            }, 500);\n",
       "            "
      ],
      "text/plain": [
       "<IPython.core.display.Javascript object>"
      ]
     },
     "metadata": {},
     "output_type": "display_data"
    }
   ],
   "source": [
    "if language_short == \"e\":\n",
    "    variable_table.to_csv(\n",
    "        f\"{path}variable_table-waves-{'-'.join(str(i) for i in waves)}-{language_short}.csv\",\n",
    "        sep=\",\",\n",
    "        index=False,\n",
    "    )"
   ]
  },
  {
   "cell_type": "markdown",
   "metadata": {},
   "source": [
    "## Create overview table for topics"
   ]
  },
  {
   "cell_type": "code",
   "execution_count": 34,
   "metadata": {},
   "outputs": [
    {
     "data": {
      "application/javascript": [
       "\n",
       "            setTimeout(function() {\n",
       "                var nbb_cell_id = 34;\n",
       "                var nbb_unformatted_code = \"import os\\nfrom functions import add_to_file\";\n",
       "                var nbb_formatted_code = \"import os\\nfrom functions import add_to_file\";\n",
       "                var nbb_cells = Jupyter.notebook.get_cells();\n",
       "                for (var i = 0; i < nbb_cells.length; ++i) {\n",
       "                    if (nbb_cells[i].input_prompt_number == nbb_cell_id) {\n",
       "                        if (nbb_cells[i].get_text() == nbb_unformatted_code) {\n",
       "                             nbb_cells[i].set_text(nbb_formatted_code);\n",
       "                        }\n",
       "                        break;\n",
       "                    }\n",
       "                }\n",
       "            }, 500);\n",
       "            "
      ],
      "text/plain": [
       "<IPython.core.display.Javascript object>"
      ]
     },
     "metadata": {},
     "output_type": "display_data"
    }
   ],
   "source": [
    "import os\n",
    "from functions import add_to_file"
   ]
  },
  {
   "cell_type": "code",
   "execution_count": 35,
   "metadata": {},
   "outputs": [
    {
     "data": {
      "application/javascript": [
       "\n",
       "            setTimeout(function() {\n",
       "                var nbb_cell_id = 35;\n",
       "                var nbb_unformatted_code = \"def create_overview_page(topic_dict, wave, language, path):\\n\\n    file_name = f\\\"wave{wave}_questions_{language}_topics\\\"\\n    target = f\\\"{path}{file_name}.rst\\\"\\n    if os.path.exists(target):\\n        os.remove(target)\\n    add_to_file(f\\\".. _{file_name}:\\\", target)\\n    add_to_file(\\\"\\\\n\\\", target)\\n    title = (\\n        f\\\"Overview of Questions Wave {wave} ({language.capitalize()}) Grouped by Topic\\\"\\n    )\\n    add_to_file(title, target)\\n    add_to_file(\\\"=\\\" * len(title), target)\\n    add_to_file(\\n        \\\"This page contains the questions grouped by topic. \\\"\\n        \\\"When clicking into a question, please note that internally the questions are \\\"\\n        \\\"ordered according to their appearance in the questionnaire. Clicking on \\\"\\n        \\\"the next or previous question will thus not preseve the grouping by topic.\\\",\\n        target,\\n    )\\n    add_to_file(\\\"\\\\n\\\", target)\\n\\n    for key in topic_dict.keys():\\n        add_to_file(key, target)\\n        add_to_file(\\\"-\\\" * len(key), target)\\n        add_to_file(\\\"\\\", target)\\n        add_to_file(\\\".. toctree::\\\", target)\\n        add_to_file(\\\"   :maxdepth: 1\\\", target)\\n        add_to_file(\\\"\\\", target)\\n        for question in topic_dict[key]:\\n            add_to_file(f\\\"   {language}/{question}\\\", target)\\n        add_to_file(\\\"\\\\n\\\", target)\";\n",
       "                var nbb_formatted_code = \"def create_overview_page(topic_dict, wave, language, path):\\n\\n    file_name = f\\\"wave{wave}_questions_{language}_topics\\\"\\n    target = f\\\"{path}{file_name}.rst\\\"\\n    if os.path.exists(target):\\n        os.remove(target)\\n    add_to_file(f\\\".. _{file_name}:\\\", target)\\n    add_to_file(\\\"\\\\n\\\", target)\\n    title = (\\n        f\\\"Overview of Questions Wave {wave} ({language.capitalize()}) Grouped by Topic\\\"\\n    )\\n    add_to_file(title, target)\\n    add_to_file(\\\"=\\\" * len(title), target)\\n    add_to_file(\\n        \\\"This page contains the questions grouped by topic. \\\"\\n        \\\"When clicking into a question, please note that internally the questions are \\\"\\n        \\\"ordered according to their appearance in the questionnaire. Clicking on \\\"\\n        \\\"the next or previous question will thus not preseve the grouping by topic.\\\",\\n        target,\\n    )\\n    add_to_file(\\\"\\\\n\\\", target)\\n\\n    for key in topic_dict.keys():\\n        add_to_file(key, target)\\n        add_to_file(\\\"-\\\" * len(key), target)\\n        add_to_file(\\\"\\\", target)\\n        add_to_file(\\\".. toctree::\\\", target)\\n        add_to_file(\\\"   :maxdepth: 1\\\", target)\\n        add_to_file(\\\"\\\", target)\\n        for question in topic_dict[key]:\\n            add_to_file(f\\\"   {language}/{question}\\\", target)\\n        add_to_file(\\\"\\\\n\\\", target)\";\n",
       "                var nbb_cells = Jupyter.notebook.get_cells();\n",
       "                for (var i = 0; i < nbb_cells.length; ++i) {\n",
       "                    if (nbb_cells[i].input_prompt_number == nbb_cell_id) {\n",
       "                        if (nbb_cells[i].get_text() == nbb_unformatted_code) {\n",
       "                             nbb_cells[i].set_text(nbb_formatted_code);\n",
       "                        }\n",
       "                        break;\n",
       "                    }\n",
       "                }\n",
       "            }, 500);\n",
       "            "
      ],
      "text/plain": [
       "<IPython.core.display.Javascript object>"
      ]
     },
     "metadata": {},
     "output_type": "display_data"
    }
   ],
   "source": [
    "def create_overview_page(topic_dict, wave, language, path):\n",
    "\n",
    "    file_name = f\"wave{wave}_questions_{language}_topics\"\n",
    "    target = f\"{path}{file_name}.rst\"\n",
    "    if os.path.exists(target):\n",
    "        os.remove(target)\n",
    "    add_to_file(f\".. _{file_name}:\", target)\n",
    "    add_to_file(\"\\n\", target)\n",
    "    title = (\n",
    "        f\"Overview of Questions Wave {wave} ({language.capitalize()}) Grouped by Topic\"\n",
    "    )\n",
    "    add_to_file(title, target)\n",
    "    add_to_file(\"=\" * len(title), target)\n",
    "    add_to_file(\n",
    "        \"This page contains the questions grouped by topic. \"\n",
    "        \"When clicking into a question, please note that internally the questions are \"\n",
    "        \"ordered according to their appearance in the questionnaire. Clicking on \"\n",
    "        \"the next or previous question will thus not preseve the grouping by topic.\",\n",
    "        target,\n",
    "    )\n",
    "    add_to_file(\"\\n\", target)\n",
    "\n",
    "    for key in topic_dict.keys():\n",
    "        add_to_file(key, target)\n",
    "        add_to_file(\"-\" * len(key), target)\n",
    "        add_to_file(\"\", target)\n",
    "        add_to_file(\".. toctree::\", target)\n",
    "        add_to_file(\"   :maxdepth: 1\", target)\n",
    "        add_to_file(\"\", target)\n",
    "        for question in topic_dict[key]:\n",
    "            add_to_file(f\"   {language}/{question}\", target)\n",
    "        add_to_file(\"\\n\", target)"
   ]
  },
  {
   "cell_type": "code",
   "execution_count": 36,
   "metadata": {},
   "outputs": [
    {
     "data": {
      "application/javascript": [
       "\n",
       "            setTimeout(function() {\n",
       "                var nbb_cell_id = 36;\n",
       "                var nbb_unformatted_code = \"if len(waves) == 1:\\n    topic_table = create_description_table(\\n        table, waves, language_short, return_links_as_symbols=False\\n    )\\n    topic_dict = topic_table.groupby(\\\"Topic\\\")[f\\\"Links Wave {waves[0]}\\\"].unique()\\n    for key in [\\\"skip\\\", \\\"Skip\\\"]:\\n        if key in topic_dict.keys():\\n            topic_dict = topic_dict.drop(key)\\n    create_overview_page(topic_dict, waves[0], language_long, path)\";\n",
       "                var nbb_formatted_code = \"if len(waves) == 1:\\n    topic_table = create_description_table(\\n        table, waves, language_short, return_links_as_symbols=False\\n    )\\n    topic_dict = topic_table.groupby(\\\"Topic\\\")[f\\\"Links Wave {waves[0]}\\\"].unique()\\n    for key in [\\\"skip\\\", \\\"Skip\\\"]:\\n        if key in topic_dict.keys():\\n            topic_dict = topic_dict.drop(key)\\n    create_overview_page(topic_dict, waves[0], language_long, path)\";\n",
       "                var nbb_cells = Jupyter.notebook.get_cells();\n",
       "                for (var i = 0; i < nbb_cells.length; ++i) {\n",
       "                    if (nbb_cells[i].input_prompt_number == nbb_cell_id) {\n",
       "                        if (nbb_cells[i].get_text() == nbb_unformatted_code) {\n",
       "                             nbb_cells[i].set_text(nbb_formatted_code);\n",
       "                        }\n",
       "                        break;\n",
       "                    }\n",
       "                }\n",
       "            }, 500);\n",
       "            "
      ],
      "text/plain": [
       "<IPython.core.display.Javascript object>"
      ]
     },
     "metadata": {},
     "output_type": "display_data"
    }
   ],
   "source": [
    "if len(waves) == 1:\n",
    "    topic_table = create_description_table(\n",
    "        table, waves, language_short, return_links_as_symbols=False\n",
    "    )\n",
    "    topic_dict = topic_table.groupby(\"Topic\")[f\"Links Wave {waves[0]}\"].unique()\n",
    "    for key in [\"skip\", \"Skip\"]:\n",
    "        if key in topic_dict.keys():\n",
    "            topic_dict = topic_dict.drop(key)\n",
    "    create_overview_page(topic_dict, waves[0], language_long, path)"
   ]
  }
 ],
 "metadata": {
  "kernelspec": {
   "display_name": "Python 3",
   "language": "python",
   "name": "python3"
  },
  "language_info": {
   "codemirror_mode": {
    "name": "ipython",
    "version": 3
   },
   "file_extension": ".py",
   "mimetype": "text/x-python",
   "name": "python",
   "nbconvert_exporter": "python",
   "pygments_lexer": "ipython3",
   "version": "3.7.6"
  }
 },
 "nbformat": 4,
 "nbformat_minor": 4
}
