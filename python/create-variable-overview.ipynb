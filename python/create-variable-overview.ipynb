{
 "cells": [
  {
   "cell_type": "code",
   "execution_count": 1,
   "metadata": {},
   "outputs": [],
   "source": [
    "import os \n",
    "import pandas as pd \n",
    "import numpy as np"
   ]
  },
  {
   "cell_type": "markdown",
   "metadata": {},
   "source": [
    "## Functions"
   ]
  },
  {
   "cell_type": "code",
   "execution_count": 2,
   "metadata": {},
   "outputs": [],
   "source": [
    "def create_description_table(table, waves, language):\n",
    "    table = table.copy()\n",
    "    # drop all observations that are not from the desired waves\n",
    "    table = table.fillna(\"-\")\n",
    "    # drop columns\n",
    "    table = table.drop([\"label_english\",\"categories_english\"], axis=1)\n",
    "    table = table[table[\"question_group\"] != \"-\"]\n",
    "    table = table[table[\"variable\"] != \"-\"]\n",
    "    for i in [1,2,3]:\n",
    "        if i not in waves:\n",
    "            table = table.drop([f\"wave{i}\"], axis =1)\n",
    "            \n",
    "    # drop observations\n",
    "    if len(waves) == 1:\n",
    "        table = table[table[f\"wave{waves[0]}\"] != \"-\"]\n",
    "    elif len(waves) == 2:\n",
    "        table =table[(table[f\"wave{waves[0]}\"] != \"-\") | (table[f\"wave{waves[1]}\"] != \"-\")]          \n",
    "    else: \n",
    "        table =table[\n",
    "            (table[f\"wave{waves[0]}\"]!= \"-\") | (table[f\"wave{waves[1]}\"]!= \"-\") | (table[f\"wave{waves[2]}\"]!= \"-\")]\n",
    "                                                                                \n",
    "    # replace question id with question group id\n",
    "    for i in waves:\n",
    "        table[f\"wave{i}\"] = np.where(table[f\"wave{i}\"] == \"-\", table[f\"wave{i}\"], table[\"question_group\"])\n",
    "                                                                                                                                                  \n",
    "    # create question link \":ref:`wNL-{question_group}`\n",
    "    for i in waves:\n",
    "        table[f\"wave{i}\"] = table[f'wave{i}'].apply(lambda x: f\":ref:`w{str(i)}{language}-{x}`\")\n",
    "        table[f\"wave{i}\"] = np.where(table[f\"wave{i}\"].str.contains(\"--\")==False, table[f\"wave{i}\"], \"-\")\n",
    "    table = table.drop([\"question_group\"], axis=1)\n",
    "    return table"
   ]
  },
  {
   "cell_type": "markdown",
   "metadata": {},
   "source": [
    "## Create Table "
   ]
  },
  {
   "cell_type": "markdown",
   "metadata": {},
   "source": [
    "Read in description table "
   ]
  },
  {
   "cell_type": "code",
   "execution_count": 3,
   "metadata": {},
   "outputs": [],
   "source": [
    "table =pd.read_csv(\"description-tables/xyx-corona-questionnaire_renaming_with_groups.csv\", sep=\";\")"
   ]
  },
  {
   "cell_type": "markdown",
   "metadata": {},
   "source": [
    "Rename columns so they are easier to handle for the functions"
   ]
  },
  {
   "cell_type": "code",
   "execution_count": 4,
   "metadata": {},
   "outputs": [],
   "source": [
    "table = table.rename(columns={\n",
    "                  \"L_CoronavirusImpact_wave3_3p.dta\":\"wave3\", \n",
    "                  \"L_CoronavirusImpact_4.0p.dta\":\"wave2\", \n",
    "                  \"L_CoronavirusImpact_3p.dta\":\"wave1\",\n",
    "                  \"new_name\": \"variable\"\n",
    "                 })\n",
    "    "
   ]
  },
  {
   "cell_type": "markdown",
   "metadata": {},
   "source": [
    "Select wave and language indicator. `language` should be one lower-case letter. `waves` should be a list of one or more values."
   ]
  },
  {
   "cell_type": "code",
   "execution_count": 5,
   "metadata": {},
   "outputs": [],
   "source": [
    "waves = [3]\n",
    "language = \"e\""
   ]
  },
  {
   "cell_type": "markdown",
   "metadata": {},
   "source": [
    "Create decription table and save to csv."
   ]
  },
  {
   "cell_type": "code",
   "execution_count": 6,
   "metadata": {},
   "outputs": [],
   "source": [
    "variable_table = create_description_table(table, waves ,language)"
   ]
  },
  {
   "cell_type": "code",
   "execution_count": 7,
   "metadata": {},
   "outputs": [],
   "source": [
    "if len(waves) == 1:\n",
    "    path = f\"../docs/source/wave-{waves[0]}/\"\n",
    "else:\n",
    "    path = f\"../docs/source/\""
   ]
  },
  {
   "cell_type": "code",
   "execution_count": 8,
   "metadata": {},
   "outputs": [
    {
     "data": {
      "text/html": [
       "<div>\n",
       "<style scoped>\n",
       "    .dataframe tbody tr th:only-of-type {\n",
       "        vertical-align: middle;\n",
       "    }\n",
       "\n",
       "    .dataframe tbody tr th {\n",
       "        vertical-align: top;\n",
       "    }\n",
       "\n",
       "    .dataframe thead th {\n",
       "        text-align: right;\n",
       "    }\n",
       "</style>\n",
       "<table border=\"1\" class=\"dataframe\">\n",
       "  <thead>\n",
       "    <tr style=\"text-align: right;\">\n",
       "      <th></th>\n",
       "      <th>variable</th>\n",
       "      <th>reference period other than survey period</th>\n",
       "      <th>wave3</th>\n",
       "      <th>type</th>\n",
       "      <th>ordered</th>\n",
       "    </tr>\n",
       "  </thead>\n",
       "  <tbody>\n",
       "    <tr>\n",
       "      <th>5</th>\n",
       "      <td>p_2m_infected</td>\n",
       "      <td>-</td>\n",
       "      <td>:ref:`w3e-q1header`</td>\n",
       "      <td>float</td>\n",
       "      <td>-</td>\n",
       "    </tr>\n",
       "    <tr>\n",
       "      <th>6</th>\n",
       "      <td>p_2m_acquaintance_infected</td>\n",
       "      <td>-</td>\n",
       "      <td>:ref:`w3e-q1header`</td>\n",
       "      <td>float</td>\n",
       "      <td>-</td>\n",
       "    </tr>\n",
       "    <tr>\n",
       "      <th>7</th>\n",
       "      <td>p_2m_hospital_if_infect_self</td>\n",
       "      <td>-</td>\n",
       "      <td>:ref:`w3e-q1header`</td>\n",
       "      <td>float</td>\n",
       "      <td>-</td>\n",
       "    </tr>\n",
       "    <tr>\n",
       "      <th>8</th>\n",
       "      <td>p_2m_infected_and_pass_on</td>\n",
       "      <td>-</td>\n",
       "      <td>:ref:`w3e-q1header`</td>\n",
       "      <td>float</td>\n",
       "      <td>-</td>\n",
       "    </tr>\n",
       "    <tr>\n",
       "      <th>34</th>\n",
       "      <td>approp_gov_medical</td>\n",
       "      <td>-</td>\n",
       "      <td>:ref:`w3e-q33`</td>\n",
       "      <td>Categorical</td>\n",
       "      <td>True</td>\n",
       "    </tr>\n",
       "    <tr>\n",
       "      <th>...</th>\n",
       "      <td>...</td>\n",
       "      <td>...</td>\n",
       "      <td>...</td>\n",
       "      <td>...</td>\n",
       "      <td>...</td>\n",
       "    </tr>\n",
       "    <tr>\n",
       "      <th>934</th>\n",
       "      <td>teacher_platform_sec_child5</td>\n",
       "      <td>-</td>\n",
       "      <td>:ref:`w3e-v6_bokind`</td>\n",
       "      <td>bool</td>\n",
       "      <td>-</td>\n",
       "    </tr>\n",
       "    <tr>\n",
       "      <th>935</th>\n",
       "      <td>teacher_pickup_sec_child5</td>\n",
       "      <td>-</td>\n",
       "      <td>:ref:`w3e-v6_bokind`</td>\n",
       "      <td>bool</td>\n",
       "      <td>-</td>\n",
       "    </tr>\n",
       "    <tr>\n",
       "      <th>936</th>\n",
       "      <td>teacher_none_sec_child5</td>\n",
       "      <td>-</td>\n",
       "      <td>:ref:`w3e-v6_bokind`</td>\n",
       "      <td>bool</td>\n",
       "      <td>-</td>\n",
       "    </tr>\n",
       "    <tr>\n",
       "      <th>937</th>\n",
       "      <td>teacher_other_sec_child5</td>\n",
       "      <td>-</td>\n",
       "      <td>:ref:`w3e-v6_bokind`</td>\n",
       "      <td>bool</td>\n",
       "      <td>-</td>\n",
       "    </tr>\n",
       "    <tr>\n",
       "      <th>938</th>\n",
       "      <td>teacher_other_sec_child5_str</td>\n",
       "      <td>-</td>\n",
       "      <td>:ref:`w3e-v6_bokind`</td>\n",
       "      <td>str</td>\n",
       "      <td>-</td>\n",
       "    </tr>\n",
       "  </tbody>\n",
       "</table>\n",
       "<p>630 rows × 5 columns</p>\n",
       "</div>"
      ],
      "text/plain": [
       "                         variable reference period other than survey period  \\\n",
       "5                   p_2m_infected                                         -   \n",
       "6      p_2m_acquaintance_infected                                         -   \n",
       "7    p_2m_hospital_if_infect_self                                         -   \n",
       "8       p_2m_infected_and_pass_on                                         -   \n",
       "34             approp_gov_medical                                         -   \n",
       "..                            ...                                       ...   \n",
       "934   teacher_platform_sec_child5                                         -   \n",
       "935     teacher_pickup_sec_child5                                         -   \n",
       "936       teacher_none_sec_child5                                         -   \n",
       "937      teacher_other_sec_child5                                         -   \n",
       "938  teacher_other_sec_child5_str                                         -   \n",
       "\n",
       "                    wave3         type ordered  \n",
       "5     :ref:`w3e-q1header`        float       -  \n",
       "6     :ref:`w3e-q1header`        float       -  \n",
       "7     :ref:`w3e-q1header`        float       -  \n",
       "8     :ref:`w3e-q1header`        float       -  \n",
       "34         :ref:`w3e-q33`  Categorical    True  \n",
       "..                    ...          ...     ...  \n",
       "934  :ref:`w3e-v6_bokind`         bool       -  \n",
       "935  :ref:`w3e-v6_bokind`         bool       -  \n",
       "936  :ref:`w3e-v6_bokind`         bool       -  \n",
       "937  :ref:`w3e-v6_bokind`         bool       -  \n",
       "938  :ref:`w3e-v6_bokind`          str       -  \n",
       "\n",
       "[630 rows x 5 columns]"
      ]
     },
     "execution_count": 8,
     "metadata": {},
     "output_type": "execute_result"
    }
   ],
   "source": [
    "variable_table"
   ]
  },
  {
   "cell_type": "code",
   "execution_count": 9,
   "metadata": {},
   "outputs": [],
   "source": [
    "variable_table.to_csv(\n",
    "    f\"{path}variable_table-waves-{'-'.join(str(i) for i in waves)}-{language}.csv\", sep=\",\", index=False)"
   ]
  }
 ],
 "metadata": {
  "kernelspec": {
   "display_name": "Python 3",
   "language": "python",
   "name": "python3"
  },
  "language_info": {
   "codemirror_mode": {
    "name": "ipython",
    "version": 3
   },
   "file_extension": ".py",
   "mimetype": "text/x-python",
   "name": "python",
   "nbconvert_exporter": "python",
   "pygments_lexer": "ipython3",
   "version": "3.7.6"
  }
 },
 "nbformat": 4,
 "nbformat_minor": 4
}
