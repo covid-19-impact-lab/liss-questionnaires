{
 "cells": [
  {
   "cell_type": "code",
   "execution_count": 1,
   "metadata": {},
   "outputs": [
    {
     "data": {
      "application/javascript": [
       "\n",
       "            setTimeout(function() {\n",
       "                var nbb_cell_id = 1;\n",
       "                var nbb_unformatted_code = \"%load_ext nb_black\\nimport os\\nimport pandas as pd\\nimport numpy as np\";\n",
       "                var nbb_formatted_code = \"%load_ext nb_black\\nimport os\\nimport pandas as pd\\nimport numpy as np\";\n",
       "                var nbb_cells = Jupyter.notebook.get_cells();\n",
       "                for (var i = 0; i < nbb_cells.length; ++i) {\n",
       "                    if (nbb_cells[i].input_prompt_number == nbb_cell_id) {\n",
       "                        if (nbb_cells[i].get_text() == nbb_unformatted_code) {\n",
       "                             nbb_cells[i].set_text(nbb_formatted_code);\n",
       "                        }\n",
       "                        break;\n",
       "                    }\n",
       "                }\n",
       "            }, 500);\n",
       "            "
      ],
      "text/plain": [
       "<IPython.core.display.Javascript object>"
      ]
     },
     "metadata": {},
     "output_type": "display_data"
    }
   ],
   "source": [
    "%load_ext nb_black\n",
    "import os\n",
    "import pandas as pd\n",
    "import numpy as np"
   ]
  },
  {
   "cell_type": "markdown",
   "metadata": {},
   "source": [
    "## Functions"
   ]
  },
  {
   "cell_type": "code",
   "execution_count": 2,
   "metadata": {},
   "outputs": [
    {
     "data": {
      "application/javascript": [
       "\n",
       "            setTimeout(function() {\n",
       "                var nbb_cell_id = 2;\n",
       "                var nbb_unformatted_code = \"def create_description_table(\\n    table, waves, language, return_links_as_symbols=True, routing=True\\n):\\n    \\\"\\\"\\\" Create variable overview from data description table of liss data.\\\"\\\"\\\"\\n    table = table.copy()\\n    # Fill in nans as -.\\n    table = table.fillna(\\\"-\\\")\\n    # Drop columns.\\n    table = table.drop([\\\"label_english\\\", \\\"categories_english\\\"], axis=1)\\n    table = table[table[\\\"question_group\\\"] != \\\"-\\\"]\\n    table = table[table[\\\"Variable\\\"] != \\\"-\\\"]\\n    for i in [1, 2, 3]:\\n        if i not in waves:\\n            table = table.drop([f\\\"wave{i}\\\"], axis=1)\\n\\n    # Drop observations if they are not in any included wave.\\n    if len(waves) == 1:\\n        table = table[table[f\\\"wave{waves[0]}\\\"] != \\\"-\\\"]\\n    elif len(waves) == 2:\\n        table = table[\\n            (table[f\\\"wave{waves[0]}\\\"] != \\\"-\\\") | (table[f\\\"wave{waves[1]}\\\"] != \\\"-\\\")\\n        ]\\n    else:\\n        table = table[\\n            (table[f\\\"wave{waves[0]}\\\"] != \\\"-\\\")\\n            | (table[f\\\"wave{waves[1]}\\\"] != \\\"-\\\")\\n            | (table[f\\\"wave{waves[2]}\\\"] != \\\"-\\\")\\n        ]\\n\\n    # Create question group id.\\n    for i in waves:\\n        table[f\\\"group_w{i}\\\"] = np.where(\\n            table[f\\\"wave{i}\\\"] == \\\"-\\\", table[f\\\"wave{i}\\\"], table[\\\"question_group\\\"]\\n        )\\n\\n    # create question link \\\":ref:`wNL-{question_group}`.\\n    for i in waves:\\n        if return_links_as_symbols:\\n            table[f\\\"group_w{i}\\\"] = table[f\\\"group_w{i}\\\"].apply(\\n                lambda x: f\\\":ref:`\\ud83d\\udd17 <w{str(i)}{language}-{x}>`\\\"\\n            )\\n        else:\\n            table[f\\\"group_w{i}\\\"] = table[f\\\"group_w{i}\\\"].apply(\\n                lambda x: f\\\"w{str(i)}{language}-{x}\\\"\\n            )\\n        table[f\\\"group_w{i}\\\"] = np.where(\\n            table[f\\\"group_w{i}\\\"].str.contains(\\\"--\\\") == False, table[f\\\"group_w{i}\\\"], \\\"-\\\"\\n        )\\n\\n    # Final formatting\\n    # Replace ordered categoricals to drop 'ordered' column.\\n    table[\\\"Type\\\"] = np.where(\\n        table[\\\"ordered\\\"] != True, table[\\\"Type\\\"], \\\"Ordered Categorical\\\"\\n    )\\n\\n    # Ensure correct formatting for reference period column,\\n    # create as new column to esnure it is last in table.\\n    table = table.replace(\\\"-\\\", -111)\\n    table[\\\"Reference Period Other Than Survey Period\\\"] = table[\\n        \\\"reference period other than survey period\\\"\\n    ].astype(str)\\n\\n    # Drop unneeded columns.\\n    table = table.drop(\\n        [\\\"question_group\\\", \\\"reference period other than survey period\\\"], axis=1,\\n    )\\n\\n    # Replace missings with empty strig so they don't show up in table.\\n    table = table.replace(-111, \\\" \\\")\\n\\n    # Final ordering and rename wave link headers.\\n    final_table = pd.DataFrame()\\n    final_table[\\\"Variable\\\"] = table[\\\"Variable\\\"]\\n\\n    for i in waves:\\n        final_table[f\\\"Links Wave {i}\\\"] = table[f\\\"group_w{i}\\\"]\\n        final_table[\\n            [\\\"Type\\\", \\\"Topic\\\", \\\"Reference Period Other Than Survey Period\\\"]\\n        ] = table[[\\\"Type\\\", \\\"Topic\\\", \\\"Reference Period Other Than Survey Period\\\"]]\\n        final_table[f\\\"Links Wave {i}\\\"] = table[f\\\"group_w{i}\\\"]\\n        if len(waves) == 1:\\n            final_table[\\\"Question Id\\\"] = table[f\\\"wave{i}\\\"]\\n        if routing:\\n            final_table[f\\\"Routing\\\"] = table[f\\\"routing_wave_{i}\\\"]\\n\\n    return final_table\";\n",
       "                var nbb_formatted_code = \"def create_description_table(\\n    table, waves, language, return_links_as_symbols=True, routing=True\\n):\\n    \\\"\\\"\\\" Create variable overview from data description table of liss data.\\\"\\\"\\\"\\n    table = table.copy()\\n    # Fill in nans as -.\\n    table = table.fillna(\\\"-\\\")\\n    # Drop columns.\\n    table = table.drop([\\\"label_english\\\", \\\"categories_english\\\"], axis=1)\\n    table = table[table[\\\"question_group\\\"] != \\\"-\\\"]\\n    table = table[table[\\\"Variable\\\"] != \\\"-\\\"]\\n    for i in [1, 2, 3]:\\n        if i not in waves:\\n            table = table.drop([f\\\"wave{i}\\\"], axis=1)\\n\\n    # Drop observations if they are not in any included wave.\\n    if len(waves) == 1:\\n        table = table[table[f\\\"wave{waves[0]}\\\"] != \\\"-\\\"]\\n    elif len(waves) == 2:\\n        table = table[\\n            (table[f\\\"wave{waves[0]}\\\"] != \\\"-\\\") | (table[f\\\"wave{waves[1]}\\\"] != \\\"-\\\")\\n        ]\\n    else:\\n        table = table[\\n            (table[f\\\"wave{waves[0]}\\\"] != \\\"-\\\")\\n            | (table[f\\\"wave{waves[1]}\\\"] != \\\"-\\\")\\n            | (table[f\\\"wave{waves[2]}\\\"] != \\\"-\\\")\\n        ]\\n\\n    # Create question group id.\\n    for i in waves:\\n        table[f\\\"group_w{i}\\\"] = np.where(\\n            table[f\\\"wave{i}\\\"] == \\\"-\\\", table[f\\\"wave{i}\\\"], table[\\\"question_group\\\"]\\n        )\\n\\n    # create question link \\\":ref:`wNL-{question_group}`.\\n    for i in waves:\\n        if return_links_as_symbols:\\n            table[f\\\"group_w{i}\\\"] = table[f\\\"group_w{i}\\\"].apply(\\n                lambda x: f\\\":ref:`\\ud83d\\udd17 <w{str(i)}{language}-{x}>`\\\"\\n            )\\n        else:\\n            table[f\\\"group_w{i}\\\"] = table[f\\\"group_w{i}\\\"].apply(\\n                lambda x: f\\\"w{str(i)}{language}-{x}\\\"\\n            )\\n        table[f\\\"group_w{i}\\\"] = np.where(\\n            table[f\\\"group_w{i}\\\"].str.contains(\\\"--\\\") == False, table[f\\\"group_w{i}\\\"], \\\"-\\\"\\n        )\\n\\n    # Final formatting\\n    # Replace ordered categoricals to drop 'ordered' column.\\n    table[\\\"Type\\\"] = np.where(\\n        table[\\\"ordered\\\"] != True, table[\\\"Type\\\"], \\\"Ordered Categorical\\\"\\n    )\\n\\n    # Ensure correct formatting for reference period column,\\n    # create as new column to esnure it is last in table.\\n    table = table.replace(\\\"-\\\", -111)\\n    table[\\\"Reference Period Other Than Survey Period\\\"] = table[\\n        \\\"reference period other than survey period\\\"\\n    ].astype(str)\\n\\n    # Drop unneeded columns.\\n    table = table.drop(\\n        [\\\"question_group\\\", \\\"reference period other than survey period\\\"], axis=1,\\n    )\\n\\n    # Replace missings with empty strig so they don't show up in table.\\n    table = table.replace(-111, \\\" \\\")\\n\\n    # Final ordering and rename wave link headers.\\n    final_table = pd.DataFrame()\\n    final_table[\\\"Variable\\\"] = table[\\\"Variable\\\"]\\n\\n    for i in waves:\\n        final_table[f\\\"Links Wave {i}\\\"] = table[f\\\"group_w{i}\\\"]\\n        final_table[\\n            [\\\"Type\\\", \\\"Topic\\\", \\\"Reference Period Other Than Survey Period\\\"]\\n        ] = table[[\\\"Type\\\", \\\"Topic\\\", \\\"Reference Period Other Than Survey Period\\\"]]\\n        final_table[f\\\"Links Wave {i}\\\"] = table[f\\\"group_w{i}\\\"]\\n        if len(waves) == 1:\\n            final_table[\\\"Question Id\\\"] = table[f\\\"wave{i}\\\"]\\n        if routing:\\n            final_table[f\\\"Routing\\\"] = table[f\\\"routing_wave_{i}\\\"]\\n\\n    return final_table\";\n",
       "                var nbb_cells = Jupyter.notebook.get_cells();\n",
       "                for (var i = 0; i < nbb_cells.length; ++i) {\n",
       "                    if (nbb_cells[i].input_prompt_number == nbb_cell_id) {\n",
       "                        if (nbb_cells[i].get_text() == nbb_unformatted_code) {\n",
       "                             nbb_cells[i].set_text(nbb_formatted_code);\n",
       "                        }\n",
       "                        break;\n",
       "                    }\n",
       "                }\n",
       "            }, 500);\n",
       "            "
      ],
      "text/plain": [
       "<IPython.core.display.Javascript object>"
      ]
     },
     "metadata": {},
     "output_type": "display_data"
    }
   ],
   "source": [
    "def create_description_table(\n",
    "    table, waves, language, return_links_as_symbols=True, routing=True\n",
    "):\n",
    "    \"\"\" Create variable overview from data description table of liss data.\"\"\"\n",
    "    table = table.copy()\n",
    "    # Fill in nans as -.\n",
    "    table = table.fillna(\"-\")\n",
    "    # Drop columns.\n",
    "    table = table.drop([\"label_english\", \"categories_english\"], axis=1)\n",
    "    table = table[table[\"question_group\"] != \"-\"]\n",
    "    table = table[table[\"Variable\"] != \"-\"]\n",
    "    for i in [1, 2, 3]:\n",
    "        if i not in waves:\n",
    "            table = table.drop([f\"wave{i}\"], axis=1)\n",
    "\n",
    "    # Drop observations if they are not in any included wave.\n",
    "    if len(waves) == 1:\n",
    "        table = table[table[f\"wave{waves[0]}\"] != \"-\"]\n",
    "    elif len(waves) == 2:\n",
    "        table = table[\n",
    "            (table[f\"wave{waves[0]}\"] != \"-\") | (table[f\"wave{waves[1]}\"] != \"-\")\n",
    "        ]\n",
    "    else:\n",
    "        table = table[\n",
    "            (table[f\"wave{waves[0]}\"] != \"-\")\n",
    "            | (table[f\"wave{waves[1]}\"] != \"-\")\n",
    "            | (table[f\"wave{waves[2]}\"] != \"-\")\n",
    "        ]\n",
    "\n",
    "    # Create question group id.\n",
    "    for i in waves:\n",
    "        table[f\"group_w{i}\"] = np.where(\n",
    "            table[f\"wave{i}\"] == \"-\", table[f\"wave{i}\"], table[\"question_group\"]\n",
    "        )\n",
    "\n",
    "    # create question link \":ref:`wNL-{question_group}`.\n",
    "    for i in waves:\n",
    "        if return_links_as_symbols:\n",
    "            table[f\"group_w{i}\"] = table[f\"group_w{i}\"].apply(\n",
    "                lambda x: f\":ref:`🔗 <w{str(i)}{language}-{x}>`\"\n",
    "            )\n",
    "        else:\n",
    "            table[f\"group_w{i}\"] = table[f\"group_w{i}\"].apply(\n",
    "                lambda x: f\"w{str(i)}{language}-{x}\"\n",
    "            )\n",
    "        table[f\"group_w{i}\"] = np.where(\n",
    "            table[f\"group_w{i}\"].str.contains(\"--\") == False, table[f\"group_w{i}\"], \"-\"\n",
    "        )\n",
    "\n",
    "    # Final formatting\n",
    "    # Replace ordered categoricals to drop 'ordered' column.\n",
    "    table[\"Type\"] = np.where(\n",
    "        table[\"ordered\"] != True, table[\"Type\"], \"Ordered Categorical\"\n",
    "    )\n",
    "\n",
    "    # Ensure correct formatting for reference period column,\n",
    "    # create as new column to esnure it is last in table.\n",
    "    table = table.replace(\"-\", -111)\n",
    "    table[\"Reference Period Other Than Survey Period\"] = table[\n",
    "        \"reference period other than survey period\"\n",
    "    ].astype(str)\n",
    "\n",
    "    # Drop unneeded columns.\n",
    "    table = table.drop(\n",
    "        [\"question_group\", \"reference period other than survey period\"], axis=1,\n",
    "    )\n",
    "\n",
    "    # Replace missings with empty strig so they don't show up in table.\n",
    "    table = table.replace(-111, \" \")\n",
    "\n",
    "    # Final ordering and rename wave link headers.\n",
    "    final_table = pd.DataFrame()\n",
    "    final_table[\"Variable\"] = table[\"Variable\"]\n",
    "\n",
    "    for i in waves:\n",
    "        final_table[f\"Links Wave {i}\"] = table[f\"group_w{i}\"]\n",
    "        final_table[\n",
    "            [\"Type\", \"Topic\", \"Reference Period Other Than Survey Period\"]\n",
    "        ] = table[[\"Type\", \"Topic\", \"Reference Period Other Than Survey Period\"]]\n",
    "        final_table[f\"Links Wave {i}\"] = table[f\"group_w{i}\"]\n",
    "        if len(waves) == 1:\n",
    "            final_table[\"Question Id\"] = table[f\"wave{i}\"]\n",
    "        if routing:\n",
    "            final_table[f\"Routing\"] = table[f\"routing_wave_{i}\"]\n",
    "\n",
    "    return final_table"
   ]
  },
  {
   "cell_type": "markdown",
   "metadata": {},
   "source": [
    "## Create Table "
   ]
  },
  {
   "cell_type": "markdown",
   "metadata": {},
   "source": [
    "Read in description table "
   ]
  },
  {
   "cell_type": "code",
   "execution_count": 3,
   "metadata": {},
   "outputs": [
    {
     "data": {
      "application/javascript": [
       "\n",
       "            setTimeout(function() {\n",
       "                var nbb_cell_id = 3;\n",
       "                var nbb_unformatted_code = \"table = pd.read_csv(\\\"tables/xyx-corona-questionnaire_renaming.csv\\\", sep=\\\";\\\")\";\n",
       "                var nbb_formatted_code = \"table = pd.read_csv(\\\"tables/xyx-corona-questionnaire_renaming.csv\\\", sep=\\\";\\\")\";\n",
       "                var nbb_cells = Jupyter.notebook.get_cells();\n",
       "                for (var i = 0; i < nbb_cells.length; ++i) {\n",
       "                    if (nbb_cells[i].input_prompt_number == nbb_cell_id) {\n",
       "                        if (nbb_cells[i].get_text() == nbb_unformatted_code) {\n",
       "                             nbb_cells[i].set_text(nbb_formatted_code);\n",
       "                        }\n",
       "                        break;\n",
       "                    }\n",
       "                }\n",
       "            }, 500);\n",
       "            "
      ],
      "text/plain": [
       "<IPython.core.display.Javascript object>"
      ]
     },
     "metadata": {},
     "output_type": "display_data"
    }
   ],
   "source": [
    "table = pd.read_csv(\"tables/xyx-corona-questionnaire_renaming.csv\", sep=\";\")"
   ]
  },
  {
   "cell_type": "markdown",
   "metadata": {},
   "source": [
    "Rename columns so they are easier to handle for the functions"
   ]
  },
  {
   "cell_type": "code",
   "execution_count": 4,
   "metadata": {},
   "outputs": [
    {
     "data": {
      "application/javascript": [
       "\n",
       "            setTimeout(function() {\n",
       "                var nbb_cell_id = 4;\n",
       "                var nbb_unformatted_code = \"table = table.rename(\\n    columns={\\n        \\\"L_CoronavirusImpact_wave3_4p.dta\\\": \\\"wave3\\\",\\n        \\\"L_CoronavirusImpact_4.0p.dta\\\": \\\"wave2\\\",\\n        \\\"L_CoronavirusImpact_3p.dta\\\": \\\"wave1\\\",\\n        \\\"L_CoronavirusImpact_wave4_4p.dta\\\": \\\"wave4\\\",\\n        \\\"new_name\\\": \\\"variable\\\",\\n        \\\"topic_english\\\": \\\"Topic\\\",\\n        \\\"type\\\": \\\"Type\\\",\\n        \\\"new_name\\\": \\\"Variable\\\",\\n    }\\n)\";\n",
       "                var nbb_formatted_code = \"table = table.rename(\\n    columns={\\n        \\\"L_CoronavirusImpact_wave3_4p.dta\\\": \\\"wave3\\\",\\n        \\\"L_CoronavirusImpact_4.0p.dta\\\": \\\"wave2\\\",\\n        \\\"L_CoronavirusImpact_3p.dta\\\": \\\"wave1\\\",\\n        \\\"L_CoronavirusImpact_wave4_4p.dta\\\": \\\"wave4\\\",\\n        \\\"new_name\\\": \\\"variable\\\",\\n        \\\"topic_english\\\": \\\"Topic\\\",\\n        \\\"type\\\": \\\"Type\\\",\\n        \\\"new_name\\\": \\\"Variable\\\",\\n    }\\n)\";\n",
       "                var nbb_cells = Jupyter.notebook.get_cells();\n",
       "                for (var i = 0; i < nbb_cells.length; ++i) {\n",
       "                    if (nbb_cells[i].input_prompt_number == nbb_cell_id) {\n",
       "                        if (nbb_cells[i].get_text() == nbb_unformatted_code) {\n",
       "                             nbb_cells[i].set_text(nbb_formatted_code);\n",
       "                        }\n",
       "                        break;\n",
       "                    }\n",
       "                }\n",
       "            }, 500);\n",
       "            "
      ],
      "text/plain": [
       "<IPython.core.display.Javascript object>"
      ]
     },
     "metadata": {},
     "output_type": "display_data"
    }
   ],
   "source": [
    "table = table.rename(\n",
    "    columns={\n",
    "        \"L_CoronavirusImpact_wave3_4p.dta\": \"wave3\",\n",
    "        \"L_CoronavirusImpact_4.0p.dta\": \"wave2\",\n",
    "        \"L_CoronavirusImpact_3p.dta\": \"wave1\",\n",
    "        \"L_CoronavirusImpact_wave4_4p.dta\": \"wave4\",\n",
    "        \"new_name\": \"variable\",\n",
    "        \"topic_english\": \"Topic\",\n",
    "        \"type\": \"Type\",\n",
    "        \"new_name\": \"Variable\",\n",
    "    }\n",
    ")"
   ]
  },
  {
   "cell_type": "markdown",
   "metadata": {},
   "source": [
    "Select wave and language indicator. `language` should be one lower-case letter. `waves` should be a list of one or more values."
   ]
  },
  {
   "cell_type": "code",
   "execution_count": 5,
   "metadata": {},
   "outputs": [
    {
     "data": {
      "application/javascript": [
       "\n",
       "            setTimeout(function() {\n",
       "                var nbb_cell_id = 5;\n",
       "                var nbb_unformatted_code = \"waves = [1,2,3,4]\\nlanguage_short = \\\"e\\\"\\nlanguage_long = \\\"english\\\"\";\n",
       "                var nbb_formatted_code = \"waves = [1, 2, 3, 4]\\nlanguage_short = \\\"e\\\"\\nlanguage_long = \\\"english\\\"\";\n",
       "                var nbb_cells = Jupyter.notebook.get_cells();\n",
       "                for (var i = 0; i < nbb_cells.length; ++i) {\n",
       "                    if (nbb_cells[i].input_prompt_number == nbb_cell_id) {\n",
       "                        if (nbb_cells[i].get_text() == nbb_unformatted_code) {\n",
       "                             nbb_cells[i].set_text(nbb_formatted_code);\n",
       "                        }\n",
       "                        break;\n",
       "                    }\n",
       "                }\n",
       "            }, 500);\n",
       "            "
      ],
      "text/plain": [
       "<IPython.core.display.Javascript object>"
      ]
     },
     "metadata": {},
     "output_type": "display_data"
    }
   ],
   "source": [
    "waves = [1, 2, 3, 4]\n",
    "language_short = \"e\"\n",
    "language_long = \"english\""
   ]
  },
  {
   "cell_type": "markdown",
   "metadata": {},
   "source": [
    "Create decription table and save to csv."
   ]
  },
  {
   "cell_type": "code",
   "execution_count": 6,
   "metadata": {},
   "outputs": [
    {
     "data": {
      "application/javascript": [
       "\n",
       "            setTimeout(function() {\n",
       "                var nbb_cell_id = 6;\n",
       "                var nbb_unformatted_code = \"variable_table = create_description_table(table, waves, language_short, routing=False)\";\n",
       "                var nbb_formatted_code = \"variable_table = create_description_table(table, waves, language_short, routing=False)\";\n",
       "                var nbb_cells = Jupyter.notebook.get_cells();\n",
       "                for (var i = 0; i < nbb_cells.length; ++i) {\n",
       "                    if (nbb_cells[i].input_prompt_number == nbb_cell_id) {\n",
       "                        if (nbb_cells[i].get_text() == nbb_unformatted_code) {\n",
       "                             nbb_cells[i].set_text(nbb_formatted_code);\n",
       "                        }\n",
       "                        break;\n",
       "                    }\n",
       "                }\n",
       "            }, 500);\n",
       "            "
      ],
      "text/plain": [
       "<IPython.core.display.Javascript object>"
      ]
     },
     "metadata": {},
     "output_type": "display_data"
    }
   ],
   "source": [
    "variable_table = create_description_table(table, waves, language_short, routing=False)"
   ]
  },
  {
   "cell_type": "code",
   "execution_count": 7,
   "metadata": {},
   "outputs": [
    {
     "data": {
      "application/javascript": [
       "\n",
       "            setTimeout(function() {\n",
       "                var nbb_cell_id = 7;\n",
       "                var nbb_unformatted_code = \"if len(waves) == 1:\\n    path = f\\\"../docs/source/wave-{waves[0]}/\\\"\\nelse:\\n    path = f\\\"../docs/source/\\\"\";\n",
       "                var nbb_formatted_code = \"if len(waves) == 1:\\n    path = f\\\"../docs/source/wave-{waves[0]}/\\\"\\nelse:\\n    path = f\\\"../docs/source/\\\"\";\n",
       "                var nbb_cells = Jupyter.notebook.get_cells();\n",
       "                for (var i = 0; i < nbb_cells.length; ++i) {\n",
       "                    if (nbb_cells[i].input_prompt_number == nbb_cell_id) {\n",
       "                        if (nbb_cells[i].get_text() == nbb_unformatted_code) {\n",
       "                             nbb_cells[i].set_text(nbb_formatted_code);\n",
       "                        }\n",
       "                        break;\n",
       "                    }\n",
       "                }\n",
       "            }, 500);\n",
       "            "
      ],
      "text/plain": [
       "<IPython.core.display.Javascript object>"
      ]
     },
     "metadata": {},
     "output_type": "display_data"
    }
   ],
   "source": [
    "if len(waves) == 1:\n",
    "    path = f\"../docs/source/wave-{waves[0]}/\"\n",
    "else:\n",
    "    path = f\"../docs/source/\""
   ]
  },
  {
   "cell_type": "code",
   "execution_count": 8,
   "metadata": {
    "scrolled": true
   },
   "outputs": [
    {
     "data": {
      "text/html": [
       "<div>\n",
       "<style scoped>\n",
       "    .dataframe tbody tr th:only-of-type {\n",
       "        vertical-align: middle;\n",
       "    }\n",
       "\n",
       "    .dataframe tbody tr th {\n",
       "        vertical-align: top;\n",
       "    }\n",
       "\n",
       "    .dataframe thead th {\n",
       "        text-align: right;\n",
       "    }\n",
       "</style>\n",
       "<table border=\"1\" class=\"dataframe\">\n",
       "  <thead>\n",
       "    <tr style=\"text-align: right;\">\n",
       "      <th></th>\n",
       "      <th>Variable</th>\n",
       "      <th>Links Wave 1</th>\n",
       "      <th>Type</th>\n",
       "      <th>Topic</th>\n",
       "      <th>Reference Period Other Than Survey Period</th>\n",
       "      <th>Links Wave 2</th>\n",
       "      <th>Links Wave 3</th>\n",
       "      <th>Links Wave 4</th>\n",
       "    </tr>\n",
       "  </thead>\n",
       "  <tbody>\n",
       "    <tr>\n",
       "      <th>0</th>\n",
       "      <td>l_2m_infected</td>\n",
       "      <td>:ref:`🔗 &lt;w1e-q1&gt;`</td>\n",
       "      <td>Ordered Categorical</td>\n",
       "      <td>Health Beliefs</td>\n",
       "      <td>-111</td>\n",
       "      <td></td>\n",
       "      <td></td>\n",
       "      <td></td>\n",
       "    </tr>\n",
       "    <tr>\n",
       "      <th>1</th>\n",
       "      <td>l_2m_acquaintance_infected</td>\n",
       "      <td>:ref:`🔗 &lt;w1e-q1&gt;`</td>\n",
       "      <td>Ordered Categorical</td>\n",
       "      <td>Health Beliefs</td>\n",
       "      <td>-111</td>\n",
       "      <td></td>\n",
       "      <td></td>\n",
       "      <td></td>\n",
       "    </tr>\n",
       "    <tr>\n",
       "      <th>2</th>\n",
       "      <td>l_2m_hospital_if_infect_self</td>\n",
       "      <td>:ref:`🔗 &lt;w1e-q1&gt;`</td>\n",
       "      <td>Ordered Categorical</td>\n",
       "      <td>Health Beliefs</td>\n",
       "      <td>-111</td>\n",
       "      <td></td>\n",
       "      <td></td>\n",
       "      <td></td>\n",
       "    </tr>\n",
       "    <tr>\n",
       "      <th>3</th>\n",
       "      <td>l_2m_quarantine</td>\n",
       "      <td>:ref:`🔗 &lt;w1e-q1&gt;`</td>\n",
       "      <td>Ordered Categorical</td>\n",
       "      <td>Health Beliefs</td>\n",
       "      <td>-111</td>\n",
       "      <td></td>\n",
       "      <td></td>\n",
       "      <td></td>\n",
       "    </tr>\n",
       "    <tr>\n",
       "      <th>4</th>\n",
       "      <td>l_2m_infected_and_pass_on</td>\n",
       "      <td>:ref:`🔗 &lt;w1e-q1&gt;`</td>\n",
       "      <td>Ordered Categorical</td>\n",
       "      <td>Health Beliefs</td>\n",
       "      <td>-111</td>\n",
       "      <td></td>\n",
       "      <td></td>\n",
       "      <td></td>\n",
       "    </tr>\n",
       "    <tr>\n",
       "      <th>...</th>\n",
       "      <td>...</td>\n",
       "      <td>...</td>\n",
       "      <td>...</td>\n",
       "      <td>...</td>\n",
       "      <td>...</td>\n",
       "      <td>...</td>\n",
       "      <td>...</td>\n",
       "      <td>...</td>\n",
       "    </tr>\n",
       "    <tr>\n",
       "      <th>936</th>\n",
       "      <td>teacher_platform_sec_child5</td>\n",
       "      <td></td>\n",
       "      <td>bool</td>\n",
       "      <td>Childcare</td>\n",
       "      <td>-111</td>\n",
       "      <td></td>\n",
       "      <td>:ref:`🔗 &lt;w3e-v6_bokind&gt;`</td>\n",
       "      <td></td>\n",
       "    </tr>\n",
       "    <tr>\n",
       "      <th>937</th>\n",
       "      <td>teacher_pickup_sec_child5</td>\n",
       "      <td></td>\n",
       "      <td>bool</td>\n",
       "      <td>Childcare</td>\n",
       "      <td>-111</td>\n",
       "      <td></td>\n",
       "      <td>:ref:`🔗 &lt;w3e-v6_bokind&gt;`</td>\n",
       "      <td></td>\n",
       "    </tr>\n",
       "    <tr>\n",
       "      <th>938</th>\n",
       "      <td>teacher_none_sec_child5</td>\n",
       "      <td></td>\n",
       "      <td>bool</td>\n",
       "      <td>Childcare</td>\n",
       "      <td>-111</td>\n",
       "      <td></td>\n",
       "      <td>:ref:`🔗 &lt;w3e-v6_bokind&gt;`</td>\n",
       "      <td></td>\n",
       "    </tr>\n",
       "    <tr>\n",
       "      <th>939</th>\n",
       "      <td>teacher_other_sec_child5</td>\n",
       "      <td></td>\n",
       "      <td>bool</td>\n",
       "      <td>Childcare</td>\n",
       "      <td>-111</td>\n",
       "      <td></td>\n",
       "      <td>:ref:`🔗 &lt;w3e-v6_bokind&gt;`</td>\n",
       "      <td></td>\n",
       "    </tr>\n",
       "    <tr>\n",
       "      <th>940</th>\n",
       "      <td>teacher_other_sec_child5_str</td>\n",
       "      <td></td>\n",
       "      <td>str</td>\n",
       "      <td>Childcare</td>\n",
       "      <td>-111</td>\n",
       "      <td></td>\n",
       "      <td>:ref:`🔗 &lt;w3e-v6_bokind&gt;`</td>\n",
       "      <td></td>\n",
       "    </tr>\n",
       "  </tbody>\n",
       "</table>\n",
       "<p>870 rows × 8 columns</p>\n",
       "</div>"
      ],
      "text/plain": [
       "                         Variable       Links Wave 1                 Type  \\\n",
       "0                   l_2m_infected  :ref:`🔗 <w1e-q1>`  Ordered Categorical   \n",
       "1      l_2m_acquaintance_infected  :ref:`🔗 <w1e-q1>`  Ordered Categorical   \n",
       "2    l_2m_hospital_if_infect_self  :ref:`🔗 <w1e-q1>`  Ordered Categorical   \n",
       "3                 l_2m_quarantine  :ref:`🔗 <w1e-q1>`  Ordered Categorical   \n",
       "4       l_2m_infected_and_pass_on  :ref:`🔗 <w1e-q1>`  Ordered Categorical   \n",
       "..                            ...                ...                  ...   \n",
       "936   teacher_platform_sec_child5                                    bool   \n",
       "937     teacher_pickup_sec_child5                                    bool   \n",
       "938       teacher_none_sec_child5                                    bool   \n",
       "939      teacher_other_sec_child5                                    bool   \n",
       "940  teacher_other_sec_child5_str                                     str   \n",
       "\n",
       "              Topic Reference Period Other Than Survey Period Links Wave 2  \\\n",
       "0    Health Beliefs                                      -111                \n",
       "1    Health Beliefs                                      -111                \n",
       "2    Health Beliefs                                      -111                \n",
       "3    Health Beliefs                                      -111                \n",
       "4    Health Beliefs                                      -111                \n",
       "..              ...                                       ...          ...   \n",
       "936       Childcare                                      -111                \n",
       "937       Childcare                                      -111                \n",
       "938       Childcare                                      -111                \n",
       "939       Childcare                                      -111                \n",
       "940       Childcare                                      -111                \n",
       "\n",
       "                 Links Wave 3 Links Wave 4  \n",
       "0                                           \n",
       "1                                           \n",
       "2                                           \n",
       "3                                           \n",
       "4                                           \n",
       "..                        ...          ...  \n",
       "936  :ref:`🔗 <w3e-v6_bokind>`               \n",
       "937  :ref:`🔗 <w3e-v6_bokind>`               \n",
       "938  :ref:`🔗 <w3e-v6_bokind>`               \n",
       "939  :ref:`🔗 <w3e-v6_bokind>`               \n",
       "940  :ref:`🔗 <w3e-v6_bokind>`               \n",
       "\n",
       "[870 rows x 8 columns]"
      ]
     },
     "execution_count": 8,
     "metadata": {},
     "output_type": "execute_result"
    },
    {
     "data": {
      "application/javascript": [
       "\n",
       "            setTimeout(function() {\n",
       "                var nbb_cell_id = 8;\n",
       "                var nbb_unformatted_code = \"variable_table\";\n",
       "                var nbb_formatted_code = \"variable_table\";\n",
       "                var nbb_cells = Jupyter.notebook.get_cells();\n",
       "                for (var i = 0; i < nbb_cells.length; ++i) {\n",
       "                    if (nbb_cells[i].input_prompt_number == nbb_cell_id) {\n",
       "                        if (nbb_cells[i].get_text() == nbb_unformatted_code) {\n",
       "                             nbb_cells[i].set_text(nbb_formatted_code);\n",
       "                        }\n",
       "                        break;\n",
       "                    }\n",
       "                }\n",
       "            }, 500);\n",
       "            "
      ],
      "text/plain": [
       "<IPython.core.display.Javascript object>"
      ]
     },
     "metadata": {},
     "output_type": "display_data"
    }
   ],
   "source": [
    "variable_table"
   ]
  },
  {
   "cell_type": "code",
   "execution_count": 9,
   "metadata": {},
   "outputs": [
    {
     "data": {
      "application/javascript": [
       "\n",
       "            setTimeout(function() {\n",
       "                var nbb_cell_id = 9;\n",
       "                var nbb_unformatted_code = \"if language_short == \\\"e\\\":\\n    variable_table.to_csv(\\n        f\\\"{path}variable_table-waves-{'-'.join(str(i) for i in waves)}-{language_short}.csv\\\",\\n        sep=\\\",\\\",\\n        index=False,\\n    )\";\n",
       "                var nbb_formatted_code = \"if language_short == \\\"e\\\":\\n    variable_table.to_csv(\\n        f\\\"{path}variable_table-waves-{'-'.join(str(i) for i in waves)}-{language_short}.csv\\\",\\n        sep=\\\",\\\",\\n        index=False,\\n    )\";\n",
       "                var nbb_cells = Jupyter.notebook.get_cells();\n",
       "                for (var i = 0; i < nbb_cells.length; ++i) {\n",
       "                    if (nbb_cells[i].input_prompt_number == nbb_cell_id) {\n",
       "                        if (nbb_cells[i].get_text() == nbb_unformatted_code) {\n",
       "                             nbb_cells[i].set_text(nbb_formatted_code);\n",
       "                        }\n",
       "                        break;\n",
       "                    }\n",
       "                }\n",
       "            }, 500);\n",
       "            "
      ],
      "text/plain": [
       "<IPython.core.display.Javascript object>"
      ]
     },
     "metadata": {},
     "output_type": "display_data"
    }
   ],
   "source": [
    "if language_short == \"e\":\n",
    "    variable_table.to_csv(\n",
    "        f\"{path}variable_table-waves-{'-'.join(str(i) for i in waves)}-{language_short}.csv\",\n",
    "        sep=\",\",\n",
    "        index=False,\n",
    "    )"
   ]
  },
  {
   "cell_type": "markdown",
   "metadata": {},
   "source": [
    "## Create overview table for topics"
   ]
  },
  {
   "cell_type": "code",
   "execution_count": 10,
   "metadata": {},
   "outputs": [
    {
     "data": {
      "application/javascript": [
       "\n",
       "            setTimeout(function() {\n",
       "                var nbb_cell_id = 10;\n",
       "                var nbb_unformatted_code = \"import os\\nfrom functions import add_to_file\";\n",
       "                var nbb_formatted_code = \"import os\\nfrom functions import add_to_file\";\n",
       "                var nbb_cells = Jupyter.notebook.get_cells();\n",
       "                for (var i = 0; i < nbb_cells.length; ++i) {\n",
       "                    if (nbb_cells[i].input_prompt_number == nbb_cell_id) {\n",
       "                        if (nbb_cells[i].get_text() == nbb_unformatted_code) {\n",
       "                             nbb_cells[i].set_text(nbb_formatted_code);\n",
       "                        }\n",
       "                        break;\n",
       "                    }\n",
       "                }\n",
       "            }, 500);\n",
       "            "
      ],
      "text/plain": [
       "<IPython.core.display.Javascript object>"
      ]
     },
     "metadata": {},
     "output_type": "display_data"
    }
   ],
   "source": [
    "import os\n",
    "from functions import add_to_file"
   ]
  },
  {
   "cell_type": "code",
   "execution_count": 11,
   "metadata": {},
   "outputs": [
    {
     "data": {
      "application/javascript": [
       "\n",
       "            setTimeout(function() {\n",
       "                var nbb_cell_id = 11;\n",
       "                var nbb_unformatted_code = \"def create_overview_page(topic_dict, wave, language, path):\\n\\n    file_name = f\\\"wave{wave}_questions_{language}_topics\\\"\\n    target = f\\\"{path}{file_name}.rst\\\"\\n    if os.path.exists(target):\\n        os.remove(target)\\n    add_to_file(f\\\".. _{file_name}:\\\", target)\\n    add_to_file(\\\"\\\\n\\\", target)\\n    title = (\\n        f\\\"Overview of Questions Wave {wave} ({language.capitalize()}) Grouped by Topic\\\"\\n    )\\n    add_to_file(title, target)\\n    add_to_file(\\\"=\\\" * len(title), target)\\n    add_to_file(\\n        \\\"This page contains the questions grouped by topic. \\\"\\n        \\\"When clicking into a question, please note that internally the questions are \\\"\\n        \\\"ordered according to their appearance in the questionnaire. Clicking on \\\"\\n        \\\"the next or previous question will thus not preseve the grouping by topic.\\\",\\n        target,\\n    )\\n    add_to_file(\\\"\\\\n\\\", target)\\n\\n    for key in topic_dict.keys():\\n        add_to_file(key, target)\\n        add_to_file(\\\"-\\\" * len(key), target)\\n        add_to_file(\\\"\\\", target)\\n        add_to_file(\\\".. toctree::\\\", target)\\n        add_to_file(\\\"   :maxdepth: 1\\\", target)\\n        add_to_file(\\\"\\\", target)\\n        for question in topic_dict[key]:\\n            add_to_file(f\\\"   {language}/{question}\\\", target)\\n        add_to_file(\\\"\\\\n\\\", target)\";\n",
       "                var nbb_formatted_code = \"def create_overview_page(topic_dict, wave, language, path):\\n\\n    file_name = f\\\"wave{wave}_questions_{language}_topics\\\"\\n    target = f\\\"{path}{file_name}.rst\\\"\\n    if os.path.exists(target):\\n        os.remove(target)\\n    add_to_file(f\\\".. _{file_name}:\\\", target)\\n    add_to_file(\\\"\\\\n\\\", target)\\n    title = (\\n        f\\\"Overview of Questions Wave {wave} ({language.capitalize()}) Grouped by Topic\\\"\\n    )\\n    add_to_file(title, target)\\n    add_to_file(\\\"=\\\" * len(title), target)\\n    add_to_file(\\n        \\\"This page contains the questions grouped by topic. \\\"\\n        \\\"When clicking into a question, please note that internally the questions are \\\"\\n        \\\"ordered according to their appearance in the questionnaire. Clicking on \\\"\\n        \\\"the next or previous question will thus not preseve the grouping by topic.\\\",\\n        target,\\n    )\\n    add_to_file(\\\"\\\\n\\\", target)\\n\\n    for key in topic_dict.keys():\\n        add_to_file(key, target)\\n        add_to_file(\\\"-\\\" * len(key), target)\\n        add_to_file(\\\"\\\", target)\\n        add_to_file(\\\".. toctree::\\\", target)\\n        add_to_file(\\\"   :maxdepth: 1\\\", target)\\n        add_to_file(\\\"\\\", target)\\n        for question in topic_dict[key]:\\n            add_to_file(f\\\"   {language}/{question}\\\", target)\\n        add_to_file(\\\"\\\\n\\\", target)\";\n",
       "                var nbb_cells = Jupyter.notebook.get_cells();\n",
       "                for (var i = 0; i < nbb_cells.length; ++i) {\n",
       "                    if (nbb_cells[i].input_prompt_number == nbb_cell_id) {\n",
       "                        if (nbb_cells[i].get_text() == nbb_unformatted_code) {\n",
       "                             nbb_cells[i].set_text(nbb_formatted_code);\n",
       "                        }\n",
       "                        break;\n",
       "                    }\n",
       "                }\n",
       "            }, 500);\n",
       "            "
      ],
      "text/plain": [
       "<IPython.core.display.Javascript object>"
      ]
     },
     "metadata": {},
     "output_type": "display_data"
    }
   ],
   "source": [
    "def create_overview_page(topic_dict, wave, language, path):\n",
    "\n",
    "    file_name = f\"wave{wave}_questions_{language}_topics\"\n",
    "    target = f\"{path}{file_name}.rst\"\n",
    "    if os.path.exists(target):\n",
    "        os.remove(target)\n",
    "    add_to_file(f\".. _{file_name}:\", target)\n",
    "    add_to_file(\"\\n\", target)\n",
    "    title = (\n",
    "        f\"Overview of Questions Wave {wave} ({language.capitalize()}) Grouped by Topic\"\n",
    "    )\n",
    "    add_to_file(title, target)\n",
    "    add_to_file(\"=\" * len(title), target)\n",
    "    add_to_file(\n",
    "        \"This page contains the questions grouped by topic. \"\n",
    "        \"When clicking into a question, please note that internally the questions are \"\n",
    "        \"ordered according to their appearance in the questionnaire. Clicking on \"\n",
    "        \"the next or previous question will thus not preseve the grouping by topic.\",\n",
    "        target,\n",
    "    )\n",
    "    add_to_file(\"\\n\", target)\n",
    "\n",
    "    for key in topic_dict.keys():\n",
    "        add_to_file(key, target)\n",
    "        add_to_file(\"-\" * len(key), target)\n",
    "        add_to_file(\"\", target)\n",
    "        add_to_file(\".. toctree::\", target)\n",
    "        add_to_file(\"   :maxdepth: 1\", target)\n",
    "        add_to_file(\"\", target)\n",
    "        for question in topic_dict[key]:\n",
    "            add_to_file(f\"   {language}/{question}\", target)\n",
    "        add_to_file(\"\\n\", target)"
   ]
  },
  {
   "cell_type": "code",
   "execution_count": 12,
   "metadata": {},
   "outputs": [
    {
     "data": {
      "application/javascript": [
       "\n",
       "            setTimeout(function() {\n",
       "                var nbb_cell_id = 12;\n",
       "                var nbb_unformatted_code = \"if len(waves) == 1:\\n    topic_table = create_description_table(\\n        table, waves, language_short, return_links_as_symbols=False, routing=False\\n    )\\n    topic_dict = topic_table.groupby(\\\"Topic\\\")[f\\\"Links Wave {waves[0]}\\\"].unique()\\n    for key in [\\\"skip\\\", \\\"Skip\\\"]:\\n        if key in topic_dict.keys():\\n            topic_dict = topic_dict.drop(key)\\n    create_overview_page(topic_dict, waves[0], language_long, path)\";\n",
       "                var nbb_formatted_code = \"if len(waves) == 1:\\n    topic_table = create_description_table(\\n        table, waves, language_short, return_links_as_symbols=False, routing=False\\n    )\\n    topic_dict = topic_table.groupby(\\\"Topic\\\")[f\\\"Links Wave {waves[0]}\\\"].unique()\\n    for key in [\\\"skip\\\", \\\"Skip\\\"]:\\n        if key in topic_dict.keys():\\n            topic_dict = topic_dict.drop(key)\\n    create_overview_page(topic_dict, waves[0], language_long, path)\";\n",
       "                var nbb_cells = Jupyter.notebook.get_cells();\n",
       "                for (var i = 0; i < nbb_cells.length; ++i) {\n",
       "                    if (nbb_cells[i].input_prompt_number == nbb_cell_id) {\n",
       "                        if (nbb_cells[i].get_text() == nbb_unformatted_code) {\n",
       "                             nbb_cells[i].set_text(nbb_formatted_code);\n",
       "                        }\n",
       "                        break;\n",
       "                    }\n",
       "                }\n",
       "            }, 500);\n",
       "            "
      ],
      "text/plain": [
       "<IPython.core.display.Javascript object>"
      ]
     },
     "metadata": {},
     "output_type": "display_data"
    }
   ],
   "source": [
    "if len(waves) == 1:\n",
    "    topic_table = create_description_table(\n",
    "        table, waves, language_short, return_links_as_symbols=False, routing=False\n",
    "    )\n",
    "    topic_dict = topic_table.groupby(\"Topic\")[f\"Links Wave {waves[0]}\"].unique()\n",
    "    for key in [\"skip\", \"Skip\"]:\n",
    "        if key in topic_dict.keys():\n",
    "            topic_dict = topic_dict.drop(key)\n",
    "    create_overview_page(topic_dict, waves[0], language_long, path)"
   ]
  },
  {
   "cell_type": "code",
   "execution_count": null,
   "metadata": {},
   "outputs": [],
   "source": []
  },
  {
   "cell_type": "code",
   "execution_count": null,
   "metadata": {},
   "outputs": [],
   "source": []
  }
 ],
 "metadata": {
  "kernelspec": {
   "display_name": "Python 3",
   "language": "python",
   "name": "python3"
  },
  "language_info": {
   "codemirror_mode": {
    "name": "ipython",
    "version": 3
   },
   "file_extension": ".py",
   "mimetype": "text/x-python",
   "name": "python",
   "nbconvert_exporter": "python",
   "pygments_lexer": "ipython3",
   "version": "3.7.6"
  }
 },
 "nbformat": 4,
 "nbformat_minor": 4
}
