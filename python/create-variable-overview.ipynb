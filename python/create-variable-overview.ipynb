{
 "cells": [
  {
   "cell_type": "code",
   "execution_count": 1,
   "metadata": {},
   "outputs": [
    {
     "data": {
      "application/javascript": [
       "\n",
       "            setTimeout(function() {\n",
       "                var nbb_cell_id = 1;\n",
       "                var nbb_unformatted_code = \"%load_ext nb_black\\nimport os\\nfrom functions_questions import add_to_file\\nfrom functions_variable_overview import *\";\n",
       "                var nbb_formatted_code = \"%load_ext nb_black\\nimport os\\nfrom functions_questions import add_to_file\\nfrom functions_variable_overview import *\";\n",
       "                var nbb_cells = Jupyter.notebook.get_cells();\n",
       "                for (var i = 0; i < nbb_cells.length; ++i) {\n",
       "                    if (nbb_cells[i].input_prompt_number == nbb_cell_id) {\n",
       "                        if (nbb_cells[i].get_text() == nbb_unformatted_code) {\n",
       "                             nbb_cells[i].set_text(nbb_formatted_code);\n",
       "                        }\n",
       "                        break;\n",
       "                    }\n",
       "                }\n",
       "            }, 500);\n",
       "            "
      ],
      "text/plain": [
       "<IPython.core.display.Javascript object>"
      ]
     },
     "metadata": {},
     "output_type": "display_data"
    }
   ],
   "source": [
    "%load_ext nb_black\n",
    "from functions_questions import add_to_file\n",
    "from functions_variable_overview import *"
   ]
  },
  {
   "cell_type": "markdown",
   "metadata": {},
   "source": [
    "## Create Table "
   ]
  },
  {
   "cell_type": "markdown",
   "metadata": {},
   "source": [
    "Read in description table "
   ]
  },
  {
   "cell_type": "code",
   "execution_count": 2,
   "metadata": {},
   "outputs": [
    {
     "data": {
      "application/javascript": [
       "\n",
       "            setTimeout(function() {\n",
       "                var nbb_cell_id = 2;\n",
       "                var nbb_unformatted_code = \"table = pd.read_csv(\\\"tables/covid_variable_description.csv\\\", sep=\\\";\\\")\";\n",
       "                var nbb_formatted_code = \"table = pd.read_csv(\\\"tables/covid_variable_description.csv\\\", sep=\\\";\\\")\";\n",
       "                var nbb_cells = Jupyter.notebook.get_cells();\n",
       "                for (var i = 0; i < nbb_cells.length; ++i) {\n",
       "                    if (nbb_cells[i].input_prompt_number == nbb_cell_id) {\n",
       "                        if (nbb_cells[i].get_text() == nbb_unformatted_code) {\n",
       "                             nbb_cells[i].set_text(nbb_formatted_code);\n",
       "                        }\n",
       "                        break;\n",
       "                    }\n",
       "                }\n",
       "            }, 500);\n",
       "            "
      ],
      "text/plain": [
       "<IPython.core.display.Javascript object>"
      ]
     },
     "metadata": {},
     "output_type": "display_data"
    }
   ],
   "source": [
    "table = pd.read_csv(\"tables/covid_variable_description.csv\", sep=\";\")"
   ]
  },
  {
   "cell_type": "markdown",
   "metadata": {},
   "source": [
    "Rename columns so they are easier to handle for the functions"
   ]
  },
  {
   "cell_type": "code",
   "execution_count": 3,
   "metadata": {},
   "outputs": [
    {
     "data": {
      "application/javascript": [
       "\n",
       "            setTimeout(function() {\n",
       "                var nbb_cell_id = 3;\n",
       "                var nbb_unformatted_code = \"table = table.rename(\\n    columns={\\n        \\\"L_CoronavirusImpact_wave3_4p.dta\\\": \\\"wave#3\\\",\\n        \\\"L_CoronavirusImpact_4.0p.dta\\\": \\\"wave#2\\\",\\n        \\\"L_CoronavirusImpact_3p.dta\\\": \\\"wave#1\\\",\\n        \\\"L_CoronavirusImpact_wave4_4p.dta\\\": \\\"wave#4\\\",\\n        \\\"new_name\\\": \\\"variable\\\",\\n        \\\"topic_english\\\": \\\"Topic\\\",\\n        \\\"type\\\": \\\"Type\\\",\\n        \\\"new_name\\\": \\\"Variable\\\",\\n    }\\n)\";\n",
       "                var nbb_formatted_code = \"table = table.rename(\\n    columns={\\n        \\\"L_CoronavirusImpact_wave3_4p.dta\\\": \\\"wave#3\\\",\\n        \\\"L_CoronavirusImpact_4.0p.dta\\\": \\\"wave#2\\\",\\n        \\\"L_CoronavirusImpact_3p.dta\\\": \\\"wave#1\\\",\\n        \\\"L_CoronavirusImpact_wave4_4p.dta\\\": \\\"wave#4\\\",\\n        \\\"new_name\\\": \\\"variable\\\",\\n        \\\"topic_english\\\": \\\"Topic\\\",\\n        \\\"type\\\": \\\"Type\\\",\\n        \\\"new_name\\\": \\\"Variable\\\",\\n    }\\n)\";\n",
       "                var nbb_cells = Jupyter.notebook.get_cells();\n",
       "                for (var i = 0; i < nbb_cells.length; ++i) {\n",
       "                    if (nbb_cells[i].input_prompt_number == nbb_cell_id) {\n",
       "                        if (nbb_cells[i].get_text() == nbb_unformatted_code) {\n",
       "                             nbb_cells[i].set_text(nbb_formatted_code);\n",
       "                        }\n",
       "                        break;\n",
       "                    }\n",
       "                }\n",
       "            }, 500);\n",
       "            "
      ],
      "text/plain": [
       "<IPython.core.display.Javascript object>"
      ]
     },
     "metadata": {},
     "output_type": "display_data"
    }
   ],
   "source": [
    "table = table.rename(\n",
    "    columns={\n",
    "        \"L_CoronavirusImpact_wave3_4p.dta\": \"wave#3\",\n",
    "        \"L_CoronavirusImpact_4.0p.dta\": \"wave#2\",\n",
    "        \"L_CoronavirusImpact_3p.dta\": \"wave#1\",\n",
    "        \"L_CoronavirusImpact_wave4_4p.dta\": \"wave#4\",\n",
    "        \"new_name\": \"variable\",\n",
    "        \"topic_english\": \"Topic\",\n",
    "        \"type\": \"Type\",\n",
    "        \"new_name\": \"Variable\",\n",
    "    }\n",
    ")"
   ]
  },
  {
   "cell_type": "markdown",
   "metadata": {},
   "source": [
    "Select wave and language indicator. \n",
    "- `language` should be one lower-case letter. \n",
    "- `waves` should be a list of one or more values."
   ]
  },
  {
   "cell_type": "code",
   "execution_count": 20,
   "metadata": {},
   "outputs": [
    {
     "data": {
      "application/javascript": [
       "\n",
       "            setTimeout(function() {\n",
       "                var nbb_cell_id = 20;\n",
       "                var nbb_unformatted_code = \"waves = [1,2]\\nlanguage_short = \\\"e\\\"\\nlanguage_long = \\\"english\\\"\";\n",
       "                var nbb_formatted_code = \"waves = [1, 2]\\nlanguage_short = \\\"e\\\"\\nlanguage_long = \\\"english\\\"\";\n",
       "                var nbb_cells = Jupyter.notebook.get_cells();\n",
       "                for (var i = 0; i < nbb_cells.length; ++i) {\n",
       "                    if (nbb_cells[i].input_prompt_number == nbb_cell_id) {\n",
       "                        if (nbb_cells[i].get_text() == nbb_unformatted_code) {\n",
       "                             nbb_cells[i].set_text(nbb_formatted_code);\n",
       "                        }\n",
       "                        break;\n",
       "                    }\n",
       "                }\n",
       "            }, 500);\n",
       "            "
      ],
      "text/plain": [
       "<IPython.core.display.Javascript object>"
      ]
     },
     "metadata": {},
     "output_type": "display_data"
    }
   ],
   "source": [
    "waves = [1, 2]\n",
    "language_short = \"e\"\n",
    "language_long = \"english\""
   ]
  },
  {
   "cell_type": "markdown",
   "metadata": {},
   "source": [
    "Create decription table and save to csv. If the table only includes one wave, it is saved to the respective language folder. If it is created for multiple waves, it is saved to \"/docs/source/\"."
   ]
  },
  {
   "cell_type": "code",
   "execution_count": 21,
   "metadata": {},
   "outputs": [
    {
     "data": {
      "application/javascript": [
       "\n",
       "            setTimeout(function() {\n",
       "                var nbb_cell_id = 21;\n",
       "                var nbb_unformatted_code = \"if len(waves) == 1:\\n    variable_table = create_description_table(table, waves, language_short)\\n    path = f\\\"../docs/source/wave-{waves[0]}/\\\"\\nelse:\\n    variable_table = create_description_table(\\n        table, waves, language_short, routing=False\\n    )\\n    path = f\\\"../docs/source/\\\"\";\n",
       "                var nbb_formatted_code = \"if len(waves) == 1:\\n    variable_table = create_description_table(table, waves, language_short)\\n    path = f\\\"../docs/source/wave-{waves[0]}/\\\"\\nelse:\\n    variable_table = create_description_table(\\n        table, waves, language_short, routing=False\\n    )\\n    path = f\\\"../docs/source/\\\"\";\n",
       "                var nbb_cells = Jupyter.notebook.get_cells();\n",
       "                for (var i = 0; i < nbb_cells.length; ++i) {\n",
       "                    if (nbb_cells[i].input_prompt_number == nbb_cell_id) {\n",
       "                        if (nbb_cells[i].get_text() == nbb_unformatted_code) {\n",
       "                             nbb_cells[i].set_text(nbb_formatted_code);\n",
       "                        }\n",
       "                        break;\n",
       "                    }\n",
       "                }\n",
       "            }, 500);\n",
       "            "
      ],
      "text/plain": [
       "<IPython.core.display.Javascript object>"
      ]
     },
     "metadata": {},
     "output_type": "display_data"
    }
   ],
   "source": [
    "if len(waves) == 1:\n",
    "    variable_table = create_description_table(table, waves, language_short)\n",
    "    path = f\"../docs/source/wave-{waves[0]}/\"\n",
    "else:\n",
    "    variable_table = create_description_table(\n",
    "        table, waves, language_short, routing=False\n",
    "    )\n",
    "    # Update path for multiple-wave overview:\n",
    "    path = f\"../docs/source/\""
   ]
  },
  {
   "cell_type": "code",
   "execution_count": 22,
   "metadata": {},
   "outputs": [
    {
     "data": {
      "application/javascript": [
       "\n",
       "            setTimeout(function() {\n",
       "                var nbb_cell_id = 22;\n",
       "                var nbb_unformatted_code = \"if language_short == \\\"e\\\":\\n    variable_table.to_csv(\\n        f\\\"{path}variable_table-waves-{'-'.join(str(i) for i in waves)}-{language_short}.csv\\\",\\n        sep=\\\",\\\",\\n        index=False,\\n    )\";\n",
       "                var nbb_formatted_code = \"if language_short == \\\"e\\\":\\n    variable_table.to_csv(\\n        f\\\"{path}variable_table-waves-{'-'.join(str(i) for i in waves)}-{language_short}.csv\\\",\\n        sep=\\\",\\\",\\n        index=False,\\n    )\";\n",
       "                var nbb_cells = Jupyter.notebook.get_cells();\n",
       "                for (var i = 0; i < nbb_cells.length; ++i) {\n",
       "                    if (nbb_cells[i].input_prompt_number == nbb_cell_id) {\n",
       "                        if (nbb_cells[i].get_text() == nbb_unformatted_code) {\n",
       "                             nbb_cells[i].set_text(nbb_formatted_code);\n",
       "                        }\n",
       "                        break;\n",
       "                    }\n",
       "                }\n",
       "            }, 500);\n",
       "            "
      ],
      "text/plain": [
       "<IPython.core.display.Javascript object>"
      ]
     },
     "metadata": {},
     "output_type": "display_data"
    }
   ],
   "source": [
    "if language_short == \"e\":\n",
    "    variable_table.to_csv(\n",
    "        f\"{path}variable_table-waves-{'-'.join(str(i) for i in waves)}-{language_short}.csv\",\n",
    "        sep=\",\",\n",
    "        index=False,\n",
    "    )"
   ]
  },
  {
   "cell_type": "markdown",
   "metadata": {},
   "source": [
    "## Create index file for questions sorted according to topics"
   ]
  },
  {
   "cell_type": "code",
   "execution_count": 13,
   "metadata": {},
   "outputs": [
    {
     "data": {
      "application/javascript": [
       "\n",
       "            setTimeout(function() {\n",
       "                var nbb_cell_id = 13;\n",
       "                var nbb_unformatted_code = \"if len(waves) == 1:\\n    topic_table = create_description_table(\\n        table, waves, language_short, return_links_as_symbols=False, routing=False\\n    )\\n    topic_dict = topic_table.groupby(\\\"Topic\\\")[f\\\"Links Wave {waves[0]}\\\"].unique()\\n    for key in [\\\"skip\\\", \\\"Skip\\\"]:\\n        if key in topic_dict.keys():\\n            topic_dict = topic_dict.drop(key)\\n    create_overview_page(topic_dict, waves[0], language_long, path)\";\n",
       "                var nbb_formatted_code = \"if len(waves) == 1:\\n    topic_table = create_description_table(\\n        table, waves, language_short, return_links_as_symbols=False, routing=False\\n    )\\n    topic_dict = topic_table.groupby(\\\"Topic\\\")[f\\\"Links Wave {waves[0]}\\\"].unique()\\n    for key in [\\\"skip\\\", \\\"Skip\\\"]:\\n        if key in topic_dict.keys():\\n            topic_dict = topic_dict.drop(key)\\n    create_overview_page(topic_dict, waves[0], language_long, path)\";\n",
       "                var nbb_cells = Jupyter.notebook.get_cells();\n",
       "                for (var i = 0; i < nbb_cells.length; ++i) {\n",
       "                    if (nbb_cells[i].input_prompt_number == nbb_cell_id) {\n",
       "                        if (nbb_cells[i].get_text() == nbb_unformatted_code) {\n",
       "                             nbb_cells[i].set_text(nbb_formatted_code);\n",
       "                        }\n",
       "                        break;\n",
       "                    }\n",
       "                }\n",
       "            }, 500);\n",
       "            "
      ],
      "text/plain": [
       "<IPython.core.display.Javascript object>"
      ]
     },
     "metadata": {},
     "output_type": "display_data"
    }
   ],
   "source": [
    "if len(waves) == 1:\n",
    "    topic_table = create_description_table(\n",
    "        table, waves, language_short, return_links_as_symbols=False, routing=False\n",
    "    )\n",
    "    topic_dict = topic_table.groupby(\"Topic\")[f\"Links Wave {waves[0]}\"].unique()\n",
    "    for key in [\"skip\", \"Skip\"]:\n",
    "        if key in topic_dict.keys():\n",
    "            topic_dict = topic_dict.drop(key)\n",
    "    create_overview_page(topic_dict, waves[0], language_long, path)"
   ]
  }
 ],
 "metadata": {
  "kernelspec": {
   "display_name": "Python 3",
   "language": "python",
   "name": "python3"
  },
  "language_info": {
   "codemirror_mode": {
    "name": "ipython",
    "version": 3
   },
   "file_extension": ".py",
   "mimetype": "text/x-python",
   "name": "python",
   "nbconvert_exporter": "python",
   "pygments_lexer": "ipython3",
   "version": "3.7.9"
  }
 },
 "nbformat": 4,
 "nbformat_minor": 4
}
