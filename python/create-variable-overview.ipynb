{
 "cells": [
  {
   "cell_type": "code",
   "execution_count": 1,
   "metadata": {},
   "outputs": [
    {
     "data": {
      "application/javascript": [
       "\n",
       "            setTimeout(function() {\n",
       "                var nbb_cell_id = 1;\n",
       "                var nbb_unformatted_code = \"%load_ext nb_black\\nimport os\\nimport pandas as pd\\nimport numpy as np\";\n",
       "                var nbb_formatted_code = \"%load_ext nb_black\\nimport os\\nimport pandas as pd\\nimport numpy as np\";\n",
       "                var nbb_cells = Jupyter.notebook.get_cells();\n",
       "                for (var i = 0; i < nbb_cells.length; ++i) {\n",
       "                    if (nbb_cells[i].input_prompt_number == nbb_cell_id) {\n",
       "                        if (nbb_cells[i].get_text() == nbb_unformatted_code) {\n",
       "                             nbb_cells[i].set_text(nbb_formatted_code);\n",
       "                        }\n",
       "                        break;\n",
       "                    }\n",
       "                }\n",
       "            }, 500);\n",
       "            "
      ],
      "text/plain": [
       "<IPython.core.display.Javascript object>"
      ]
     },
     "metadata": {},
     "output_type": "display_data"
    }
   ],
   "source": [
    "%load_ext nb_black\n",
    "import os\n",
    "import pandas as pd\n",
    "import numpy as np"
   ]
  },
  {
   "cell_type": "markdown",
   "metadata": {},
   "source": [
    "## Functions"
   ]
  },
  {
   "cell_type": "code",
   "execution_count": 2,
   "metadata": {},
   "outputs": [
    {
     "data": {
      "application/javascript": [
       "\n",
       "            setTimeout(function() {\n",
       "                var nbb_cell_id = 2;\n",
       "                var nbb_unformatted_code = \"def create_description_table(table, waves, language, return_links_as_symbols=True):\\n    \\\"\\\"\\\" Create variable overview from data description table of liss data.\\\"\\\"\\\"\\n    table = table.copy()\\n    # Fill in nans as -.\\n    table = table.fillna(\\\"-\\\")\\n    # Drop columns.\\n    table = table.drop([\\\"label_english\\\", \\\"categories_english\\\"], axis=1)\\n    table = table[table[\\\"question_group\\\"] != \\\"-\\\"]\\n    table = table[table[\\\"Variable\\\"] != \\\"-\\\"]\\n    for i in [1, 2, 3]:\\n        if i not in waves:\\n            table = table.drop([f\\\"wave{i}\\\"], axis=1)\\n\\n    # Drop observations if they are not in any included wave.\\n    if len(waves) == 1:\\n        table = table[table[f\\\"wave{waves[0]}\\\"] != \\\"-\\\"]\\n    elif len(waves) == 2:\\n        table = table[\\n            (table[f\\\"wave{waves[0]}\\\"] != \\\"-\\\") | (table[f\\\"wave{waves[1]}\\\"] != \\\"-\\\")\\n        ]\\n    else:\\n        table = table[\\n            (table[f\\\"wave{waves[0]}\\\"] != \\\"-\\\")\\n            | (table[f\\\"wave{waves[1]}\\\"] != \\\"-\\\")\\n            | (table[f\\\"wave{waves[2]}\\\"] != \\\"-\\\")\\n        ]\\n\\n    # replace question id with question group id.\\n    for i in waves:\\n        table[f\\\"wave{i}\\\"] = np.where(\\n            table[f\\\"wave{i}\\\"] == \\\"-\\\", table[f\\\"wave{i}\\\"], table[\\\"question_group\\\"]\\n        )\\n\\n    # create question link \\\":ref:`wNL-{question_group}`.\\n    for i in waves:\\n        if return_links_as_symbols:\\n            table[f\\\"wave{i}\\\"] = table[f\\\"wave{i}\\\"].apply(\\n                lambda x: f\\\":ref:`\\ud83d\\udd17 <w{str(i)}{language}-{x}>`\\\"\\n            )\\n        else:\\n            table[f\\\"wave{i}\\\"] = table[f\\\"wave{i}\\\"].apply(\\n                lambda x: f\\\"w{str(i)}{language}-{x}\\\"\\n            )\\n        table[f\\\"wave{i}\\\"] = np.where(\\n            table[f\\\"wave{i}\\\"].str.contains(\\\"--\\\") == False, table[f\\\"wave{i}\\\"], \\\"-\\\"\\n        )\\n\\n    # Final formatting\\n    # Replace ordered categoricals to drop 'ordered' column.\\n    table[\\\"Type\\\"] = np.where(\\n        table[\\\"ordered\\\"] != True, table[\\\"Type\\\"], \\\"Ordered Categorical\\\"\\n    )\\n\\n    # Ensure correct formatting for reference period column,\\n    # create as new column to esnure it is last in table.\\n    table = table.replace(\\\"-\\\", -111)\\n    table[\\\"Reference Period Other Than Survey Period\\\"] = table[\\n        \\\"reference period other than survey period\\\"\\n    ].astype(int)\\n\\n    # Drop unneeded columns.\\n    table = table.drop(\\n        [\\\"question_group\\\", \\\"ordered\\\", \\\"reference period other than survey period\\\"],\\n        axis=1,\\n    )\\n\\n    # Replace missings with empty strig so they don't show up in table.\\n    table = table.replace(-111, \\\" \\\")\\n\\n    # Final ordering and rename wave link headers.\\n    final_table = pd.DataFrame()\\n    final_table[\\\"Variable\\\"] = table[\\\"Variable\\\"]\\n\\n    for i in waves:\\n        final_table[f\\\"Links Wave {i}\\\"] = table[f\\\"wave{i}\\\"]\\n\\n    final_table[[\\\"Type\\\", \\\"Topic\\\", \\\"Reference Period Other Than Survey Period\\\"]] = table[\\n        [\\\"Type\\\", \\\"Topic\\\", \\\"Reference Period Other Than Survey Period\\\"]\\n    ]\\n    return final_table\";\n",
       "                var nbb_formatted_code = \"def create_description_table(table, waves, language, return_links_as_symbols=True):\\n    \\\"\\\"\\\" Create variable overview from data description table of liss data.\\\"\\\"\\\"\\n    table = table.copy()\\n    # Fill in nans as -.\\n    table = table.fillna(\\\"-\\\")\\n    # Drop columns.\\n    table = table.drop([\\\"label_english\\\", \\\"categories_english\\\"], axis=1)\\n    table = table[table[\\\"question_group\\\"] != \\\"-\\\"]\\n    table = table[table[\\\"Variable\\\"] != \\\"-\\\"]\\n    for i in [1, 2, 3]:\\n        if i not in waves:\\n            table = table.drop([f\\\"wave{i}\\\"], axis=1)\\n\\n    # Drop observations if they are not in any included wave.\\n    if len(waves) == 1:\\n        table = table[table[f\\\"wave{waves[0]}\\\"] != \\\"-\\\"]\\n    elif len(waves) == 2:\\n        table = table[\\n            (table[f\\\"wave{waves[0]}\\\"] != \\\"-\\\") | (table[f\\\"wave{waves[1]}\\\"] != \\\"-\\\")\\n        ]\\n    else:\\n        table = table[\\n            (table[f\\\"wave{waves[0]}\\\"] != \\\"-\\\")\\n            | (table[f\\\"wave{waves[1]}\\\"] != \\\"-\\\")\\n            | (table[f\\\"wave{waves[2]}\\\"] != \\\"-\\\")\\n        ]\\n\\n    # replace question id with question group id.\\n    for i in waves:\\n        table[f\\\"wave{i}\\\"] = np.where(\\n            table[f\\\"wave{i}\\\"] == \\\"-\\\", table[f\\\"wave{i}\\\"], table[\\\"question_group\\\"]\\n        )\\n\\n    # create question link \\\":ref:`wNL-{question_group}`.\\n    for i in waves:\\n        if return_links_as_symbols:\\n            table[f\\\"wave{i}\\\"] = table[f\\\"wave{i}\\\"].apply(\\n                lambda x: f\\\":ref:`\\ud83d\\udd17 <w{str(i)}{language}-{x}>`\\\"\\n            )\\n        else:\\n            table[f\\\"wave{i}\\\"] = table[f\\\"wave{i}\\\"].apply(\\n                lambda x: f\\\"w{str(i)}{language}-{x}\\\"\\n            )\\n        table[f\\\"wave{i}\\\"] = np.where(\\n            table[f\\\"wave{i}\\\"].str.contains(\\\"--\\\") == False, table[f\\\"wave{i}\\\"], \\\"-\\\"\\n        )\\n\\n    # Final formatting\\n    # Replace ordered categoricals to drop 'ordered' column.\\n    table[\\\"Type\\\"] = np.where(\\n        table[\\\"ordered\\\"] != True, table[\\\"Type\\\"], \\\"Ordered Categorical\\\"\\n    )\\n\\n    # Ensure correct formatting for reference period column,\\n    # create as new column to esnure it is last in table.\\n    table = table.replace(\\\"-\\\", -111)\\n    table[\\\"Reference Period Other Than Survey Period\\\"] = table[\\n        \\\"reference period other than survey period\\\"\\n    ].astype(int)\\n\\n    # Drop unneeded columns.\\n    table = table.drop(\\n        [\\\"question_group\\\", \\\"ordered\\\", \\\"reference period other than survey period\\\"],\\n        axis=1,\\n    )\\n\\n    # Replace missings with empty strig so they don't show up in table.\\n    table = table.replace(-111, \\\" \\\")\\n\\n    # Final ordering and rename wave link headers.\\n    final_table = pd.DataFrame()\\n    final_table[\\\"Variable\\\"] = table[\\\"Variable\\\"]\\n\\n    for i in waves:\\n        final_table[f\\\"Links Wave {i}\\\"] = table[f\\\"wave{i}\\\"]\\n\\n    final_table[[\\\"Type\\\", \\\"Topic\\\", \\\"Reference Period Other Than Survey Period\\\"]] = table[\\n        [\\\"Type\\\", \\\"Topic\\\", \\\"Reference Period Other Than Survey Period\\\"]\\n    ]\\n    return final_table\";\n",
       "                var nbb_cells = Jupyter.notebook.get_cells();\n",
       "                for (var i = 0; i < nbb_cells.length; ++i) {\n",
       "                    if (nbb_cells[i].input_prompt_number == nbb_cell_id) {\n",
       "                        if (nbb_cells[i].get_text() == nbb_unformatted_code) {\n",
       "                             nbb_cells[i].set_text(nbb_formatted_code);\n",
       "                        }\n",
       "                        break;\n",
       "                    }\n",
       "                }\n",
       "            }, 500);\n",
       "            "
      ],
      "text/plain": [
       "<IPython.core.display.Javascript object>"
      ]
     },
     "metadata": {},
     "output_type": "display_data"
    }
   ],
   "source": [
    "def create_description_table(table, waves, language, return_links_as_symbols=True):\n",
    "    \"\"\" Create variable overview from data description table of liss data.\"\"\"\n",
    "    table = table.copy()\n",
    "    # Fill in nans as -.\n",
    "    table = table.fillna(\"-\")\n",
    "    # Drop columns.\n",
    "    table = table.drop([\"label_english\", \"categories_english\"], axis=1)\n",
    "    table = table[table[\"question_group\"] != \"-\"]\n",
    "    table = table[table[\"Variable\"] != \"-\"]\n",
    "    for i in [1, 2, 3]:\n",
    "        if i not in waves:\n",
    "            table = table.drop([f\"wave{i}\"], axis=1)\n",
    "\n",
    "    # Drop observations if they are not in any included wave.\n",
    "    if len(waves) == 1:\n",
    "        table = table[table[f\"wave{waves[0]}\"] != \"-\"]\n",
    "    elif len(waves) == 2:\n",
    "        table = table[\n",
    "            (table[f\"wave{waves[0]}\"] != \"-\") | (table[f\"wave{waves[1]}\"] != \"-\")\n",
    "        ]\n",
    "    else:\n",
    "        table = table[\n",
    "            (table[f\"wave{waves[0]}\"] != \"-\")\n",
    "            | (table[f\"wave{waves[1]}\"] != \"-\")\n",
    "            | (table[f\"wave{waves[2]}\"] != \"-\")\n",
    "        ]\n",
    "\n",
    "    # replace question id with question group id.\n",
    "    for i in waves:\n",
    "        table[f\"wave{i}\"] = np.where(\n",
    "            table[f\"wave{i}\"] == \"-\", table[f\"wave{i}\"], table[\"question_group\"]\n",
    "        )\n",
    "\n",
    "    # create question link \":ref:`wNL-{question_group}`.\n",
    "    for i in waves:\n",
    "        if return_links_as_symbols:\n",
    "            table[f\"wave{i}\"] = table[f\"wave{i}\"].apply(\n",
    "                lambda x: f\":ref:`🔗 <w{str(i)}{language}-{x}>`\"\n",
    "            )\n",
    "        else:\n",
    "            table[f\"wave{i}\"] = table[f\"wave{i}\"].apply(\n",
    "                lambda x: f\"w{str(i)}{language}-{x}\"\n",
    "            )\n",
    "        table[f\"wave{i}\"] = np.where(\n",
    "            table[f\"wave{i}\"].str.contains(\"--\") == False, table[f\"wave{i}\"], \"-\"\n",
    "        )\n",
    "\n",
    "    # Final formatting\n",
    "    # Replace ordered categoricals to drop 'ordered' column.\n",
    "    table[\"Type\"] = np.where(\n",
    "        table[\"ordered\"] != True, table[\"Type\"], \"Ordered Categorical\"\n",
    "    )\n",
    "\n",
    "    # Ensure correct formatting for reference period column,\n",
    "    # create as new column to esnure it is last in table.\n",
    "    table = table.replace(\"-\", -111)\n",
    "    table[\"Reference Period Other Than Survey Period\"] = table[\n",
    "        \"reference period other than survey period\"\n",
    "    ].astype(int)\n",
    "\n",
    "    # Drop unneeded columns.\n",
    "    table = table.drop(\n",
    "        [\"question_group\", \"ordered\", \"reference period other than survey period\"],\n",
    "        axis=1,\n",
    "    )\n",
    "\n",
    "    # Replace missings with empty strig so they don't show up in table.\n",
    "    table = table.replace(-111, \" \")\n",
    "\n",
    "    # Final ordering and rename wave link headers.\n",
    "    final_table = pd.DataFrame()\n",
    "    final_table[\"Variable\"] = table[\"Variable\"]\n",
    "\n",
    "    for i in waves:\n",
    "        final_table[f\"Links Wave {i}\"] = table[f\"wave{i}\"]\n",
    "\n",
    "    final_table[[\"Type\", \"Topic\", \"Reference Period Other Than Survey Period\"]] = table[\n",
    "        [\"Type\", \"Topic\", \"Reference Period Other Than Survey Period\"]\n",
    "    ]\n",
    "    return final_table"
   ]
  },
  {
   "cell_type": "markdown",
   "metadata": {},
   "source": [
    "## Create Table "
   ]
  },
  {
   "cell_type": "markdown",
   "metadata": {},
   "source": [
    "Read in description table "
   ]
  },
  {
   "cell_type": "code",
   "execution_count": 3,
   "metadata": {},
   "outputs": [
    {
     "data": {
      "application/javascript": [
       "\n",
       "            setTimeout(function() {\n",
       "                var nbb_cell_id = 3;\n",
       "                var nbb_unformatted_code = \"table = pd.read_csv(\\\"description-tables/xyx-corona-description-table.csv\\\", sep=\\\";\\\")\";\n",
       "                var nbb_formatted_code = \"table = pd.read_csv(\\\"description-tables/xyx-corona-description-table.csv\\\", sep=\\\";\\\")\";\n",
       "                var nbb_cells = Jupyter.notebook.get_cells();\n",
       "                for (var i = 0; i < nbb_cells.length; ++i) {\n",
       "                    if (nbb_cells[i].input_prompt_number == nbb_cell_id) {\n",
       "                        if (nbb_cells[i].get_text() == nbb_unformatted_code) {\n",
       "                             nbb_cells[i].set_text(nbb_formatted_code);\n",
       "                        }\n",
       "                        break;\n",
       "                    }\n",
       "                }\n",
       "            }, 500);\n",
       "            "
      ],
      "text/plain": [
       "<IPython.core.display.Javascript object>"
      ]
     },
     "metadata": {},
     "output_type": "display_data"
    }
   ],
   "source": [
    "table = pd.read_csv(\"description-tables/xyx-corona-description-table.csv\", sep=\";\")"
   ]
  },
  {
   "cell_type": "markdown",
   "metadata": {},
   "source": [
    "Rename columns so they are easier to handle for the functions"
   ]
  },
  {
   "cell_type": "code",
   "execution_count": 4,
   "metadata": {},
   "outputs": [
    {
     "data": {
      "application/javascript": [
       "\n",
       "            setTimeout(function() {\n",
       "                var nbb_cell_id = 4;\n",
       "                var nbb_unformatted_code = \"table = table.rename(\\n    columns={\\n        \\\"L_CoronavirusImpact_wave3_3p.dta\\\": \\\"wave3\\\",\\n        \\\"L_CoronavirusImpact_4.0p.dta\\\": \\\"wave2\\\",\\n        \\\"L_CoronavirusImpact_3p.dta\\\": \\\"wave1\\\",\\n        \\\"new_name\\\": \\\"variable\\\",\\n        \\\"topic_english\\\": \\\"Topic\\\",\\n        \\\"type\\\": \\\"Type\\\",\\n        \\\"new_name\\\": \\\"Variable\\\",\\n    }\\n)\";\n",
       "                var nbb_formatted_code = \"table = table.rename(\\n    columns={\\n        \\\"L_CoronavirusImpact_wave3_3p.dta\\\": \\\"wave3\\\",\\n        \\\"L_CoronavirusImpact_4.0p.dta\\\": \\\"wave2\\\",\\n        \\\"L_CoronavirusImpact_3p.dta\\\": \\\"wave1\\\",\\n        \\\"new_name\\\": \\\"variable\\\",\\n        \\\"topic_english\\\": \\\"Topic\\\",\\n        \\\"type\\\": \\\"Type\\\",\\n        \\\"new_name\\\": \\\"Variable\\\",\\n    }\\n)\";\n",
       "                var nbb_cells = Jupyter.notebook.get_cells();\n",
       "                for (var i = 0; i < nbb_cells.length; ++i) {\n",
       "                    if (nbb_cells[i].input_prompt_number == nbb_cell_id) {\n",
       "                        if (nbb_cells[i].get_text() == nbb_unformatted_code) {\n",
       "                             nbb_cells[i].set_text(nbb_formatted_code);\n",
       "                        }\n",
       "                        break;\n",
       "                    }\n",
       "                }\n",
       "            }, 500);\n",
       "            "
      ],
      "text/plain": [
       "<IPython.core.display.Javascript object>"
      ]
     },
     "metadata": {},
     "output_type": "display_data"
    }
   ],
   "source": [
    "table = table.rename(\n",
    "    columns={\n",
    "        \"L_CoronavirusImpact_wave3_3p.dta\": \"wave3\",\n",
    "        \"L_CoronavirusImpact_4.0p.dta\": \"wave2\",\n",
    "        \"L_CoronavirusImpact_3p.dta\": \"wave1\",\n",
    "        \"new_name\": \"variable\",\n",
    "        \"topic_english\": \"Topic\",\n",
    "        \"type\": \"Type\",\n",
    "        \"new_name\": \"Variable\",\n",
    "    }\n",
    ")"
   ]
  },
  {
   "cell_type": "markdown",
   "metadata": {},
   "source": [
    "Select wave and language indicator. `language` should be one lower-case letter. `waves` should be a list of one or more values."
   ]
  },
  {
   "cell_type": "code",
   "execution_count": 5,
   "metadata": {},
   "outputs": [
    {
     "data": {
      "application/javascript": [
       "\n",
       "            setTimeout(function() {\n",
       "                var nbb_cell_id = 5;\n",
       "                var nbb_unformatted_code = \"waves = [3]\\nlanguage_short = \\\"e\\\"\\nlanguage_long = \\\"english\\\"\";\n",
       "                var nbb_formatted_code = \"waves = [3]\\nlanguage_short = \\\"e\\\"\\nlanguage_long = \\\"english\\\"\";\n",
       "                var nbb_cells = Jupyter.notebook.get_cells();\n",
       "                for (var i = 0; i < nbb_cells.length; ++i) {\n",
       "                    if (nbb_cells[i].input_prompt_number == nbb_cell_id) {\n",
       "                        if (nbb_cells[i].get_text() == nbb_unformatted_code) {\n",
       "                             nbb_cells[i].set_text(nbb_formatted_code);\n",
       "                        }\n",
       "                        break;\n",
       "                    }\n",
       "                }\n",
       "            }, 500);\n",
       "            "
      ],
      "text/plain": [
       "<IPython.core.display.Javascript object>"
      ]
     },
     "metadata": {},
     "output_type": "display_data"
    }
   ],
   "source": [
    "waves = [3]\n",
    "language_short = \"d\"\n",
    "language_long = \"dutch\""
   ]
  },
  {
   "cell_type": "markdown",
   "metadata": {},
   "source": [
    "Create decription table and save to csv."
   ]
  },
  {
   "cell_type": "code",
   "execution_count": 6,
   "metadata": {},
   "outputs": [
    {
     "data": {
      "application/javascript": [
       "\n",
       "            setTimeout(function() {\n",
       "                var nbb_cell_id = 6;\n",
       "                var nbb_unformatted_code = \"variable_table = create_description_table(table, waves, language_short)\";\n",
       "                var nbb_formatted_code = \"variable_table = create_description_table(table, waves, language_short)\";\n",
       "                var nbb_cells = Jupyter.notebook.get_cells();\n",
       "                for (var i = 0; i < nbb_cells.length; ++i) {\n",
       "                    if (nbb_cells[i].input_prompt_number == nbb_cell_id) {\n",
       "                        if (nbb_cells[i].get_text() == nbb_unformatted_code) {\n",
       "                             nbb_cells[i].set_text(nbb_formatted_code);\n",
       "                        }\n",
       "                        break;\n",
       "                    }\n",
       "                }\n",
       "            }, 500);\n",
       "            "
      ],
      "text/plain": [
       "<IPython.core.display.Javascript object>"
      ]
     },
     "metadata": {},
     "output_type": "display_data"
    }
   ],
   "source": [
    "variable_table = create_description_table(table, waves, language_short)"
   ]
  },
  {
   "cell_type": "code",
   "execution_count": 7,
   "metadata": {},
   "outputs": [
    {
     "data": {
      "application/javascript": [
       "\n",
       "            setTimeout(function() {\n",
       "                var nbb_cell_id = 7;\n",
       "                var nbb_unformatted_code = \"if len(waves) == 1:\\n    path = f\\\"../docs/source/wave-{waves[0]}/\\\"\\nelse:\\n    path = f\\\"../docs/source/\\\"\";\n",
       "                var nbb_formatted_code = \"if len(waves) == 1:\\n    path = f\\\"../docs/source/wave-{waves[0]}/\\\"\\nelse:\\n    path = f\\\"../docs/source/\\\"\";\n",
       "                var nbb_cells = Jupyter.notebook.get_cells();\n",
       "                for (var i = 0; i < nbb_cells.length; ++i) {\n",
       "                    if (nbb_cells[i].input_prompt_number == nbb_cell_id) {\n",
       "                        if (nbb_cells[i].get_text() == nbb_unformatted_code) {\n",
       "                             nbb_cells[i].set_text(nbb_formatted_code);\n",
       "                        }\n",
       "                        break;\n",
       "                    }\n",
       "                }\n",
       "            }, 500);\n",
       "            "
      ],
      "text/plain": [
       "<IPython.core.display.Javascript object>"
      ]
     },
     "metadata": {},
     "output_type": "display_data"
    }
   ],
   "source": [
    "if len(waves) == 1:\n",
    "    path = f\"../docs/source/wave-{waves[0]}/\"\n",
    "else:\n",
    "    path = f\"../docs/source/\""
   ]
  },
  {
   "cell_type": "code",
   "execution_count": 8,
   "metadata": {
    "scrolled": true
   },
   "outputs": [
    {
     "data": {
      "text/html": [
       "<div>\n",
       "<style scoped>\n",
       "    .dataframe tbody tr th:only-of-type {\n",
       "        vertical-align: middle;\n",
       "    }\n",
       "\n",
       "    .dataframe tbody tr th {\n",
       "        vertical-align: top;\n",
       "    }\n",
       "\n",
       "    .dataframe thead th {\n",
       "        text-align: right;\n",
       "    }\n",
       "</style>\n",
       "<table border=\"1\" class=\"dataframe\">\n",
       "  <thead>\n",
       "    <tr style=\"text-align: right;\">\n",
       "      <th></th>\n",
       "      <th>Variable</th>\n",
       "      <th>Links Wave 3</th>\n",
       "      <th>Type</th>\n",
       "      <th>Topic</th>\n",
       "      <th>Reference Period Other Than Survey Period</th>\n",
       "    </tr>\n",
       "  </thead>\n",
       "  <tbody>\n",
       "    <tr>\n",
       "      <th>5</th>\n",
       "      <td>p_2m_infected</td>\n",
       "      <td>:ref:`🔗 &lt;w3e-q1header&gt;`</td>\n",
       "      <td>float</td>\n",
       "      <td>Health Beliefs</td>\n",
       "      <td></td>\n",
       "    </tr>\n",
       "    <tr>\n",
       "      <th>6</th>\n",
       "      <td>p_2m_acquaintance_infected</td>\n",
       "      <td>:ref:`🔗 &lt;w3e-q1header&gt;`</td>\n",
       "      <td>float</td>\n",
       "      <td>Health Beliefs</td>\n",
       "      <td></td>\n",
       "    </tr>\n",
       "    <tr>\n",
       "      <th>7</th>\n",
       "      <td>p_2m_hospital_if_infect_self</td>\n",
       "      <td>:ref:`🔗 &lt;w3e-q1header&gt;`</td>\n",
       "      <td>float</td>\n",
       "      <td>Health Beliefs</td>\n",
       "      <td></td>\n",
       "    </tr>\n",
       "    <tr>\n",
       "      <th>8</th>\n",
       "      <td>p_2m_infected_and_pass_on</td>\n",
       "      <td>:ref:`🔗 &lt;w3e-q1header&gt;`</td>\n",
       "      <td>float</td>\n",
       "      <td>Health Beliefs</td>\n",
       "      <td></td>\n",
       "    </tr>\n",
       "    <tr>\n",
       "      <th>34</th>\n",
       "      <td>approp_gov_medical</td>\n",
       "      <td>:ref:`🔗 &lt;w3e-q33&gt;`</td>\n",
       "      <td>Ordered Categorical</td>\n",
       "      <td>Policies</td>\n",
       "      <td></td>\n",
       "    </tr>\n",
       "    <tr>\n",
       "      <th>...</th>\n",
       "      <td>...</td>\n",
       "      <td>...</td>\n",
       "      <td>...</td>\n",
       "      <td>...</td>\n",
       "      <td>...</td>\n",
       "    </tr>\n",
       "    <tr>\n",
       "      <th>934</th>\n",
       "      <td>teacher_platform_sec_child5</td>\n",
       "      <td>:ref:`🔗 &lt;w3e-v6_bokind&gt;`</td>\n",
       "      <td>bool</td>\n",
       "      <td>Childcare</td>\n",
       "      <td></td>\n",
       "    </tr>\n",
       "    <tr>\n",
       "      <th>935</th>\n",
       "      <td>teacher_pickup_sec_child5</td>\n",
       "      <td>:ref:`🔗 &lt;w3e-v6_bokind&gt;`</td>\n",
       "      <td>bool</td>\n",
       "      <td>Childcare</td>\n",
       "      <td></td>\n",
       "    </tr>\n",
       "    <tr>\n",
       "      <th>936</th>\n",
       "      <td>teacher_none_sec_child5</td>\n",
       "      <td>:ref:`🔗 &lt;w3e-v6_bokind&gt;`</td>\n",
       "      <td>bool</td>\n",
       "      <td>Childcare</td>\n",
       "      <td></td>\n",
       "    </tr>\n",
       "    <tr>\n",
       "      <th>937</th>\n",
       "      <td>teacher_other_sec_child5</td>\n",
       "      <td>:ref:`🔗 &lt;w3e-v6_bokind&gt;`</td>\n",
       "      <td>bool</td>\n",
       "      <td>Childcare</td>\n",
       "      <td></td>\n",
       "    </tr>\n",
       "    <tr>\n",
       "      <th>938</th>\n",
       "      <td>teacher_other_sec_child5_str</td>\n",
       "      <td>:ref:`🔗 &lt;w3e-v6_bokind&gt;`</td>\n",
       "      <td>str</td>\n",
       "      <td>Childcare</td>\n",
       "      <td></td>\n",
       "    </tr>\n",
       "  </tbody>\n",
       "</table>\n",
       "<p>630 rows × 5 columns</p>\n",
       "</div>"
      ],
      "text/plain": [
       "                         Variable              Links Wave 3  \\\n",
       "5                   p_2m_infected   :ref:`🔗 <w3e-q1header>`   \n",
       "6      p_2m_acquaintance_infected   :ref:`🔗 <w3e-q1header>`   \n",
       "7    p_2m_hospital_if_infect_self   :ref:`🔗 <w3e-q1header>`   \n",
       "8       p_2m_infected_and_pass_on   :ref:`🔗 <w3e-q1header>`   \n",
       "34             approp_gov_medical        :ref:`🔗 <w3e-q33>`   \n",
       "..                            ...                       ...   \n",
       "934   teacher_platform_sec_child5  :ref:`🔗 <w3e-v6_bokind>`   \n",
       "935     teacher_pickup_sec_child5  :ref:`🔗 <w3e-v6_bokind>`   \n",
       "936       teacher_none_sec_child5  :ref:`🔗 <w3e-v6_bokind>`   \n",
       "937      teacher_other_sec_child5  :ref:`🔗 <w3e-v6_bokind>`   \n",
       "938  teacher_other_sec_child5_str  :ref:`🔗 <w3e-v6_bokind>`   \n",
       "\n",
       "                    Type           Topic  \\\n",
       "5                  float  Health Beliefs   \n",
       "6                  float  Health Beliefs   \n",
       "7                  float  Health Beliefs   \n",
       "8                  float  Health Beliefs   \n",
       "34   Ordered Categorical        Policies   \n",
       "..                   ...             ...   \n",
       "934                 bool       Childcare   \n",
       "935                 bool       Childcare   \n",
       "936                 bool       Childcare   \n",
       "937                 bool       Childcare   \n",
       "938                  str       Childcare   \n",
       "\n",
       "    Reference Period Other Than Survey Period  \n",
       "5                                              \n",
       "6                                              \n",
       "7                                              \n",
       "8                                              \n",
       "34                                             \n",
       "..                                        ...  \n",
       "934                                            \n",
       "935                                            \n",
       "936                                            \n",
       "937                                            \n",
       "938                                            \n",
       "\n",
       "[630 rows x 5 columns]"
      ]
     },
     "execution_count": 8,
     "metadata": {},
     "output_type": "execute_result"
    },
    {
     "data": {
      "application/javascript": [
       "\n",
       "            setTimeout(function() {\n",
       "                var nbb_cell_id = 8;\n",
       "                var nbb_unformatted_code = \"variable_table\";\n",
       "                var nbb_formatted_code = \"variable_table\";\n",
       "                var nbb_cells = Jupyter.notebook.get_cells();\n",
       "                for (var i = 0; i < nbb_cells.length; ++i) {\n",
       "                    if (nbb_cells[i].input_prompt_number == nbb_cell_id) {\n",
       "                        if (nbb_cells[i].get_text() == nbb_unformatted_code) {\n",
       "                             nbb_cells[i].set_text(nbb_formatted_code);\n",
       "                        }\n",
       "                        break;\n",
       "                    }\n",
       "                }\n",
       "            }, 500);\n",
       "            "
      ],
      "text/plain": [
       "<IPython.core.display.Javascript object>"
      ]
     },
     "metadata": {},
     "output_type": "display_data"
    }
   ],
   "source": [
    "variable_table"
   ]
  },
  {
   "cell_type": "code",
   "execution_count": 9,
   "metadata": {},
   "outputs": [
    {
     "data": {
      "application/javascript": [
       "\n",
       "            setTimeout(function() {\n",
       "                var nbb_cell_id = 9;\n",
       "                var nbb_unformatted_code = \"if language_short == \\\"e\\\":\\n    variable_table.to_csv(\\n        f\\\"{path}variable_table-waves-{'-'.join(str(i) for i in waves)}-{language_short}.csv\\\",\\n        sep=\\\",\\\",\\n        index=False,\\n    )\";\n",
       "                var nbb_formatted_code = \"if language_short == \\\"e\\\":\\n    variable_table.to_csv(\\n        f\\\"{path}variable_table-waves-{'-'.join(str(i) for i in waves)}-{language_short}.csv\\\",\\n        sep=\\\",\\\",\\n        index=False,\\n    )\";\n",
       "                var nbb_cells = Jupyter.notebook.get_cells();\n",
       "                for (var i = 0; i < nbb_cells.length; ++i) {\n",
       "                    if (nbb_cells[i].input_prompt_number == nbb_cell_id) {\n",
       "                        if (nbb_cells[i].get_text() == nbb_unformatted_code) {\n",
       "                             nbb_cells[i].set_text(nbb_formatted_code);\n",
       "                        }\n",
       "                        break;\n",
       "                    }\n",
       "                }\n",
       "            }, 500);\n",
       "            "
      ],
      "text/plain": [
       "<IPython.core.display.Javascript object>"
      ]
     },
     "metadata": {},
     "output_type": "display_data"
    }
   ],
   "source": [
    "if language_short == \"e\":\n",
    "    variable_table.to_csv(\n",
    "        f\"{path}variable_table-waves-{'-'.join(str(i) for i in waves)}-{language_short}.csv\",\n",
    "        sep=\",\",\n",
    "        index=False,\n",
    "    )"
   ]
  },
  {
   "cell_type": "markdown",
   "metadata": {},
   "source": [
    "## Create overview table for topics"
   ]
  },
  {
   "cell_type": "code",
   "execution_count": 10,
   "metadata": {},
   "outputs": [
    {
     "data": {
      "application/javascript": [
       "\n",
       "            setTimeout(function() {\n",
       "                var nbb_cell_id = 10;\n",
       "                var nbb_unformatted_code = \"import os\\nfrom functions import add_to_file\";\n",
       "                var nbb_formatted_code = \"import os\\nfrom functions import add_to_file\";\n",
       "                var nbb_cells = Jupyter.notebook.get_cells();\n",
       "                for (var i = 0; i < nbb_cells.length; ++i) {\n",
       "                    if (nbb_cells[i].input_prompt_number == nbb_cell_id) {\n",
       "                        if (nbb_cells[i].get_text() == nbb_unformatted_code) {\n",
       "                             nbb_cells[i].set_text(nbb_formatted_code);\n",
       "                        }\n",
       "                        break;\n",
       "                    }\n",
       "                }\n",
       "            }, 500);\n",
       "            "
      ],
      "text/plain": [
       "<IPython.core.display.Javascript object>"
      ]
     },
     "metadata": {},
     "output_type": "display_data"
    }
   ],
   "source": [
    "import os\n",
    "from functions import add_to_file"
   ]
  },
  {
   "cell_type": "code",
   "execution_count": 11,
   "metadata": {},
   "outputs": [
    {
     "data": {
      "application/javascript": [
       "\n",
       "            setTimeout(function() {\n",
       "                var nbb_cell_id = 11;\n",
       "                var nbb_unformatted_code = \"def create_overview_page(topic_dict, wave, language, path):\\n\\n    file_name = f\\\"wave{wave}_questions_{language}_topics\\\"\\n    target = f\\\"{path}{file_name}.rst\\\"\\n    if os.path.exists(target):\\n        os.remove(target)\\n    add_to_file(f\\\".. _{file_name}:\\\", target)\\n    add_to_file(\\\"\\\\n\\\", target)\\n    title = (\\n        f\\\"Overview of Questions Wave {wave} ({language.capitalize()}) Grouped by Topic\\\"\\n    )\\n    add_to_file(title, target)\\n    add_to_file(\\\"=\\\" * len(title), target)\\n    add_to_file(\\n        \\\"This page contains the questions grouped by topic. \\\"\\n        \\\"When clicking into a question, please note that internally the questions are \\\"\\n        \\\"ordered according to their appearance in the questionnaire. Clicking on \\\"\\n        \\\"the next or previous question will thus not preseve the grouping by topic.\\\",\\n        target,\\n    )\\n    add_to_file(\\\"\\\\n\\\", target)\\n\\n    for key in topic_dict.keys():\\n        add_to_file(key, target)\\n        add_to_file(\\\"-\\\" * len(key), target)\\n        add_to_file(\\\"\\\", target)\\n        add_to_file(\\\".. toctree::\\\", target)\\n        add_to_file(\\\"   :maxdepth: 1\\\", target)\\n        add_to_file(\\\"\\\", target)\\n        for question in topic_dict[key]:\\n            add_to_file(f\\\"   {language}/{question}\\\", target)\\n        add_to_file(\\\"\\\\n\\\", target)\";\n",
       "                var nbb_formatted_code = \"def create_overview_page(topic_dict, wave, language, path):\\n\\n    file_name = f\\\"wave{wave}_questions_{language}_topics\\\"\\n    target = f\\\"{path}{file_name}.rst\\\"\\n    if os.path.exists(target):\\n        os.remove(target)\\n    add_to_file(f\\\".. _{file_name}:\\\", target)\\n    add_to_file(\\\"\\\\n\\\", target)\\n    title = (\\n        f\\\"Overview of Questions Wave {wave} ({language.capitalize()}) Grouped by Topic\\\"\\n    )\\n    add_to_file(title, target)\\n    add_to_file(\\\"=\\\" * len(title), target)\\n    add_to_file(\\n        \\\"This page contains the questions grouped by topic. \\\"\\n        \\\"When clicking into a question, please note that internally the questions are \\\"\\n        \\\"ordered according to their appearance in the questionnaire. Clicking on \\\"\\n        \\\"the next or previous question will thus not preseve the grouping by topic.\\\",\\n        target,\\n    )\\n    add_to_file(\\\"\\\\n\\\", target)\\n\\n    for key in topic_dict.keys():\\n        add_to_file(key, target)\\n        add_to_file(\\\"-\\\" * len(key), target)\\n        add_to_file(\\\"\\\", target)\\n        add_to_file(\\\".. toctree::\\\", target)\\n        add_to_file(\\\"   :maxdepth: 1\\\", target)\\n        add_to_file(\\\"\\\", target)\\n        for question in topic_dict[key]:\\n            add_to_file(f\\\"   {language}/{question}\\\", target)\\n        add_to_file(\\\"\\\\n\\\", target)\";\n",
       "                var nbb_cells = Jupyter.notebook.get_cells();\n",
       "                for (var i = 0; i < nbb_cells.length; ++i) {\n",
       "                    if (nbb_cells[i].input_prompt_number == nbb_cell_id) {\n",
       "                        if (nbb_cells[i].get_text() == nbb_unformatted_code) {\n",
       "                             nbb_cells[i].set_text(nbb_formatted_code);\n",
       "                        }\n",
       "                        break;\n",
       "                    }\n",
       "                }\n",
       "            }, 500);\n",
       "            "
      ],
      "text/plain": [
       "<IPython.core.display.Javascript object>"
      ]
     },
     "metadata": {},
     "output_type": "display_data"
    }
   ],
   "source": [
    "def create_overview_page(topic_dict, wave, language, path):\n",
    "\n",
    "    file_name = f\"wave{wave}_questions_{language}_topics\"\n",
    "    target = f\"{path}{file_name}.rst\"\n",
    "    if os.path.exists(target):\n",
    "        os.remove(target)\n",
    "    add_to_file(f\".. _{file_name}:\", target)\n",
    "    add_to_file(\"\\n\", target)\n",
    "    title = (\n",
    "        f\"Overview of Questions Wave {wave} ({language.capitalize()}) Grouped by Topic\"\n",
    "    )\n",
    "    add_to_file(title, target)\n",
    "    add_to_file(\"=\" * len(title), target)\n",
    "    add_to_file(\n",
    "        \"This page contains the questions grouped by topic. \"\n",
    "        \"When clicking into a question, please note that internally the questions are \"\n",
    "        \"ordered according to their appearance in the questionnaire. Clicking on \"\n",
    "        \"the next or previous question will thus not preseve the grouping by topic.\",\n",
    "        target,\n",
    "    )\n",
    "    add_to_file(\"\\n\", target)\n",
    "\n",
    "    for key in topic_dict.keys():\n",
    "        add_to_file(key, target)\n",
    "        add_to_file(\"-\" * len(key), target)\n",
    "        add_to_file(\"\", target)\n",
    "        add_to_file(\".. toctree::\", target)\n",
    "        add_to_file(\"   :maxdepth: 1\", target)\n",
    "        add_to_file(\"\", target)\n",
    "        for question in topic_dict[key]:\n",
    "            add_to_file(f\"   {language}/{question}\", target)\n",
    "        add_to_file(\"\\n\", target)"
   ]
  },
  {
   "cell_type": "code",
   "execution_count": 12,
   "metadata": {},
   "outputs": [
    {
     "data": {
      "application/javascript": [
       "\n",
       "            setTimeout(function() {\n",
       "                var nbb_cell_id = 12;\n",
       "                var nbb_unformatted_code = \"if len(waves) == 1:\\n    topic_table = create_description_table(\\n        table, waves, language_short, return_links_as_symbols=False\\n    )\\n    topic_dict = topic_table.groupby(\\\"Topic\\\")[f\\\"Links Wave {waves[0]}\\\"].unique()\\n    for key in [\\\"skip\\\", \\\"Skip\\\"]:\\n        if key in topic_dict.keys():\\n            topic_dict = topic_dict.drop(key)\\n    create_overview_page(topic_dict, waves[0], language_long, path)\";\n",
       "                var nbb_formatted_code = \"if len(waves) == 1:\\n    topic_table = create_description_table(\\n        table, waves, language_short, return_links_as_symbols=False\\n    )\\n    topic_dict = topic_table.groupby(\\\"Topic\\\")[f\\\"Links Wave {waves[0]}\\\"].unique()\\n    for key in [\\\"skip\\\", \\\"Skip\\\"]:\\n        if key in topic_dict.keys():\\n            topic_dict = topic_dict.drop(key)\\n    create_overview_page(topic_dict, waves[0], language_long, path)\";\n",
       "                var nbb_cells = Jupyter.notebook.get_cells();\n",
       "                for (var i = 0; i < nbb_cells.length; ++i) {\n",
       "                    if (nbb_cells[i].input_prompt_number == nbb_cell_id) {\n",
       "                        if (nbb_cells[i].get_text() == nbb_unformatted_code) {\n",
       "                             nbb_cells[i].set_text(nbb_formatted_code);\n",
       "                        }\n",
       "                        break;\n",
       "                    }\n",
       "                }\n",
       "            }, 500);\n",
       "            "
      ],
      "text/plain": [
       "<IPython.core.display.Javascript object>"
      ]
     },
     "metadata": {},
     "output_type": "display_data"
    }
   ],
   "source": [
    "if len(waves) == 1:\n",
    "    topic_table = create_description_table(\n",
    "        table, waves, language_short, return_links_as_symbols=False\n",
    "    )\n",
    "    topic_dict = topic_table.groupby(\"Topic\")[f\"Links Wave {waves[0]}\"].unique()\n",
    "    for key in [\"skip\", \"Skip\"]:\n",
    "        if key in topic_dict.keys():\n",
    "            topic_dict = topic_dict.drop(key)\n",
    "    create_overview_page(topic_dict, waves[0], language_long, path)"
   ]
  },
  {
   "cell_type": "code",
   "execution_count": null,
   "metadata": {},
   "outputs": [],
   "source": []
  }
 ],
 "metadata": {
  "kernelspec": {
   "display_name": "Python 3",
   "language": "python",
   "name": "python3"
  },
  "language_info": {
   "codemirror_mode": {
    "name": "ipython",
    "version": 3
   },
   "file_extension": ".py",
   "mimetype": "text/x-python",
   "name": "python",
   "nbconvert_exporter": "python",
   "pygments_lexer": "ipython3",
   "version": "3.7.6"
  }
 },
 "nbformat": 4,
 "nbformat_minor": 4
}
