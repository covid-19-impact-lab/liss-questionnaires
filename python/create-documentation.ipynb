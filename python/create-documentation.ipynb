{
 "cells": [
  {
   "cell_type": "markdown",
   "metadata": {},
   "source": [
    "# Create Documentation .rst-Files from Data Description Table"
   ]
  },
  {
   "cell_type": "code",
   "execution_count": 1,
   "metadata": {},
   "outputs": [],
   "source": [
    "%load_ext autoreload\n",
    "%autoreload 2\n",
    "import glob\n",
    "import os\n",
    "import pathlib\n",
    "import pandas as pd\n",
    "import numpy as np\n",
    "from functions_questions import *"
   ]
  },
  {
   "cell_type": "markdown",
   "metadata": {},
   "source": [
    "## Read in Codebook & Set Variable Names"
   ]
  },
  {
   "cell_type": "markdown",
   "metadata": {},
   "source": [
    "### 1. Specify language and wave for the files that will be created.\n"
   ]
  },
  {
   "cell_type": "code",
   "execution_count": 2,
   "metadata": {},
   "outputs": [],
   "source": [
    "waveid = \"w4\"\n",
    "lanid = \"d\"\n",
    "language = \"dutch\""
   ]
  },
  {
   "cell_type": "markdown",
   "metadata": {},
   "source": [
    "### 2. Set target paths for files and images."
   ]
  },
  {
   "cell_type": "code",
   "execution_count": 3,
   "metadata": {},
   "outputs": [],
   "source": [
    "# This is where all the .rst files will be saved.\n",
    "target_dir = f\"../docs/source/wave-4/{language}/\"\n",
    "\n",
    "# The image path is defined from the perspective of the docs directory.\n",
    "image_path = \"../_screenshots/\""
   ]
  },
  {
   "cell_type": "markdown",
   "metadata": {},
   "source": [
    "#### Remove all old files in target folder."
   ]
  },
  {
   "cell_type": "code",
   "execution_count": 4,
   "metadata": {},
   "outputs": [],
   "source": [
    "for document in glob.glob(f\"{target_dir}*\"):\n",
    "    file = pathlib.Path(document)\n",
    "    file.unlink()"
   ]
  },
  {
   "cell_type": "markdown",
   "metadata": {},
   "source": [
    "### 3. Load codebook."
   ]
  },
  {
   "cell_type": "code",
   "execution_count": 5,
   "metadata": {},
   "outputs": [
    {
     "data": {
      "text/html": [
       "<div>\n",
       "<style scoped>\n",
       "    .dataframe tbody tr th:only-of-type {\n",
       "        vertical-align: middle;\n",
       "    }\n",
       "\n",
       "    .dataframe tbody tr th {\n",
       "        vertical-align: top;\n",
       "    }\n",
       "\n",
       "    .dataframe thead th {\n",
       "        text-align: right;\n",
       "    }\n",
       "</style>\n",
       "<table border=\"1\" class=\"dataframe\">\n",
       "  <thead>\n",
       "    <tr style=\"text-align: right;\">\n",
       "      <th></th>\n",
       "      <th>page</th>\n",
       "      <th>id</th>\n",
       "      <th>qid</th>\n",
       "      <th>layout</th>\n",
       "      <th>filter</th>\n",
       "      <th>group</th>\n",
       "      <th>question_dutch</th>\n",
       "      <th>subquestion_dutch</th>\n",
       "      <th>question_english</th>\n",
       "      <th>subquestion_english</th>\n",
       "      <th>type</th>\n",
       "      <th>categories_dutch</th>\n",
       "      <th>categories_english</th>\n",
       "      <th>new_name</th>\n",
       "    </tr>\n",
       "  </thead>\n",
       "  <tbody>\n",
       "    <tr>\n",
       "      <th>0</th>\n",
       "      <td>0.0</td>\n",
       "      <td>intro</td>\n",
       "      <td>intro</td>\n",
       "      <td>open</td>\n",
       "      <td>-</td>\n",
       "      <td>Introduction</td>\n",
       "      <td>Deze maand krijgt u de vierde vragenlijst uit ...</td>\n",
       "      <td>NaN</td>\n",
       "      <td>This month you will receive the fourth questio...</td>\n",
       "      <td>NaN</td>\n",
       "      <td>NaN</td>\n",
       "      <td>NaN</td>\n",
       "      <td>NaN</td>\n",
       "      <td>NaN</td>\n",
       "    </tr>\n",
       "    <tr>\n",
       "      <th>1</th>\n",
       "      <td>2.1</td>\n",
       "      <td>q1a</td>\n",
       "      <td>q1header</td>\n",
       "      <td>grid</td>\n",
       "      <td>-</td>\n",
       "      <td>Subjective Risks</td>\n",
       "      <td>Hoe groot denkt u dat de kans is dat de volgen...</td>\n",
       "      <td>u wordt besmet</td>\n",
       "      <td>On a scale of 0 to 100 percent, how likely do ...</td>\n",
       "      <td>You will be infected</td>\n",
       "      <td>float</td>\n",
       "      <td>NaN</td>\n",
       "      <td>NaN</td>\n",
       "      <td>NaN</td>\n",
       "    </tr>\n",
       "  </tbody>\n",
       "</table>\n",
       "</div>"
      ],
      "text/plain": [
       "   page     id       qid layout filter             group  \\\n",
       "0   0.0  intro     intro   open      -      Introduction   \n",
       "1   2.1    q1a  q1header   grid      -  Subjective Risks   \n",
       "\n",
       "                                      question_dutch subquestion_dutch  \\\n",
       "0  Deze maand krijgt u de vierde vragenlijst uit ...               NaN   \n",
       "1  Hoe groot denkt u dat de kans is dat de volgen...    u wordt besmet   \n",
       "\n",
       "                                    question_english   subquestion_english  \\\n",
       "0  This month you will receive the fourth questio...                   NaN   \n",
       "1  On a scale of 0 to 100 percent, how likely do ...  You will be infected   \n",
       "\n",
       "    type categories_dutch categories_english  new_name  \n",
       "0    NaN              NaN                NaN       NaN  \n",
       "1  float              NaN                NaN       NaN  "
      ]
     },
     "execution_count": 5,
     "metadata": {},
     "output_type": "execute_result"
    }
   ],
   "source": [
    "codebook = pd.read_csv(\"wave-4/codebook-wave-4-english-dutch.csv\", sep = \";\")\n",
    "codebook.head(2)"
   ]
  },
  {
   "cell_type": "markdown",
   "metadata": {},
   "source": [
    "### 4. Specifiy column names that should be used to create the files.\n",
    "\n",
    "\n",
    "* **q_groups**: Name of question groups, each question group gets its own .rst file.\n",
    "* **q_ids:** Identifier for question groups.\n",
    "* **q_type**: Should contain the question type. The following types are currently accepted: [Categorical,bool, int, float, str]\n",
    "* **q_topics**: Topic groups, each topic will get its own .rst-file.\n",
    "* **q_categories:** Name of the column that contains categories for categorical questions.\n",
    "* **q_layout:** Layout of the question group. Options: [open, grid, table, multi, cat].\n",
    "* **q_filter:** Column containing q_id of a question the current question depends on/ is routed from.\n",
    "* **q_text:** Contains the actual question.\n",
    "* **q_sub_text:** Contains subquestions.\n",
    "* **q_numbers:** Used for ordering of questions and subquestions."
   ]
  },
  {
   "cell_type": "code",
   "execution_count": 6,
   "metadata": {},
   "outputs": [],
   "source": [
    "q_groups = \"group\"\n",
    "q_type = \"type\"\n",
    "q_categories = \"categories_\" + language\n",
    "q_ids = \"qid\"\n",
    "image_id =\"image_id\"\n",
    "q_layout=\"layout\"\n",
    "q_filter=\"filter\"\n",
    "q_text =\"question_\" + language\n",
    "q_sub_text=\"subquestion_\" + language\n",
    "q_numbers=\"page\""
   ]
  },
  {
   "cell_type": "markdown",
   "metadata": {},
   "source": [
    "### 5. Clean codebook from unnecessary entries."
   ]
  },
  {
   "cell_type": "code",
   "execution_count": 7,
   "metadata": {},
   "outputs": [],
   "source": [
    "# Remove questions without groups or question id.\n",
    "codebook = codebook[codebook[q_groups].notna()]\n",
    "codebook = codebook[codebook[q_ids].notna()]\n",
    "\n",
    "for val in ['Skip','questionnaire','background']:\n",
    "    codebook = codebook[codebook[q_groups] != val]"
   ]
  },
  {
   "cell_type": "code",
   "execution_count": 8,
   "metadata": {},
   "outputs": [],
   "source": [
    "# Sort questions to generate correct order in documentation.\n",
    "codebook[q_numbers] = codebook[q_numbers].astype(\"float\")\n",
    "codebook = codebook.sort_values(by=q_numbers)"
   ]
  },
  {
   "cell_type": "code",
   "execution_count": 9,
   "metadata": {
    "scrolled": true
   },
   "outputs": [
    {
     "data": {
      "text/html": [
       "<div>\n",
       "<style scoped>\n",
       "    .dataframe tbody tr th:only-of-type {\n",
       "        vertical-align: middle;\n",
       "    }\n",
       "\n",
       "    .dataframe tbody tr th {\n",
       "        vertical-align: top;\n",
       "    }\n",
       "\n",
       "    .dataframe thead th {\n",
       "        text-align: right;\n",
       "    }\n",
       "</style>\n",
       "<table border=\"1\" class=\"dataframe\">\n",
       "  <thead>\n",
       "    <tr style=\"text-align: right;\">\n",
       "      <th></th>\n",
       "      <th>page</th>\n",
       "      <th>id</th>\n",
       "      <th>qid</th>\n",
       "      <th>layout</th>\n",
       "      <th>filter</th>\n",
       "      <th>group</th>\n",
       "      <th>question_dutch</th>\n",
       "      <th>subquestion_dutch</th>\n",
       "      <th>question_english</th>\n",
       "      <th>subquestion_english</th>\n",
       "      <th>type</th>\n",
       "      <th>categories_dutch</th>\n",
       "      <th>categories_english</th>\n",
       "      <th>new_name</th>\n",
       "    </tr>\n",
       "  </thead>\n",
       "  <tbody>\n",
       "    <tr>\n",
       "      <th>0</th>\n",
       "      <td>0.0</td>\n",
       "      <td>intro</td>\n",
       "      <td>intro</td>\n",
       "      <td>open</td>\n",
       "      <td>-</td>\n",
       "      <td>Introduction</td>\n",
       "      <td>Deze maand krijgt u de vierde vragenlijst uit ...</td>\n",
       "      <td>NaN</td>\n",
       "      <td>This month you will receive the fourth questio...</td>\n",
       "      <td>NaN</td>\n",
       "      <td>NaN</td>\n",
       "      <td>NaN</td>\n",
       "      <td>NaN</td>\n",
       "      <td>NaN</td>\n",
       "    </tr>\n",
       "    <tr>\n",
       "      <th>1</th>\n",
       "      <td>2.1</td>\n",
       "      <td>q1a</td>\n",
       "      <td>q1header</td>\n",
       "      <td>grid</td>\n",
       "      <td>-</td>\n",
       "      <td>Subjective Risks</td>\n",
       "      <td>Hoe groot denkt u dat de kans is dat de volgen...</td>\n",
       "      <td>u wordt besmet</td>\n",
       "      <td>On a scale of 0 to 100 percent, how likely do ...</td>\n",
       "      <td>You will be infected</td>\n",
       "      <td>float</td>\n",
       "      <td>NaN</td>\n",
       "      <td>NaN</td>\n",
       "      <td>NaN</td>\n",
       "    </tr>\n",
       "    <tr>\n",
       "      <th>2</th>\n",
       "      <td>2.2</td>\n",
       "      <td>q1b</td>\n",
       "      <td>q1header</td>\n",
       "      <td>grid</td>\n",
       "      <td>-</td>\n",
       "      <td>Subjective Risks</td>\n",
       "      <td>Hoe groot denkt u dat de kans is dat de volgen...</td>\n",
       "      <td>iemand in uw directe omgeving (familie, vriend...</td>\n",
       "      <td>On a scale of 0 to 100 percent, how likely do ...</td>\n",
       "      <td>Someone in your direct environment (family, fr...</td>\n",
       "      <td>float</td>\n",
       "      <td>NaN</td>\n",
       "      <td>NaN</td>\n",
       "      <td>NaN</td>\n",
       "    </tr>\n",
       "    <tr>\n",
       "      <th>3</th>\n",
       "      <td>2.3</td>\n",
       "      <td>q1c</td>\n",
       "      <td>q1header</td>\n",
       "      <td>grid</td>\n",
       "      <td>-</td>\n",
       "      <td>Subjective Risks</td>\n",
       "      <td>Hoe groot denkt u dat de kans is dat de volgen...</td>\n",
       "      <td>u moet naar het ziekenhuis als u wordt besmet</td>\n",
       "      <td>On a scale of 0 to 100 percent, how likely do ...</td>\n",
       "      <td>You will have to go to the hospital if you get...</td>\n",
       "      <td>float</td>\n",
       "      <td>NaN</td>\n",
       "      <td>NaN</td>\n",
       "      <td>NaN</td>\n",
       "    </tr>\n",
       "  </tbody>\n",
       "</table>\n",
       "</div>"
      ],
      "text/plain": [
       "   page     id       qid layout filter             group  \\\n",
       "0   0.0  intro     intro   open      -      Introduction   \n",
       "1   2.1    q1a  q1header   grid      -  Subjective Risks   \n",
       "2   2.2    q1b  q1header   grid      -  Subjective Risks   \n",
       "3   2.3    q1c  q1header   grid      -  Subjective Risks   \n",
       "\n",
       "                                      question_dutch  \\\n",
       "0  Deze maand krijgt u de vierde vragenlijst uit ...   \n",
       "1  Hoe groot denkt u dat de kans is dat de volgen...   \n",
       "2  Hoe groot denkt u dat de kans is dat de volgen...   \n",
       "3  Hoe groot denkt u dat de kans is dat de volgen...   \n",
       "\n",
       "                                   subquestion_dutch  \\\n",
       "0                                                NaN   \n",
       "1                                     u wordt besmet   \n",
       "2  iemand in uw directe omgeving (familie, vriend...   \n",
       "3      u moet naar het ziekenhuis als u wordt besmet   \n",
       "\n",
       "                                    question_english  \\\n",
       "0  This month you will receive the fourth questio...   \n",
       "1  On a scale of 0 to 100 percent, how likely do ...   \n",
       "2  On a scale of 0 to 100 percent, how likely do ...   \n",
       "3  On a scale of 0 to 100 percent, how likely do ...   \n",
       "\n",
       "                                 subquestion_english   type categories_dutch  \\\n",
       "0                                                NaN    NaN              NaN   \n",
       "1                               You will be infected  float              NaN   \n",
       "2  Someone in your direct environment (family, fr...  float              NaN   \n",
       "3  You will have to go to the hospital if you get...  float              NaN   \n",
       "\n",
       "  categories_english  new_name  \n",
       "0                NaN       NaN  \n",
       "1                NaN       NaN  \n",
       "2                NaN       NaN  \n",
       "3                NaN       NaN  "
      ]
     },
     "execution_count": 9,
     "metadata": {},
     "output_type": "execute_result"
    }
   ],
   "source": [
    "codebook.head(4)"
   ]
  },
  {
   "cell_type": "markdown",
   "metadata": {},
   "source": [
    "## Create Documentation\n",
    "\n",
    "Run the function for the specified inputs to add the documentation files."
   ]
  },
  {
   "cell_type": "code",
   "execution_count": 10,
   "metadata": {
    "scrolled": true
   },
   "outputs": [],
   "source": [
    "create_pages(\n",
    "    codebook,\n",
    "    waveid,\n",
    "    lanid,\n",
    "    q_ids, \n",
    "    q_filter, \n",
    "    q_groups, \n",
    "    q_layout, \n",
    "    q_text, \n",
    "    q_sub_text, \n",
    "    q_categories, \n",
    "    target_dir,\n",
    "    image_path\n",
    ")"
   ]
  },
  {
   "cell_type": "markdown",
   "metadata": {},
   "source": [
    "# Wave 5"
   ]
  },
  {
   "cell_type": "code",
   "execution_count": 1,
   "metadata": {},
   "outputs": [],
   "source": [
    "%load_ext autoreload\n",
    "%autoreload 2\n",
    "import glob\n",
    "import os\n",
    "import pathlib\n",
    "import pandas as pd\n",
    "import numpy as np\n",
    "from functions_questions import *"
   ]
  },
  {
   "cell_type": "markdown",
   "metadata": {},
   "source": [
    "### 1. Specify language and wave for the files that will be created.\n"
   ]
  },
  {
   "cell_type": "code",
   "execution_count": 11,
   "metadata": {},
   "outputs": [],
   "source": [
    "waveid = \"w5\"\n",
    "lanid = \"e\"\n",
    "language = \"english\""
   ]
  },
  {
   "cell_type": "markdown",
   "metadata": {},
   "source": [
    "### 2. Set target paths for files and images."
   ]
  },
  {
   "cell_type": "code",
   "execution_count": 12,
   "metadata": {},
   "outputs": [],
   "source": [
    "# This is where all the .rst files will be saved.\n",
    "target_dir = f\"../docs/source/wave-5/{language}/\"\n",
    "\n",
    "# The image path is defined from the perspective of the docs directory.\n",
    "image_path = \"../_screenshots/\""
   ]
  },
  {
   "cell_type": "markdown",
   "metadata": {},
   "source": [
    "#### Remove all old files in target folder."
   ]
  },
  {
   "cell_type": "code",
   "execution_count": 13,
   "metadata": {},
   "outputs": [],
   "source": [
    "for document in glob.glob(f\"{target_dir}*\"):\n",
    "    file = pathlib.Path(document)\n",
    "    file.unlink()"
   ]
  },
  {
   "cell_type": "markdown",
   "metadata": {},
   "source": [
    "### 3. Load codebook."
   ]
  },
  {
   "cell_type": "code",
   "execution_count": 14,
   "metadata": {},
   "outputs": [
    {
     "data": {
      "text/html": [
       "<div>\n",
       "<style scoped>\n",
       "    .dataframe tbody tr th:only-of-type {\n",
       "        vertical-align: middle;\n",
       "    }\n",
       "\n",
       "    .dataframe tbody tr th {\n",
       "        vertical-align: top;\n",
       "    }\n",
       "\n",
       "    .dataframe thead th {\n",
       "        text-align: right;\n",
       "    }\n",
       "</style>\n",
       "<table border=\"1\" class=\"dataframe\">\n",
       "  <thead>\n",
       "    <tr style=\"text-align: right;\">\n",
       "      <th></th>\n",
       "      <th>page</th>\n",
       "      <th>id</th>\n",
       "      <th>qid</th>\n",
       "      <th>layout</th>\n",
       "      <th>filter</th>\n",
       "      <th>group</th>\n",
       "      <th>question_dutch</th>\n",
       "      <th>subquestion_dutch</th>\n",
       "      <th>question_english</th>\n",
       "      <th>subquestion_english</th>\n",
       "      <th>type</th>\n",
       "      <th>categories_dutch</th>\n",
       "      <th>categories_english</th>\n",
       "      <th>new_name</th>\n",
       "    </tr>\n",
       "  </thead>\n",
       "  <tbody>\n",
       "    <tr>\n",
       "      <th>0</th>\n",
       "      <td>1.01</td>\n",
       "      <td>intro</td>\n",
       "      <td>intro</td>\n",
       "      <td>open</td>\n",
       "      <td>-</td>\n",
       "      <td>Introduction</td>\n",
       "      <td>Deze maand krijgt u de vijfde vragenlijst uit ...</td>\n",
       "      <td>NaN</td>\n",
       "      <td>This month you will receive the fifth question...</td>\n",
       "      <td>NaN</td>\n",
       "      <td>NaN</td>\n",
       "      <td>NaN</td>\n",
       "      <td>NaN</td>\n",
       "      <td>NaN</td>\n",
       "    </tr>\n",
       "    <tr>\n",
       "      <th>1</th>\n",
       "      <td>2.01</td>\n",
       "      <td>InfectionDiagnosed</td>\n",
       "      <td>InfectionDiagnosed</td>\n",
       "      <td>cat</td>\n",
       "      <td>-</td>\n",
       "      <td>InfectionDiagnosed</td>\n",
       "      <td>Heeft een huisarts of een ander medisch deskun...</td>\n",
       "      <td>NaN</td>\n",
       "      <td>Has a general practitioner or other medical pr...</td>\n",
       "      <td>NaN</td>\n",
       "      <td>Categorical</td>\n",
       "      <td>Ja die diagnose is bij mij gesteld,Nee,Het is ...</td>\n",
       "      <td>yes I have been diagnosed with it,no,unsure</td>\n",
       "      <td>NaN</td>\n",
       "    </tr>\n",
       "  </tbody>\n",
       "</table>\n",
       "</div>"
      ],
      "text/plain": [
       "   page                  id                 qid layout filter  \\\n",
       "0  1.01               intro               intro   open      -   \n",
       "1  2.01  InfectionDiagnosed  InfectionDiagnosed    cat      -   \n",
       "\n",
       "                group                                     question_dutch  \\\n",
       "0        Introduction  Deze maand krijgt u de vijfde vragenlijst uit ...   \n",
       "1  InfectionDiagnosed  Heeft een huisarts of een ander medisch deskun...   \n",
       "\n",
       "  subquestion_dutch                                   question_english  \\\n",
       "0               NaN  This month you will receive the fifth question...   \n",
       "1               NaN  Has a general practitioner or other medical pr...   \n",
       "\n",
       "  subquestion_english         type  \\\n",
       "0                 NaN          NaN   \n",
       "1                 NaN  Categorical   \n",
       "\n",
       "                                    categories_dutch  \\\n",
       "0                                                NaN   \n",
       "1  Ja die diagnose is bij mij gesteld,Nee,Het is ...   \n",
       "\n",
       "                            categories_english  new_name  \n",
       "0                                          NaN       NaN  \n",
       "1  yes I have been diagnosed with it,no,unsure       NaN  "
      ]
     },
     "execution_count": 14,
     "metadata": {},
     "output_type": "execute_result"
    }
   ],
   "source": [
    "codebook = pd.read_csv(\"wave-5/codebook-wave-5-english-dutch.csv\", sep = \";\")\n",
    "codebook.head(2)"
   ]
  },
  {
   "cell_type": "markdown",
   "metadata": {},
   "source": [
    "### 4. Specifiy column names that should be used to create the files.\n",
    "\n",
    "\n",
    "* **q_groups**: Name of question groups, each question group gets its own .rst file.\n",
    "* **q_ids:** Identifier for question groups.\n",
    "* **q_type**: Should contain the question type. The following types are currently accepted: [Categorical,bool, int, float, str]\n",
    "* **q_topics**: Topic groups, each topic will get its own .rst-file.\n",
    "* **q_categories:** Name of the column that contains categories for categorical questions.\n",
    "* **q_layout:** Layout of the question group. Options: [open, grid, table, multi, cat].\n",
    "* **q_filter:** Column containing q_id of a question the current question depends on/ is routed from.\n",
    "* **q_text:** Contains the actual question.\n",
    "* **q_sub_text:** Contains subquestions.\n",
    "* **q_numbers:** Used for ordering of questions and subquestions."
   ]
  },
  {
   "cell_type": "code",
   "execution_count": 15,
   "metadata": {},
   "outputs": [],
   "source": [
    "q_groups = \"group\"\n",
    "q_type = \"type\"\n",
    "q_categories = \"categories_\" + language\n",
    "q_ids = \"qid\"\n",
    "image_id =\"image_id\"\n",
    "q_layout=\"layout\"\n",
    "q_filter=\"filter\"\n",
    "q_text =\"question_\" + language\n",
    "q_sub_text=\"subquestion_\" + language\n",
    "q_numbers=\"page\""
   ]
  },
  {
   "cell_type": "markdown",
   "metadata": {},
   "source": [
    "### 5. Clean codebook from unnecessary entries."
   ]
  },
  {
   "cell_type": "code",
   "execution_count": 16,
   "metadata": {},
   "outputs": [],
   "source": [
    "# Remove questions without groups or question id.\n",
    "codebook = codebook[codebook[q_groups].notna()]\n",
    "codebook = codebook[codebook[q_ids].notna()]\n",
    "\n",
    "for val in ['Skip','questionnaire','background']:\n",
    "    codebook = codebook[codebook[q_groups] != val]"
   ]
  },
  {
   "cell_type": "code",
   "execution_count": 17,
   "metadata": {},
   "outputs": [],
   "source": [
    "# Sort questions to generate correct order in documentation.\n",
    "codebook[q_numbers] = codebook[q_numbers].astype(\"float\")\n",
    "codebook = codebook.sort_values(by=q_numbers)"
   ]
  },
  {
   "cell_type": "code",
   "execution_count": 18,
   "metadata": {
    "scrolled": true
   },
   "outputs": [
    {
     "data": {
      "text/html": [
       "<div>\n",
       "<style scoped>\n",
       "    .dataframe tbody tr th:only-of-type {\n",
       "        vertical-align: middle;\n",
       "    }\n",
       "\n",
       "    .dataframe tbody tr th {\n",
       "        vertical-align: top;\n",
       "    }\n",
       "\n",
       "    .dataframe thead th {\n",
       "        text-align: right;\n",
       "    }\n",
       "</style>\n",
       "<table border=\"1\" class=\"dataframe\">\n",
       "  <thead>\n",
       "    <tr style=\"text-align: right;\">\n",
       "      <th></th>\n",
       "      <th>page</th>\n",
       "      <th>id</th>\n",
       "      <th>qid</th>\n",
       "      <th>layout</th>\n",
       "      <th>filter</th>\n",
       "      <th>group</th>\n",
       "      <th>question_dutch</th>\n",
       "      <th>subquestion_dutch</th>\n",
       "      <th>question_english</th>\n",
       "      <th>subquestion_english</th>\n",
       "      <th>type</th>\n",
       "      <th>categories_dutch</th>\n",
       "      <th>categories_english</th>\n",
       "      <th>new_name</th>\n",
       "    </tr>\n",
       "  </thead>\n",
       "  <tbody>\n",
       "    <tr>\n",
       "      <th>0</th>\n",
       "      <td>1.01</td>\n",
       "      <td>intro</td>\n",
       "      <td>intro</td>\n",
       "      <td>open</td>\n",
       "      <td>-</td>\n",
       "      <td>Introduction</td>\n",
       "      <td>Deze maand krijgt u de vijfde vragenlijst uit ...</td>\n",
       "      <td>NaN</td>\n",
       "      <td>This month you will receive the fifth question...</td>\n",
       "      <td>NaN</td>\n",
       "      <td>NaN</td>\n",
       "      <td>NaN</td>\n",
       "      <td>NaN</td>\n",
       "      <td>NaN</td>\n",
       "    </tr>\n",
       "    <tr>\n",
       "      <th>1</th>\n",
       "      <td>2.01</td>\n",
       "      <td>InfectionDiagnosed</td>\n",
       "      <td>InfectionDiagnosed</td>\n",
       "      <td>cat</td>\n",
       "      <td>-</td>\n",
       "      <td>InfectionDiagnosed</td>\n",
       "      <td>Heeft een huisarts of een ander medisch deskun...</td>\n",
       "      <td>NaN</td>\n",
       "      <td>Has a general practitioner or other medical pr...</td>\n",
       "      <td>NaN</td>\n",
       "      <td>Categorical</td>\n",
       "      <td>Ja die diagnose is bij mij gesteld,Nee,Het is ...</td>\n",
       "      <td>yes I have been diagnosed with it,no,unsure</td>\n",
       "      <td>NaN</td>\n",
       "    </tr>\n",
       "    <tr>\n",
       "      <th>2</th>\n",
       "      <td>3.01</td>\n",
       "      <td>q1a</td>\n",
       "      <td>q1header</td>\n",
       "      <td>grid</td>\n",
       "      <td>-</td>\n",
       "      <td>Subjective Risks</td>\n",
       "      <td>Hoe groot denkt u dat de kans is dat de volgen...</td>\n",
       "      <td>u wordt besmet</td>\n",
       "      <td>What do you think the chances are that the fol...</td>\n",
       "      <td>You will be infected</td>\n",
       "      <td>int</td>\n",
       "      <td>NaN</td>\n",
       "      <td>NaN</td>\n",
       "      <td>NaN</td>\n",
       "    </tr>\n",
       "    <tr>\n",
       "      <th>3</th>\n",
       "      <td>3.02</td>\n",
       "      <td>q1b</td>\n",
       "      <td>q1header</td>\n",
       "      <td>grid</td>\n",
       "      <td>-</td>\n",
       "      <td>Subjective Risks</td>\n",
       "      <td>Hoe groot denkt u dat de kans is dat de volgen...</td>\n",
       "      <td>iemand in uw directe omgeving (familie, vriend...</td>\n",
       "      <td>What do you think the chances are that the fol...</td>\n",
       "      <td>Someone in your direct environment (family, fr...</td>\n",
       "      <td>int</td>\n",
       "      <td>NaN</td>\n",
       "      <td>NaN</td>\n",
       "      <td>NaN</td>\n",
       "    </tr>\n",
       "  </tbody>\n",
       "</table>\n",
       "</div>"
      ],
      "text/plain": [
       "   page                  id                 qid layout filter  \\\n",
       "0  1.01               intro               intro   open      -   \n",
       "1  2.01  InfectionDiagnosed  InfectionDiagnosed    cat      -   \n",
       "2  3.01                 q1a            q1header   grid      -   \n",
       "3  3.02                 q1b            q1header   grid      -   \n",
       "\n",
       "                group                                     question_dutch  \\\n",
       "0        Introduction  Deze maand krijgt u de vijfde vragenlijst uit ...   \n",
       "1  InfectionDiagnosed  Heeft een huisarts of een ander medisch deskun...   \n",
       "2    Subjective Risks  Hoe groot denkt u dat de kans is dat de volgen...   \n",
       "3    Subjective Risks  Hoe groot denkt u dat de kans is dat de volgen...   \n",
       "\n",
       "                                   subquestion_dutch  \\\n",
       "0                                                NaN   \n",
       "1                                                NaN   \n",
       "2                                     u wordt besmet   \n",
       "3  iemand in uw directe omgeving (familie, vriend...   \n",
       "\n",
       "                                    question_english  \\\n",
       "0  This month you will receive the fifth question...   \n",
       "1  Has a general practitioner or other medical pr...   \n",
       "2  What do you think the chances are that the fol...   \n",
       "3  What do you think the chances are that the fol...   \n",
       "\n",
       "                                 subquestion_english         type  \\\n",
       "0                                                NaN          NaN   \n",
       "1                                                NaN  Categorical   \n",
       "2                               You will be infected          int   \n",
       "3  Someone in your direct environment (family, fr...          int   \n",
       "\n",
       "                                    categories_dutch  \\\n",
       "0                                                NaN   \n",
       "1  Ja die diagnose is bij mij gesteld,Nee,Het is ...   \n",
       "2                                                NaN   \n",
       "3                                                NaN   \n",
       "\n",
       "                            categories_english  new_name  \n",
       "0                                          NaN       NaN  \n",
       "1  yes I have been diagnosed with it,no,unsure       NaN  \n",
       "2                                          NaN       NaN  \n",
       "3                                          NaN       NaN  "
      ]
     },
     "execution_count": 18,
     "metadata": {},
     "output_type": "execute_result"
    }
   ],
   "source": [
    "codebook.head(4)"
   ]
  },
  {
   "cell_type": "markdown",
   "metadata": {},
   "source": [
    "## Create Documentation\n",
    "\n",
    "Run the function for the specified inputs to add the documentation files."
   ]
  },
  {
   "cell_type": "code",
   "execution_count": 19,
   "metadata": {
    "scrolled": true
   },
   "outputs": [],
   "source": [
    "create_pages(\n",
    "    codebook,\n",
    "    waveid,\n",
    "    lanid,\n",
    "    q_ids, \n",
    "    q_filter, \n",
    "    q_groups, \n",
    "    q_layout, \n",
    "    q_text, \n",
    "    q_sub_text, \n",
    "    q_categories, \n",
    "    target_dir,\n",
    "    image_path\n",
    ")"
   ]
  }
 ],
 "metadata": {
  "kernelspec": {
   "display_name": "Python 3",
   "language": "python",
   "name": "python3"
  },
  "language_info": {
   "codemirror_mode": {
    "name": "ipython",
    "version": 3
   },
   "file_extension": ".py",
   "mimetype": "text/x-python",
   "name": "python",
   "nbconvert_exporter": "python",
   "pygments_lexer": "ipython3",
   "version": "3.7.6"
  },
  "toc": {
   "base_numbering": 1,
   "nav_menu": {},
   "number_sections": true,
   "sideBar": true,
   "skip_h1_title": true,
   "title_cell": "Table of Contents",
   "title_sidebar": "Contents",
   "toc_cell": true,
   "toc_position": {},
   "toc_section_display": true,
   "toc_window_display": false
  },
  "varInspector": {
   "cols": {
    "lenName": 16,
    "lenType": 16,
    "lenVar": 40
   },
   "kernels_config": {
    "python": {
     "delete_cmd_postfix": "",
     "delete_cmd_prefix": "del ",
     "library": "var_list.py",
     "varRefreshCmd": "print(var_dic_list())"
    },
    "r": {
     "delete_cmd_postfix": ") ",
     "delete_cmd_prefix": "rm(",
     "library": "var_list.r",
     "varRefreshCmd": "cat(var_dic_list()) "
    }
   },
   "types_to_exclude": [
    "module",
    "function",
    "builtin_function_or_method",
    "instance",
    "_Feature"
   ],
   "window_display": false
  }
 },
 "nbformat": 4,
 "nbformat_minor": 4
}
